{
 "cells": [
  {
   "cell_type": "markdown",
   "id": "62d93b12",
   "metadata": {},
   "source": [
    "### Description - Time Dependent model\n",
    "\n",
    "Utiliza todo o conjunto de dados ``train.csv`` para fazer a previsão daquele mês em diante. Utiliza as estratégias de previsão Multioutput, DirecRec e Direct.\n",
    "\n",
    "Objetivo de criar um arquivo para **submeter no kaggle** e avaliar a performance.\n"
   ]
  },
  {
   "cell_type": "markdown",
   "id": "f7137a27",
   "metadata": {},
   "source": [
    "### Libraries"
   ]
  },
  {
   "cell_type": "code",
   "execution_count": 1,
   "id": "86dfe7dd",
   "metadata": {},
   "outputs": [],
   "source": [
    "import matplotlib.pyplot as plt\n",
    "import numpy as np\n",
    "import pandas as pd\n",
    "import seaborn as sns\n",
    "from random import sample\n",
    "from sklearn.preprocessing import LabelEncoder\n",
    "from sklearn.linear_model import LinearRegression\n",
    "from sklearn.multioutput import MultiOutputRegressor, RegressorChain\n",
    "from sklearn.metrics import mean_squared_error\n",
    "from sklearn.model_selection import train_test_split\n",
    "from xgboost import XGBRegressor\n",
    "from statsmodels.tsa.api import ExponentialSmoothing\n",
    "from warnings import simplefilter\n",
    "simplefilter(\"ignore\")"
   ]
  },
  {
   "cell_type": "code",
   "execution_count": 2,
   "id": "b414b67a",
   "metadata": {},
   "outputs": [],
   "source": [
    "# Set Matplotlib defaults\n",
    "plt.style.use(\"seaborn-whitegrid\")\n",
    "plt.rc(\"figure\",\n",
    "       autolayout=True,\n",
    "       figsize=(8,4),\n",
    "       titlesize=18,\n",
    "       titleweight='bold',\n",
    "      )\n",
    "plt.rc(\"axes\",\n",
    "       labelweight=\"bold\",\n",
    "       labelsize=\"large\",\n",
    "       titleweight=\"bold\",\n",
    "       titlesize=16,\n",
    "       titlepad=10,\n",
    "      )\n",
    "plot_params = dict(color=\"0.75\",\n",
    "                   style=\".-\",\n",
    "                   markeredgecolor=\"0.25\",\n",
    "                   markerfacecolor=\"0.25\",\n",
    "                  )\n",
    "%config InlineBackend.figure_format = 'retina'\n"
   ]
  },
  {
   "cell_type": "markdown",
   "id": "42976d98",
   "metadata": {},
   "source": [
    "### Load datasets"
   ]
  },
  {
   "cell_type": "code",
   "execution_count": 3,
   "id": "83505e22",
   "metadata": {},
   "outputs": [
    {
     "name": "stdout",
     "output_type": "stream",
     "text": [
      "<class 'pandas.core.frame.DataFrame'>\n",
      "PeriodIndex: 122265 entries, 2019-08-01 to 2022-10-01\n",
      "Freq: D\n",
      "Data columns (total 3 columns):\n",
      " #   Column                 Non-Null Count   Dtype  \n",
      "---  ------                 --------------   -----  \n",
      " 0   cfips                  122265 non-null  int64  \n",
      " 1   microbusiness_density  122265 non-null  float64\n",
      " 2   active                 122265 non-null  int64  \n",
      "dtypes: float64(1), int64(2)\n",
      "memory usage: 3.7 MB\n",
      "None\n"
     ]
    },
    {
     "data": {
      "text/html": [
       "<div>\n",
       "<style scoped>\n",
       "    .dataframe tbody tr th:only-of-type {\n",
       "        vertical-align: middle;\n",
       "    }\n",
       "\n",
       "    .dataframe tbody tr th {\n",
       "        vertical-align: top;\n",
       "    }\n",
       "\n",
       "    .dataframe thead th {\n",
       "        text-align: right;\n",
       "    }\n",
       "</style>\n",
       "<table border=\"1\" class=\"dataframe\">\n",
       "  <thead>\n",
       "    <tr style=\"text-align: right;\">\n",
       "      <th></th>\n",
       "      <th>cfips</th>\n",
       "      <th>microbusiness_density</th>\n",
       "      <th>active</th>\n",
       "    </tr>\n",
       "    <tr>\n",
       "      <th>Month</th>\n",
       "      <th></th>\n",
       "      <th></th>\n",
       "      <th></th>\n",
       "    </tr>\n",
       "  </thead>\n",
       "  <tbody>\n",
       "    <tr>\n",
       "      <th>2019-08-01</th>\n",
       "      <td>1001</td>\n",
       "      <td>3.007682</td>\n",
       "      <td>1249</td>\n",
       "    </tr>\n",
       "    <tr>\n",
       "      <th>2019-09-01</th>\n",
       "      <td>1001</td>\n",
       "      <td>2.884870</td>\n",
       "      <td>1198</td>\n",
       "    </tr>\n",
       "    <tr>\n",
       "      <th>2019-10-01</th>\n",
       "      <td>1001</td>\n",
       "      <td>3.055843</td>\n",
       "      <td>1269</td>\n",
       "    </tr>\n",
       "  </tbody>\n",
       "</table>\n",
       "</div>"
      ],
      "text/plain": [
       "            cfips  microbusiness_density  active\n",
       "Month                                           \n",
       "2019-08-01   1001               3.007682    1249\n",
       "2019-09-01   1001               2.884870    1198\n",
       "2019-10-01   1001               3.055843    1269"
      ]
     },
     "execution_count": 3,
     "metadata": {},
     "output_type": "execute_result"
    }
   ],
   "source": [
    "cols = [\"cfips\", \"microbusiness_density\", \"active\"]\n",
    "train_df = pd.read_csv('./files/train.csv',\n",
    "                      usecols=[\"first_day_of_month\"] + cols,\n",
    "                      parse_dates=['first_day_of_month'],\n",
    "                      index_col='first_day_of_month',\n",
    "                      ).to_period('D').reindex(columns=cols)\n",
    "\n",
    "train_df.index.names = ['Month']\n",
    "# train_df = train_df.drop(\"active\", axis=1)\n",
    "\n",
    "print(train_df.info())\n",
    "train_df.head(3)"
   ]
  },
  {
   "cell_type": "code",
   "execution_count": 4,
   "id": "cc0a4135",
   "metadata": {},
   "outputs": [],
   "source": [
    "test_df = pd.read_csv('./files/test.csv')\n",
    "test_df['first_day_of_month'] = pd.to_datetime(test_df['first_day_of_month'])\n",
    "\n",
    "samp_sub_df = pd.read_csv('./files/sample_submission.csv')\n",
    "\n",
    "# econ_rates = pd.read_csv('./files/economic_rates.csv',\n",
    "#                          sep=';',\n",
    "#                          parse_dates=['Month'],\n",
    "#                          index_col='Month',\n",
    "#                         ).to_period('D')\n",
    "\n",
    "# for col in econ_rates.columns: econ_rates[col] = econ_rates[col].str.replace(',', '.').astype(np.float64) \n",
    "# display(econ_rates.head(3))\n",
    "# display(test_df.head(3))\n",
    "# display(samp_sub_df.head(3))\n"
   ]
  },
  {
   "cell_type": "code",
   "execution_count": null,
   "id": "cdff9f8d",
   "metadata": {},
   "outputs": [],
   "source": []
  },
  {
   "cell_type": "markdown",
   "id": "a041305a",
   "metadata": {},
   "source": [
    "#### Pivoted dataframe"
   ]
  },
  {
   "cell_type": "code",
   "execution_count": 5,
   "id": "a3f021f6",
   "metadata": {},
   "outputs": [
    {
     "data": {
      "text/html": [
       "<div>\n",
       "<style scoped>\n",
       "    .dataframe tbody tr th:only-of-type {\n",
       "        vertical-align: middle;\n",
       "    }\n",
       "\n",
       "    .dataframe tbody tr th {\n",
       "        vertical-align: top;\n",
       "    }\n",
       "\n",
       "    .dataframe thead th {\n",
       "        text-align: right;\n",
       "    }\n",
       "</style>\n",
       "<table border=\"1\" class=\"dataframe\">\n",
       "  <thead>\n",
       "    <tr style=\"text-align: right;\">\n",
       "      <th>cfips</th>\n",
       "      <th>1001</th>\n",
       "      <th>1003</th>\n",
       "      <th>1005</th>\n",
       "      <th>1007</th>\n",
       "      <th>1009</th>\n",
       "      <th>1011</th>\n",
       "      <th>1013</th>\n",
       "      <th>1015</th>\n",
       "      <th>1017</th>\n",
       "      <th>1019</th>\n",
       "      <th>...</th>\n",
       "      <th>56027</th>\n",
       "      <th>56029</th>\n",
       "      <th>56031</th>\n",
       "      <th>56033</th>\n",
       "      <th>56035</th>\n",
       "      <th>56037</th>\n",
       "      <th>56039</th>\n",
       "      <th>56041</th>\n",
       "      <th>56043</th>\n",
       "      <th>56045</th>\n",
       "    </tr>\n",
       "    <tr>\n",
       "      <th>Month</th>\n",
       "      <th></th>\n",
       "      <th></th>\n",
       "      <th></th>\n",
       "      <th></th>\n",
       "      <th></th>\n",
       "      <th></th>\n",
       "      <th></th>\n",
       "      <th></th>\n",
       "      <th></th>\n",
       "      <th></th>\n",
       "      <th></th>\n",
       "      <th></th>\n",
       "      <th></th>\n",
       "      <th></th>\n",
       "      <th></th>\n",
       "      <th></th>\n",
       "      <th></th>\n",
       "      <th></th>\n",
       "      <th></th>\n",
       "      <th></th>\n",
       "      <th></th>\n",
       "    </tr>\n",
       "  </thead>\n",
       "  <tbody>\n",
       "    <tr>\n",
       "      <th>2022-06-01</th>\n",
       "      <td>3.346197</td>\n",
       "      <td>8.507496</td>\n",
       "      <td>1.191678</td>\n",
       "      <td>1.275998</td>\n",
       "      <td>1.773202</td>\n",
       "      <td>0.937421</td>\n",
       "      <td>1.983687</td>\n",
       "      <td>2.724583</td>\n",
       "      <td>1.468978</td>\n",
       "      <td>1.117345</td>\n",
       "      <td>...</td>\n",
       "      <td>1.713062</td>\n",
       "      <td>6.101229</td>\n",
       "      <td>3.212966</td>\n",
       "      <td>113.19935</td>\n",
       "      <td>7.739897</td>\n",
       "      <td>2.783238</td>\n",
       "      <td>25.652266</td>\n",
       "      <td>3.906035</td>\n",
       "      <td>3.126551</td>\n",
       "      <td>1.803249</td>\n",
       "    </tr>\n",
       "    <tr>\n",
       "      <th>2022-07-01</th>\n",
       "      <td>3.437971</td>\n",
       "      <td>8.573463</td>\n",
       "      <td>1.216926</td>\n",
       "      <td>1.326588</td>\n",
       "      <td>1.831783</td>\n",
       "      <td>0.950089</td>\n",
       "      <td>2.042414</td>\n",
       "      <td>2.782648</td>\n",
       "      <td>1.548280</td>\n",
       "      <td>1.141118</td>\n",
       "      <td>...</td>\n",
       "      <td>1.766595</td>\n",
       "      <td>6.191458</td>\n",
       "      <td>3.184532</td>\n",
       "      <td>114.09351</td>\n",
       "      <td>7.884691</td>\n",
       "      <td>2.836282</td>\n",
       "      <td>25.939260</td>\n",
       "      <td>3.981813</td>\n",
       "      <td>3.225807</td>\n",
       "      <td>1.803249</td>\n",
       "    </tr>\n",
       "    <tr>\n",
       "      <th>2022-08-01</th>\n",
       "      <td>3.423852</td>\n",
       "      <td>8.491150</td>\n",
       "      <td>1.196728</td>\n",
       "      <td>1.292861</td>\n",
       "      <td>1.836289</td>\n",
       "      <td>0.962757</td>\n",
       "      <td>2.107667</td>\n",
       "      <td>2.788231</td>\n",
       "      <td>1.521846</td>\n",
       "      <td>1.131609</td>\n",
       "      <td>...</td>\n",
       "      <td>1.766595</td>\n",
       "      <td>6.221535</td>\n",
       "      <td>3.156099</td>\n",
       "      <td>113.44169</td>\n",
       "      <td>7.779387</td>\n",
       "      <td>2.811320</td>\n",
       "      <td>26.085369</td>\n",
       "      <td>3.974924</td>\n",
       "      <td>3.209264</td>\n",
       "      <td>1.785395</td>\n",
       "    </tr>\n",
       "    <tr>\n",
       "      <th>2022-09-01</th>\n",
       "      <td>3.442677</td>\n",
       "      <td>8.341701</td>\n",
       "      <td>1.206827</td>\n",
       "      <td>1.315346</td>\n",
       "      <td>1.852060</td>\n",
       "      <td>0.975424</td>\n",
       "      <td>2.166395</td>\n",
       "      <td>2.809447</td>\n",
       "      <td>1.502964</td>\n",
       "      <td>1.131609</td>\n",
       "      <td>...</td>\n",
       "      <td>1.766595</td>\n",
       "      <td>6.178568</td>\n",
       "      <td>3.170316</td>\n",
       "      <td>128.26224</td>\n",
       "      <td>7.792550</td>\n",
       "      <td>2.811320</td>\n",
       "      <td>26.090586</td>\n",
       "      <td>3.995591</td>\n",
       "      <td>3.209264</td>\n",
       "      <td>1.785395</td>\n",
       "    </tr>\n",
       "    <tr>\n",
       "      <th>2022-10-01</th>\n",
       "      <td>3.463856</td>\n",
       "      <td>8.359798</td>\n",
       "      <td>1.232074</td>\n",
       "      <td>1.287240</td>\n",
       "      <td>1.831783</td>\n",
       "      <td>0.988092</td>\n",
       "      <td>2.185970</td>\n",
       "      <td>2.800514</td>\n",
       "      <td>1.442544</td>\n",
       "      <td>1.117345</td>\n",
       "      <td>...</td>\n",
       "      <td>1.713062</td>\n",
       "      <td>6.217238</td>\n",
       "      <td>3.212966</td>\n",
       "      <td>227.75665</td>\n",
       "      <td>7.792550</td>\n",
       "      <td>2.823801</td>\n",
       "      <td>26.273220</td>\n",
       "      <td>4.009369</td>\n",
       "      <td>3.126551</td>\n",
       "      <td>1.785395</td>\n",
       "    </tr>\n",
       "  </tbody>\n",
       "</table>\n",
       "<p>5 rows × 3135 columns</p>\n",
       "</div>"
      ],
      "text/plain": [
       "cfips          1001      1003      1005      1007      1009      1011   \\\n",
       "Month                                                                    \n",
       "2022-06-01  3.346197  8.507496  1.191678  1.275998  1.773202  0.937421   \n",
       "2022-07-01  3.437971  8.573463  1.216926  1.326588  1.831783  0.950089   \n",
       "2022-08-01  3.423852  8.491150  1.196728  1.292861  1.836289  0.962757   \n",
       "2022-09-01  3.442677  8.341701  1.206827  1.315346  1.852060  0.975424   \n",
       "2022-10-01  3.463856  8.359798  1.232074  1.287240  1.831783  0.988092   \n",
       "\n",
       "cfips          1013      1015      1017      1019   ...     56027     56029  \\\n",
       "Month                                               ...                       \n",
       "2022-06-01  1.983687  2.724583  1.468978  1.117345  ...  1.713062  6.101229   \n",
       "2022-07-01  2.042414  2.782648  1.548280  1.141118  ...  1.766595  6.191458   \n",
       "2022-08-01  2.107667  2.788231  1.521846  1.131609  ...  1.766595  6.221535   \n",
       "2022-09-01  2.166395  2.809447  1.502964  1.131609  ...  1.766595  6.178568   \n",
       "2022-10-01  2.185970  2.800514  1.442544  1.117345  ...  1.713062  6.217238   \n",
       "\n",
       "cfips          56031      56033     56035     56037      56039     56041  \\\n",
       "Month                                                                      \n",
       "2022-06-01  3.212966  113.19935  7.739897  2.783238  25.652266  3.906035   \n",
       "2022-07-01  3.184532  114.09351  7.884691  2.836282  25.939260  3.981813   \n",
       "2022-08-01  3.156099  113.44169  7.779387  2.811320  26.085369  3.974924   \n",
       "2022-09-01  3.170316  128.26224  7.792550  2.811320  26.090586  3.995591   \n",
       "2022-10-01  3.212966  227.75665  7.792550  2.823801  26.273220  4.009369   \n",
       "\n",
       "cfips          56043     56045  \n",
       "Month                           \n",
       "2022-06-01  3.126551  1.803249  \n",
       "2022-07-01  3.225807  1.803249  \n",
       "2022-08-01  3.209264  1.785395  \n",
       "2022-09-01  3.209264  1.785395  \n",
       "2022-10-01  3.126551  1.785395  \n",
       "\n",
       "[5 rows x 3135 columns]"
      ]
     },
     "execution_count": 5,
     "metadata": {},
     "output_type": "execute_result"
    }
   ],
   "source": [
    "# make pivot, setting date by index and cfips in columns\n",
    "train_pivoted = train_df.drop('active', axis=1).pivot_table(index='Month', columns='cfips', values='microbusiness_density')\n",
    "train_pivoted.tail()"
   ]
  },
  {
   "cell_type": "markdown",
   "id": "37e6718a",
   "metadata": {},
   "source": [
    "### Last Value Baseline"
   ]
  },
  {
   "cell_type": "code",
   "execution_count": 6,
   "id": "0029fd38",
   "metadata": {},
   "outputs": [],
   "source": [
    "U = train_df.reset_index().sort_values(by='Month')\n",
    "last_target = U.groupby('cfips').tail(1)[['cfips', 'microbusiness_density']]\n",
    "\n",
    "last_target_dict = dict(zip(last_target['cfips'].values,\n",
    "                            last_target['microbusiness_density'].values\n",
    "                           )\n",
    "                       )\n",
    "test_df['microbusiness_density'] = test_df['cfips'].map(last_target_dict)\n",
    "test_df[['row_id', 'microbusiness_density']].to_csv('./submission_files/lastvalue_baseline.csv', index=False)\n"
   ]
  },
  {
   "cell_type": "markdown",
   "id": "0080c769",
   "metadata": {},
   "source": [
    "### Population Calculation"
   ]
  },
  {
   "cell_type": "code",
   "execution_count": 7,
   "id": "07c71c7c",
   "metadata": {},
   "outputs": [
    {
     "data": {
      "image/png": "[encoded data removed]",
      "text/plain": [
       "<Figure size 576x288 with 1 Axes>"
      ]
     },
     "metadata": {
      "image/png": {
       "height": 280,
       "width": 568
      }
     },
     "output_type": "display_data"
    }
   ],
   "source": [
    "train_df['population'] = round(100*train_df['active']/train_df['microbusiness_density'], 0)\n",
    "train_df['population'] = train_df['population'].fillna(method=\"ffill\").astype(np.int64)\n",
    "\n",
    "train_df.groupby('cfips')['population'].mean().plot(kind='hist', bins=2000, figsize=(8,4))\n",
    "plt.xlim(0,200e3)\n",
    "plt.xlabel('Population')\n",
    "plt.show();"
   ]
  },
  {
   "cell_type": "code",
   "execution_count": 8,
   "id": "38bcbf5f",
   "metadata": {},
   "outputs": [
    {
     "data": {
      "image/png": "[encoded data removed]",
      "text/plain": [
       "<Figure size 576x288 with 3 Axes>"
      ]
     },
     "metadata": {
      "image/png": {
       "height": 280,
       "width": 568
      }
     },
     "output_type": "display_data"
    }
   ],
   "source": [
    "cfip=48301\n",
    "df = train_df.loc[train_df['cfips'] == cfip]\n",
    "\n",
    "fig, axs = plt.subplots(1,3)\n",
    "df['microbusiness_density'].plot(**plot_params, ax=axs[0], ylabel='microbusiness_density')\n",
    "df['active'].plot(**plot_params, ax=axs[1], ylabel='active')\n",
    "df['population'].plot(**plot_params, ax=axs[2], ylabel='population');\n"
   ]
  },
  {
   "cell_type": "code",
   "execution_count": 9,
   "id": "26c69540",
   "metadata": {},
   "outputs": [
    {
     "data": {
      "text/html": [
       "<div>\n",
       "<style scoped>\n",
       "    .dataframe tbody tr th:only-of-type {\n",
       "        vertical-align: middle;\n",
       "    }\n",
       "\n",
       "    .dataframe tbody tr th {\n",
       "        vertical-align: top;\n",
       "    }\n",
       "\n",
       "    .dataframe thead th {\n",
       "        text-align: right;\n",
       "    }\n",
       "</style>\n",
       "<table border=\"1\" class=\"dataframe\">\n",
       "  <thead>\n",
       "    <tr style=\"text-align: right;\">\n",
       "      <th></th>\n",
       "      <th>cfips</th>\n",
       "      <th>population</th>\n",
       "      <th>year</th>\n",
       "      <th>month</th>\n",
       "    </tr>\n",
       "    <tr>\n",
       "      <th>Month</th>\n",
       "      <th></th>\n",
       "      <th></th>\n",
       "      <th></th>\n",
       "      <th></th>\n",
       "    </tr>\n",
       "  </thead>\n",
       "  <tbody>\n",
       "    <tr>\n",
       "      <th>2019-08-01</th>\n",
       "      <td>1001</td>\n",
       "      <td>41527</td>\n",
       "      <td>2019</td>\n",
       "      <td>8</td>\n",
       "    </tr>\n",
       "    <tr>\n",
       "      <th>2019-09-01</th>\n",
       "      <td>1001</td>\n",
       "      <td>41527</td>\n",
       "      <td>2019</td>\n",
       "      <td>9</td>\n",
       "    </tr>\n",
       "    <tr>\n",
       "      <th>2019-10-01</th>\n",
       "      <td>1001</td>\n",
       "      <td>41527</td>\n",
       "      <td>2019</td>\n",
       "      <td>10</td>\n",
       "    </tr>\n",
       "  </tbody>\n",
       "</table>\n",
       "</div>"
      ],
      "text/plain": [
       "            cfips  population  year  month\n",
       "Month                                     \n",
       "2019-08-01   1001       41527  2019      8\n",
       "2019-09-01   1001       41527  2019      9\n",
       "2019-10-01   1001       41527  2019     10"
      ]
     },
     "execution_count": 9,
     "metadata": {},
     "output_type": "execute_result"
    }
   ],
   "source": [
    "avg_population = train_df.groupby('cfips')[['population']].mean().sort_values('population', ascending=False)\n",
    "# avg_population.head()\n",
    "pop_year = train_df[['cfips','population']]\n",
    "pop_year['year'] = pop_year.reset_index()['Month'].dt.year.values\n",
    "pop_year['month'] = pop_year.reset_index()['Month'].dt.month.values\n",
    "pop_year.head(3)"
   ]
  },
  {
   "cell_type": "markdown",
   "id": "2c65629d",
   "metadata": {},
   "source": [
    "#### Population 2021 - Used to calculate microbusiness_density of year 2023"
   ]
  },
  {
   "cell_type": "code",
   "execution_count": 10,
   "id": "b56077f6",
   "metadata": {},
   "outputs": [
    {
     "data": {
      "text/html": [
       "<div>\n",
       "<style scoped>\n",
       "    .dataframe tbody tr th:only-of-type {\n",
       "        vertical-align: middle;\n",
       "    }\n",
       "\n",
       "    .dataframe tbody tr th {\n",
       "        vertical-align: top;\n",
       "    }\n",
       "\n",
       "    .dataframe thead th {\n",
       "        text-align: right;\n",
       "    }\n",
       "</style>\n",
       "<table border=\"1\" class=\"dataframe\">\n",
       "  <thead>\n",
       "    <tr style=\"text-align: right;\">\n",
       "      <th></th>\n",
       "      <th>GEO_ID</th>\n",
       "      <th>NAME</th>\n",
       "      <th>DP05_0021E</th>\n",
       "    </tr>\n",
       "  </thead>\n",
       "  <tbody>\n",
       "    <tr>\n",
       "      <th>1</th>\n",
       "      <td>0500000US01001</td>\n",
       "      <td>Autauga County, Alabama</td>\n",
       "      <td>44438</td>\n",
       "    </tr>\n",
       "    <tr>\n",
       "      <th>2</th>\n",
       "      <td>0500000US01003</td>\n",
       "      <td>Baldwin County, Alabama</td>\n",
       "      <td>178105</td>\n",
       "    </tr>\n",
       "    <tr>\n",
       "      <th>3</th>\n",
       "      <td>0500000US01005</td>\n",
       "      <td>Barbour County, Alabama</td>\n",
       "      <td>19995</td>\n",
       "    </tr>\n",
       "  </tbody>\n",
       "</table>\n",
       "</div>"
      ],
      "text/plain": [
       "           GEO_ID                     NAME DP05_0021E\n",
       "1  0500000US01001  Autauga County, Alabama      44438\n",
       "2  0500000US01003  Baldwin County, Alabama     178105\n",
       "3  0500000US01005  Barbour County, Alabama      19995"
      ]
     },
     "execution_count": 10,
     "metadata": {},
     "output_type": "execute_result"
    }
   ],
   "source": [
    "use_cols = ['GEO_ID', 'NAME', 'DP05_0021E']\n",
    "pop_2021 = pd.read_csv('./files/ACSDP5Y2021.DP05-Data.csv',\n",
    "                       usecols=use_cols,\n",
    "                      ).drop(0, axis=0)\n",
    "\n",
    "pop_2021.head(3)"
   ]
  },
  {
   "cell_type": "code",
   "execution_count": 11,
   "id": "ffb78177",
   "metadata": {},
   "outputs": [
    {
     "data": {
      "text/html": [
       "<div>\n",
       "<style scoped>\n",
       "    .dataframe tbody tr th:only-of-type {\n",
       "        vertical-align: middle;\n",
       "    }\n",
       "\n",
       "    .dataframe tbody tr th {\n",
       "        vertical-align: top;\n",
       "    }\n",
       "\n",
       "    .dataframe thead th {\n",
       "        text-align: right;\n",
       "    }\n",
       "</style>\n",
       "<table border=\"1\" class=\"dataframe\">\n",
       "  <thead>\n",
       "    <tr style=\"text-align: right;\">\n",
       "      <th></th>\n",
       "      <th>geo_id</th>\n",
       "      <th>county_name</th>\n",
       "      <th>population_2021</th>\n",
       "    </tr>\n",
       "  </thead>\n",
       "  <tbody>\n",
       "    <tr>\n",
       "      <th>1</th>\n",
       "      <td>1001</td>\n",
       "      <td>Autauga County, Alabama</td>\n",
       "      <td>44438</td>\n",
       "    </tr>\n",
       "    <tr>\n",
       "      <th>2</th>\n",
       "      <td>1003</td>\n",
       "      <td>Baldwin County, Alabama</td>\n",
       "      <td>178105</td>\n",
       "    </tr>\n",
       "    <tr>\n",
       "      <th>3</th>\n",
       "      <td>1005</td>\n",
       "      <td>Barbour County, Alabama</td>\n",
       "      <td>19995</td>\n",
       "    </tr>\n",
       "  </tbody>\n",
       "</table>\n",
       "</div>"
      ],
      "text/plain": [
       "   geo_id              county_name  population_2021\n",
       "1    1001  Autauga County, Alabama            44438\n",
       "2    1003  Baldwin County, Alabama           178105\n",
       "3    1005  Barbour County, Alabama            19995"
      ]
     },
     "execution_count": 11,
     "metadata": {},
     "output_type": "execute_result"
    }
   ],
   "source": [
    "# Change columns name\n",
    "pop_2021.columns = ['geo_id', 'county_name', 'population_2021']\n",
    "pop_2021['population_2021'] = pop_2021['population_2021'].astype(np.int64)\n",
    "pop_2021['geo_id'] = pop_2021['geo_id'].str.split('S', expand=True)[1]\n",
    "pop_2021['geo_id'] = pop_2021['geo_id'].astype(np.int64)\n",
    "pop_2021.head(3)"
   ]
  },
  {
   "cell_type": "markdown",
   "id": "049a19a1",
   "metadata": {},
   "source": [
    "#### DataFrame of population - forecast period"
   ]
  },
  {
   "cell_type": "code",
   "execution_count": 12,
   "id": "ddb74595",
   "metadata": {},
   "outputs": [
    {
     "data": {
      "text/html": [
       "<div>\n",
       "<style scoped>\n",
       "    .dataframe tbody tr th:only-of-type {\n",
       "        vertical-align: middle;\n",
       "    }\n",
       "\n",
       "    .dataframe tbody tr th {\n",
       "        vertical-align: top;\n",
       "    }\n",
       "\n",
       "    .dataframe thead th {\n",
       "        text-align: right;\n",
       "    }\n",
       "</style>\n",
       "<table border=\"1\" class=\"dataframe\">\n",
       "  <thead>\n",
       "    <tr style=\"text-align: right;\">\n",
       "      <th></th>\n",
       "      <th>row_id</th>\n",
       "      <th>cfips</th>\n",
       "      <th>first_day_of_month</th>\n",
       "      <th>microbusiness_density</th>\n",
       "      <th>population</th>\n",
       "    </tr>\n",
       "  </thead>\n",
       "  <tbody>\n",
       "    <tr>\n",
       "      <th>0</th>\n",
       "      <td>1001_2022-11-01</td>\n",
       "      <td>1001</td>\n",
       "      <td>2022-11-01</td>\n",
       "      <td>3.463856</td>\n",
       "      <td>42496</td>\n",
       "    </tr>\n",
       "    <tr>\n",
       "      <th>1</th>\n",
       "      <td>1003_2022-11-01</td>\n",
       "      <td>1003</td>\n",
       "      <td>2022-11-01</td>\n",
       "      <td>8.359798</td>\n",
       "      <td>171296</td>\n",
       "    </tr>\n",
       "    <tr>\n",
       "      <th>2</th>\n",
       "      <td>1005_2022-11-01</td>\n",
       "      <td>1005</td>\n",
       "      <td>2022-11-01</td>\n",
       "      <td>1.232074</td>\n",
       "      <td>19804</td>\n",
       "    </tr>\n",
       "  </tbody>\n",
       "</table>\n",
       "</div>"
      ],
      "text/plain": [
       "            row_id  cfips first_day_of_month  microbusiness_density  \\\n",
       "0  1001_2022-11-01   1001         2022-11-01               3.463856   \n",
       "1  1003_2022-11-01   1003         2022-11-01               8.359798   \n",
       "2  1005_2022-11-01   1005         2022-11-01               1.232074   \n",
       "\n",
       "   population  \n",
       "0       42496  \n",
       "1      171296  \n",
       "2       19804  "
      ]
     },
     "execution_count": 12,
     "metadata": {},
     "output_type": "execute_result"
    }
   ],
   "source": [
    "# take the population of year 2022\n",
    "pop_2022 = pop_year[(pop_year['year'] == 2022) & (pop_year['month'] == 2)]\n",
    "pop_2020_dict = dict(zip(pop_2022['cfips'].values, pop_2022['population'].values))\n",
    "\n",
    "# dicionary with values population by cfips in 2023 \n",
    "pop_2021_dict = dict(zip(pop_2021['geo_id'].values, pop_2021['population_2021'].values))\n",
    "\n",
    "# Map the population to the test_df dataframe\n",
    "pop_forecast = test_df.copy()\n",
    "pop_forecast['year'] = pop_forecast['first_day_of_month'].dt.year.values\n",
    "\n",
    "pop_forecast_2022 = pop_forecast[pop_forecast['year'] == 2022]\n",
    "pop_forecast_2023 = pop_forecast[pop_forecast['year'] == 2023]\n",
    "\n",
    "pop_forecast_2022['population'] = pop_forecast_2022['cfips'].map(pop_2020_dict)\n",
    "pop_forecast_2023['population'] = pop_forecast_2023['cfips'].map(pop_2021_dict)\n",
    "\n",
    "pop_forecast = pd.concat([pop_forecast_2022, pop_forecast_2023], axis=0)\n",
    "\n",
    "# dataframe with the respective population by year and cfips\n",
    "test_df = test_df.merge(pop_forecast[['row_id','population']], how=\"left\", on=\"row_id\")\n",
    "test_df.head(3)\n"
   ]
  },
  {
   "cell_type": "markdown",
   "id": "654f48aa",
   "metadata": {},
   "source": [
    "### Active Analysis"
   ]
  },
  {
   "cell_type": "code",
   "execution_count": 13,
   "id": "a6fea058",
   "metadata": {},
   "outputs": [
    {
     "name": "stdout",
     "output_type": "stream",
     "text": [
      "3135 3135\n"
     ]
    }
   ],
   "source": [
    "# average active businesses in each cfip\n",
    "avg_active = train_df.groupby('cfips')[['active']].mean().sort_values(by='active', ascending=False)\n",
    "active_over2000 = avg_active[avg_active >= 2000]\n",
    "active_under2000 = avg_active[avg_active < 2000]\n",
    "print(len(active_over2000), len(active_under2000))"
   ]
  },
  {
   "cell_type": "code",
   "execution_count": 14,
   "id": "f10d7224",
   "metadata": {},
   "outputs": [
    {
     "data": {
      "image/png": "[encoded data removed]",
      "text/plain": [
       "<Figure size 576x288 with 1 Axes>"
      ]
     },
     "metadata": {
      "image/png": {
       "height": 280,
       "width": 568
      }
     },
     "output_type": "display_data"
    }
   ],
   "source": [
    "active_grouped = train_df.groupby('cfips')[['active']].mean()\n",
    "active_grouped.plot(kind='hist', bins=5000, figsize=(8,4))\n",
    "plt.xlim(0, 10e3)\n",
    "plt.xlabel('Active')\n",
    "plt.legend([])\n",
    "plt.show();"
   ]
  },
  {
   "cell_type": "markdown",
   "id": "9bfa8dcd",
   "metadata": {},
   "source": [
    "#### Divide cfips in classes by nº active_businesses"
   ]
  },
  {
   "cell_type": "code",
   "execution_count": 15,
   "id": "905b276a",
   "metadata": {},
   "outputs": [
    {
     "name": "stdout",
     "output_type": "stream",
     "text": [
      "(log_mean, log_std):  (6.4308492512682935, 2.0094165966087854)\n",
      "(std_low, std_sup):  (4.421432654659508, 8.440265847877079)\n",
      "(2*std_low, 2*std_sup):  (2.412016058050723, 10.449682444485864)\n"
     ]
    },
    {
     "data": {
      "image/png": "[encoded data removed]",
      "text/plain": [
       "<Figure size 576x288 with 1 Axes>"
      ]
     },
     "metadata": {
      "image/png": {
       "height": 280,
       "width": 568
      }
     },
     "output_type": "display_data"
    }
   ],
   "source": [
    "log_active_grouped = pd.Series(np.log(active_grouped.values.flatten()), index=active_grouped.index)\n",
    "\n",
    "(log_mean, log_std) = (log_active_grouped.mean(), log_active_grouped.std())\n",
    "(std_low, std_sup) = (log_mean - log_std, log_mean + log_std)\n",
    "(std2_low, std2_sup) = (log_mean - 2*log_std, log_mean + 2*log_std)\n",
    "\n",
    "print('(log_mean, log_std): ', (log_mean, log_std))\n",
    "print('(std_low, std_sup): ', (std_low, std_sup))\n",
    "print('(2*std_low, 2*std_sup): ', (std2_low, std2_sup))\n",
    "\n",
    "log_active_grouped.plot(kind='hist', bins=51, figsize=(8,4))\n",
    "plt.xlabel('log_active')\n",
    "plt.show();"
   ]
  },
  {
   "cell_type": "code",
   "execution_count": 16,
   "id": "eb511a03",
   "metadata": {},
   "outputs": [
    {
     "data": {
      "text/html": [
       "<div>\n",
       "<style scoped>\n",
       "    .dataframe tbody tr th:only-of-type {\n",
       "        vertical-align: middle;\n",
       "    }\n",
       "\n",
       "    .dataframe tbody tr th {\n",
       "        vertical-align: top;\n",
       "    }\n",
       "\n",
       "    .dataframe thead th {\n",
       "        text-align: right;\n",
       "    }\n",
       "</style>\n",
       "<table border=\"1\" class=\"dataframe\">\n",
       "  <thead>\n",
       "    <tr style=\"text-align: right;\">\n",
       "      <th></th>\n",
       "      <th>active</th>\n",
       "      <th>class</th>\n",
       "    </tr>\n",
       "    <tr>\n",
       "      <th>cfips</th>\n",
       "      <th></th>\n",
       "      <th></th>\n",
       "    </tr>\n",
       "  </thead>\n",
       "  <tbody>\n",
       "    <tr>\n",
       "      <th>1001</th>\n",
       "      <td>1331.717949</td>\n",
       "      <td>med_high</td>\n",
       "    </tr>\n",
       "    <tr>\n",
       "      <th>1003</th>\n",
       "      <td>13064.538462</td>\n",
       "      <td>high</td>\n",
       "    </tr>\n",
       "    <tr>\n",
       "      <th>1005</th>\n",
       "      <td>222.102564</td>\n",
       "      <td>med_low</td>\n",
       "    </tr>\n",
       "  </tbody>\n",
       "</table>\n",
       "</div>"
      ],
      "text/plain": [
       "             active     class\n",
       "cfips                        \n",
       "1001    1331.717949  med_high\n",
       "1003   13064.538462      high\n",
       "1005     222.102564   med_low"
      ]
     },
     "execution_count": 16,
     "metadata": {},
     "output_type": "execute_result"
    }
   ],
   "source": [
    "active_grouped['class'] = pd.cut(active_grouped.squeeze(),\n",
    "                                 bins=[0, np.exp(std2_low), np.exp(std_low), np.exp(log_mean),\n",
    "                                       np.exp(std_sup), np.exp(std2_sup), np.inf],\n",
    "                                 labels=['extra_low', 'low', 'med_low',\n",
    "                                         'med_high', 'high', 'extra_high'])\n",
    "\n",
    "active_grouped.head(3)"
   ]
  },
  {
   "cell_type": "code",
   "execution_count": 17,
   "id": "25127f2c",
   "metadata": {},
   "outputs": [
    {
     "data": {
      "text/plain": [
       "med_low       1251\n",
       "med_high       912\n",
       "low            427\n",
       "high           383\n",
       "extra_high     129\n",
       "extra_low       33\n",
       "Name: class, dtype: int64"
      ]
     },
     "execution_count": 17,
     "metadata": {},
     "output_type": "execute_result"
    }
   ],
   "source": [
    "active_grouped['class'].value_counts()"
   ]
  },
  {
   "cell_type": "markdown",
   "id": "4bd7a14e",
   "metadata": {},
   "source": [
    "### Functions and Models"
   ]
  },
  {
   "cell_type": "markdown",
   "id": "ec26c29d",
   "metadata": {},
   "source": [
    "#### R2 linear regression"
   ]
  },
  {
   "cell_type": "code",
   "execution_count": 18,
   "id": "8358f738",
   "metadata": {},
   "outputs": [],
   "source": [
    "def R2_metric(df, ts_df):\n",
    "    \n",
    "    R2_error = []\n",
    "\n",
    "    for cfip in df.index:\n",
    "\n",
    "        ts = ts_df.loc[ts_df.cfips == cfip]\n",
    "        \n",
    "        # Fit linear regression on the period of fev-2021 and forward\n",
    "        x = np.arange(18,39).reshape(21,1)\n",
    "        y = ts['active'].iloc[18:]\n",
    "        model = LinearRegression().fit(x, y)\n",
    "        R2_error.append(model.score(x,y))\n",
    "\n",
    "    df['R2_fev2021_forward'] = R2_error\n",
    "    \n",
    "    return df.sort_values('R2_fev2021_forward', ascending=False)"
   ]
  },
  {
   "cell_type": "markdown",
   "id": "394b5b35",
   "metadata": {},
   "source": [
    "#### Submission File"
   ]
  },
  {
   "cell_type": "code",
   "execution_count": 19,
   "id": "d243e15f",
   "metadata": {},
   "outputs": [],
   "source": [
    "def sub_file(df_test, df_pred):\n",
    "    \n",
    "    # assert row_id by cfip active in pred_forecast dataframe\n",
    "    df_pred = pd.concat({'active': df_pred}, names=[None, 'cfips'], axis=1)\n",
    "    df_pred = df_pred.stack().reset_index()    \n",
    "    df_pred[\"Month\"] = df_pred[\"Month\"].astype(str)\n",
    "    df_pred[\"cfips\"] = df_pred[\"cfips\"].astype(str)\n",
    "    df_pred[\"row_id\"] = df_pred[\"cfips\"] + \"_\" + df_pred[\"Month\"]    \n",
    "    df_pred = df_pred.drop([\"Month\", \"cfips\"], axis=1).reindex(columns=['row_id', 'active'])\n",
    "    \n",
    "    # map the population in the forecast dataframe and calculate the microbusiness_density\n",
    "    pop_dict = dict(zip(df_test['row_id'], df_test['population']))\n",
    "    df_pred['population'] = df_pred['row_id'].map(pop_dict)\n",
    "    df_pred['microbusiness_density'] = 100 * df_pred['active'] / df_pred['population']\n",
    "    df_pred = df_pred[['row_id', 'microbusiness_density']]\n",
    "    \n",
    "    # take the row_id's on df_test that donn´t are in df_pred \n",
    "    df_test = df_test[['row_id', 'microbusiness_density']]\n",
    "    orign_microb = df_test[~df_test['row_id'].isin(df_pred['row_id'])]\n",
    "    \n",
    "    sub_final = df_test[['row_id']].merge(pd.concat([orign_microb, df_pred], axis=0), how=\"left\", on=\"row_id\")\n",
    "    empty_values = sub_final.isna().sum().sum()\n",
    "    \n",
    "    return empty_values, sub_final\n"
   ]
  },
  {
   "cell_type": "markdown",
   "id": "fb3c0c20",
   "metadata": {},
   "source": [
    "#### Linear Regression model"
   ]
  },
  {
   "cell_type": "code",
   "execution_count": 20,
   "id": "dc464539",
   "metadata": {},
   "outputs": [],
   "source": [
    "def adj_linearregression_model(error_class_df, ts_class_df):\n",
    "    \n",
    "    # dataframe with forecasteds values\n",
    "    pred_forecast = pd.DataFrame(index=pd.date_range('2022-11-01', '2023-06-01', freq='MS'))\n",
    "    pred_forecast.index.names = [\"Month\"]\n",
    "\n",
    "    for cfip in error_class_df.index[:50]:\n",
    "\n",
    "        df = ts_class_df[ts_class_df['cfips'] == cfip]\n",
    "\n",
    "        # Fit linear regression on the period of fev-2021 and forward\n",
    "        x = np.arange(18,39).reshape(21,1)\n",
    "        x_fore = np.arange(39,47).reshape(8,1)\n",
    "        y = df['active'].iloc[18:]\n",
    "\n",
    "        model = LinearRegression().fit(x, y)\n",
    "\n",
    "        linreg_fit = pd.Series(model.predict(x), index=y.index)\n",
    "        linreg_fore = pd.Series(model.predict(x_fore), index=pd.date_range('2022-11-01', '2023-06-01', freq='MS'))\n",
    "\n",
    "        # Adjust trend starting from the last point\n",
    "        y_fore_adj = (model.coef_[0])*(x_fore - 38) + y.iloc[-1]\n",
    "        linreg_fore_adj = pd.Series(y_fore_adj.flatten(), index=linreg_fore.index)\n",
    "\n",
    "        pred_forecast[cfip] = linreg_fore_adj\n",
    "\n",
    "    return pred_forecast.clip(0.0)\n"
   ]
  },
  {
   "cell_type": "markdown",
   "id": "743bd090",
   "metadata": {},
   "source": [
    "#### Exponencial Smoothing model\n",
    "\n",
    "Direct-recursive forecasting strategy with clipping by std()\n"
   ]
  },
  {
   "cell_type": "code",
   "execution_count": 21,
   "id": "6cb6a542",
   "metadata": {},
   "outputs": [],
   "source": [
    "def clip_exp_smoothing_model(error_class_df, ts_class_df):\n",
    "    \n",
    "    # dataframe with forecasteds values\n",
    "    pred_forecast = pd.DataFrame(index=pd.date_range('2022-11-01', '2023-06-01', freq='MS'))\n",
    "    pred_forecast.index.names = [\"Month\"]\n",
    "\n",
    "    for cfip in error_class_df.index[:]:\n",
    "\n",
    "        df = ts_class_df[ts_class_df['cfips'] == cfip].copy()\n",
    "        df.index = df.index.to_timestamp()\n",
    "        df = df['active'].iloc[18:]\n",
    "        mean_var = df.iloc[18:].pct_change().mean() # mean variation of values\n",
    "        std_var = df.iloc[18:].pct_change().std()  # standard deviation of values\n",
    "\n",
    "        ets_fore = []\n",
    "        for _ in range(1, 9):  #number of forecasts is 8, so will loop 8 times\n",
    "\n",
    "            model = ExponentialSmoothing(df, trend='mul', damped_trend=True, seasonal=None,\n",
    "                                         seasonal_periods=12, initialization_method='estimated',\n",
    "                                        ).fit()#optimized=True,\n",
    "                                               #use_brute=True,\n",
    "                                               #remove_bias=True,\n",
    "                                               #method='bh')\n",
    "\n",
    "            forecast = model.forecast(1).clip(lower= df[-1]*(1 + mean_var - std_var),\n",
    "                                              upper= df[-1]*(1 + mean_var + std_var))\n",
    "\n",
    "            df = pd.concat([df, forecast], axis=0)\n",
    "            ets_fore.append(forecast)\n",
    "\n",
    "        pred_forecast[cfip] = pd.concat(ets_fore, axis=0)\n",
    "\n",
    "    return pred_forecast.clip(0.0)\n"
   ]
  },
  {
   "cell_type": "markdown",
   "id": "5cf3ebf8",
   "metadata": {},
   "source": [
    "#### Multiclass model"
   ]
  },
  {
   "cell_type": "code",
   "execution_count": 22,
   "id": "91c0ce10",
   "metadata": {},
   "outputs": [],
   "source": [
    "def lm_model(cfip, error_class_df, ts_class_df, fore_period):\n",
    "    \n",
    "    df = ts_class_df[ts_class_df['cfips'] == cfip].copy()\n",
    "\n",
    "    # Fit linear regression on the period of fev-2021 and forward\n",
    "    x = np.arange(18,39).reshape(21,1)\n",
    "    x_fore = np.arange(39,47).reshape(8,1)\n",
    "    y = df['active'].iloc[18:]\n",
    "    model = LinearRegression().fit(x, y)\n",
    "\n",
    "    linreg_fit = pd.Series(model.predict(x), index= y.index)\n",
    "    linreg_fore = pd.Series(model.predict(x_fore), index= fore_period)\n",
    "\n",
    "    # Adjust trend starting from the last point\n",
    "    y_fore_adj = (model.coef_[0])*(x_fore - 38) + y.iloc[-1]\n",
    "    linreg_fore_adj = pd.Series(y_fore_adj.flatten(), index= linreg_fore.index)    \n",
    "    \n",
    "    return linreg_fore_adj\n"
   ]
  },
  {
   "cell_type": "code",
   "execution_count": 23,
   "id": "bec38ac7",
   "metadata": {},
   "outputs": [],
   "source": [
    "def ets_model(cfip, error_class_df, ts_class_df, fore_period):\n",
    "    \n",
    "    df = ts_class_df[ts_class_df['cfips'] == cfip].copy()\n",
    "    df.index = df.index.to_timestamp()\n",
    "    df = df['active'].iloc[18:]\n",
    "    mean_var = df.iloc[18:].pct_change().mean() # mean variation of values\n",
    "    std_var = df.iloc[18:].pct_change().std()  # standard deviation of values\n",
    "\n",
    "    ets_fore = []\n",
    "    for _ in range(len(fore_period)):  #number of forecasts is 8, so will loop 8 times\n",
    "\n",
    "        model = ExponentialSmoothing(df, trend='add', damped_trend=True, seasonal=None,\n",
    "                                     seasonal_periods=12, initialization_method='estimated',\n",
    "                                    ).fit()#optimized=True,\n",
    "                                           #use_brute=True,\n",
    "                                           #remove_bias=True,\n",
    "                                           #method='bh')\n",
    "\n",
    "        forecast = model.forecast(1).clip(lower= df[-1]*(1 + mean_var - std_var),\n",
    "                                          upper= df[-1]*(1 + mean_var + std_var))\n",
    "\n",
    "        df = pd.concat([df, forecast], axis=0)\n",
    "        ets_fore.append(forecast)\n",
    "\n",
    "    return pd.concat(ets_fore, axis=0)\n"
   ]
  },
  {
   "cell_type": "code",
   "execution_count": 24,
   "id": "0c491f86",
   "metadata": {},
   "outputs": [],
   "source": [
    "def lv_model(cfip, error_class_df, ts_class_df, fore_period):\n",
    "    \n",
    "    last_value = pd.Series(index= fore_period, name= cfip)\n",
    "    \n",
    "    df = ts_class_df[ts_class_df['cfips'] == cfip].copy()\n",
    "    df = df['active']\n",
    "    last_value.loc[:] = df[-1]\n",
    "    \n",
    "    return last_value"
   ]
  },
  {
   "cell_type": "code",
   "execution_count": 25,
   "id": "fd6f815b",
   "metadata": {},
   "outputs": [],
   "source": [
    "def multiclass_model(error_class_df, ts_class_df):\n",
    "    \n",
    "    # dataframe with forecasteds values\n",
    "    fore_period = pd.date_range('2022-11-01', '2023-06-01', freq='MS')\n",
    "    pred_forecast = pd.DataFrame(index= fore_period)\n",
    "    pred_forecast.index.names = [\"Month\"]\n",
    "\n",
    "    for cfip in error_class_df.index:\n",
    "        \n",
    "        # take best model setted for each cfip\n",
    "        model = error_class_df.loc[cfip, 'model']\n",
    "        \n",
    "        if model == 'linreg':            \n",
    "            pred_forecast[cfip] = lm_model(cfip, error_class_df, ts_class_df, fore_period)\n",
    "        \n",
    "        elif model == 'ets_add_true_none':\n",
    "            pred_forecast[cfip] = ets_model(cfip, error_class_df, ts_class_df, fore_period)\n",
    "        \n",
    "        else:\n",
    "            pred_forecast[cfip] = lv_model(cfip, error_class_df, ts_class_df, fore_period)\n",
    "            \n",
    "    return pred_forecast.clip(0.0)\n"
   ]
  },
  {
   "cell_type": "markdown",
   "id": "9f9e6f24",
   "metadata": {},
   "source": [
    "### Extract cfips by class"
   ]
  },
  {
   "cell_type": "code",
   "execution_count": 26,
   "id": "c3f66717",
   "metadata": {
    "scrolled": false
   },
   "outputs": [],
   "source": [
    "#extract cfips by class\n",
    "# classes_df = active_grouped[active_grouped['class'].isin(['extra_high', 'high'])].sort_values(by='active', ascending=False)\n",
    "\n",
    "# # time series for each cfips in df\n",
    "# ts_df = train_df.loc[train_df['cfips'].isin(df.index)]\n",
    "\n",
    "# df = R2_metric(classes_df, ts_df)\n",
    "\n",
    "# # download the data\n",
    "# df.to_csv('./files/cfips_high-extrahigh_class.csv', index=True, header=True)\n",
    "\n",
    "# Plot\n",
    "# df['R2_fev2021_forward'].clip(0.8).hist(bins=41);\n",
    "# U = df.loc[df.R2_fev2021_forward > 0.95]\n",
    "# len(U)\n",
    "\n",
    "# for i in U.index[:]:\n",
    "#     ts_df.loc[ts_df.cfips==i, 'active'].plot(**plot_params, title=f'{i}')\n",
    "#     plt.show()\n",
    "# U.head(30)"
   ]
  },
  {
   "cell_type": "markdown",
   "id": "da5bf028",
   "metadata": {},
   "source": [
    "### 1 - \"Extra High\" class forecasting"
   ]
  },
  {
   "cell_type": "markdown",
   "id": "7982fe09",
   "metadata": {},
   "source": [
    "####  Previous analysis"
   ]
  },
  {
   "cell_type": "code",
   "execution_count": 39,
   "id": "b13c15c5",
   "metadata": {},
   "outputs": [
    {
     "name": "stdout",
     "output_type": "stream",
     "text": [
      "extra_high shape:  (129, 2)\n"
     ]
    },
    {
     "data": {
      "text/html": [
       "<div>\n",
       "<style scoped>\n",
       "    .dataframe tbody tr th:only-of-type {\n",
       "        vertical-align: middle;\n",
       "    }\n",
       "\n",
       "    .dataframe tbody tr th {\n",
       "        vertical-align: top;\n",
       "    }\n",
       "\n",
       "    .dataframe thead th {\n",
       "        text-align: right;\n",
       "    }\n",
       "</style>\n",
       "<table border=\"1\" class=\"dataframe\">\n",
       "  <thead>\n",
       "    <tr style=\"text-align: right;\">\n",
       "      <th></th>\n",
       "      <th>active</th>\n",
       "      <th>class</th>\n",
       "    </tr>\n",
       "    <tr>\n",
       "      <th>cfips</th>\n",
       "      <th></th>\n",
       "      <th></th>\n",
       "    </tr>\n",
       "  </thead>\n",
       "  <tbody>\n",
       "    <tr>\n",
       "      <th>6037</th>\n",
       "      <td>1.124174e+06</td>\n",
       "      <td>extra_high</td>\n",
       "    </tr>\n",
       "    <tr>\n",
       "      <th>4013</th>\n",
       "      <td>4.676466e+05</td>\n",
       "      <td>extra_high</td>\n",
       "    </tr>\n",
       "    <tr>\n",
       "      <th>36061</th>\n",
       "      <td>4.601021e+05</td>\n",
       "      <td>extra_high</td>\n",
       "    </tr>\n",
       "  </tbody>\n",
       "</table>\n",
       "</div>"
      ],
      "text/plain": [
       "             active       class\n",
       "cfips                          \n",
       "6037   1.124174e+06  extra_high\n",
       "4013   4.676466e+05  extra_high\n",
       "36061  4.601021e+05  extra_high"
      ]
     },
     "execution_count": 39,
     "metadata": {},
     "output_type": "execute_result"
    }
   ],
   "source": [
    "extra_high = active_grouped[active_grouped['class'] == 'extra_high'].sort_values(by='active', ascending=False)\n",
    "print('extra_high shape: ', extra_high.shape)\n",
    "extra_high.head(3)"
   ]
  },
  {
   "cell_type": "code",
   "execution_count": 40,
   "id": "eca78b62",
   "metadata": {},
   "outputs": [
    {
     "name": "stdout",
     "output_type": "stream",
     "text": [
      "Looking the consolidated plot, we see a clear upper trend (linear or exponential like), but no clear seasonality!\n"
     ]
    },
    {
     "data": {
      "image/png": "[encoded data removed]",
      "text/plain": [
       "<Figure size 576x288 with 1 Axes>"
      ]
     },
     "metadata": {
      "image/png": {
       "height": 280,
       "width": 568
      }
     },
     "output_type": "display_data"
    }
   ],
   "source": [
    "# filter the cfips extra high in the train_df dataset\n",
    "ts_extrahigh = train_df[train_df['cfips'].isin(extra_high.index)]\n",
    "ts_extrahigh['active_mean'] = ts_extrahigh.groupby('cfips')['active'].transform('mean')\n",
    "ts_extrahigh['active_norm'] = ts_extrahigh['active'] / ts_extrahigh['active_mean']\n",
    "\n",
    "ts_extrahigh.groupby('Month')['active_norm'].mean().plot(**plot_params, ylabel='active normalized', title='\"Extra High\" cfips', label='data')\n",
    "ts_extrahigh.groupby('Month')['active_norm'].mean().rolling(4, center=True).mean().plot(label='mov_avg(4)')\n",
    "plt.xlim(None, '2023-01-01')\n",
    "plt.ylim(None, 1.08)\n",
    "plt.legend(loc='upper left');\n",
    "print(\"Looking the consolidated plot, we see a clear upper trend (linear or exponential like), but no clear seasonality!\")"
   ]
  },
  {
   "cell_type": "markdown",
   "id": "7797b810",
   "metadata": {},
   "source": [
    "#### R² linear_regression error"
   ]
  },
  {
   "cell_type": "code",
   "execution_count": 41,
   "id": "da5752e8",
   "metadata": {},
   "outputs": [
    {
     "data": {
      "text/plain": [
       "not_outlier    95\n",
       "outlier        34\n",
       "Name: group_type, dtype: int64"
      ]
     },
     "execution_count": 41,
     "metadata": {},
     "output_type": "execute_result"
    }
   ],
   "source": [
    "R2_error = []\n",
    "\n",
    "for cfip in extra_high.index:\n",
    "    \n",
    "    df = ts_extrahigh[ts_extrahigh['cfips'] == cfip]\n",
    "    \n",
    "    # Fit linear regression on the period of fev-2021 and forward\n",
    "    x = np.arange(18,39).reshape(21,1)\n",
    "    y = df['active'].iloc[18:]\n",
    "    model = LinearRegression().fit(x, y)\n",
    "    R2_error.append(model.score(x,y))\n",
    "\n",
    "extra_high['R2_error_fev2021'] = R2_error\n",
    "extra_high = extra_high.sort_values('R2_error_fev2021', ascending=False)\n",
    "extra_high['group_type'] = pd.cut(extra_high['R2_error_fev2021'], bins=[0, .8, 1], labels=['outlier', 'not_outlier'])\n",
    "extra_high['group_type'].value_counts()"
   ]
  },
  {
   "cell_type": "code",
   "execution_count": 42,
   "id": "56781987",
   "metadata": {},
   "outputs": [
    {
     "data": {
      "text/html": [
       "<div>\n",
       "<style scoped>\n",
       "    .dataframe tbody tr th:only-of-type {\n",
       "        vertical-align: middle;\n",
       "    }\n",
       "\n",
       "    .dataframe tbody tr th {\n",
       "        vertical-align: top;\n",
       "    }\n",
       "\n",
       "    .dataframe thead th {\n",
       "        text-align: right;\n",
       "    }\n",
       "</style>\n",
       "<table border=\"1\" class=\"dataframe\">\n",
       "  <thead>\n",
       "    <tr style=\"text-align: right;\">\n",
       "      <th></th>\n",
       "      <th>R2_error_fev2021</th>\n",
       "      <th>microbusiness_density</th>\n",
       "    </tr>\n",
       "    <tr>\n",
       "      <th>cfips</th>\n",
       "      <th></th>\n",
       "      <th></th>\n",
       "    </tr>\n",
       "  </thead>\n",
       "  <tbody>\n",
       "    <tr>\n",
       "      <th>12011</th>\n",
       "      <td>0.988029</td>\n",
       "      <td>18.382557</td>\n",
       "    </tr>\n",
       "    <tr>\n",
       "      <th>48157</th>\n",
       "      <td>0.985685</td>\n",
       "      <td>11.058170</td>\n",
       "    </tr>\n",
       "    <tr>\n",
       "      <th>31055</th>\n",
       "      <td>0.983485</td>\n",
       "      <td>11.045280</td>\n",
       "    </tr>\n",
       "    <tr>\n",
       "      <th>9001</th>\n",
       "      <td>0.978971</td>\n",
       "      <td>14.733599</td>\n",
       "    </tr>\n",
       "    <tr>\n",
       "      <th>6111</th>\n",
       "      <td>0.976011</td>\n",
       "      <td>14.970667</td>\n",
       "    </tr>\n",
       "    <tr>\n",
       "      <th>...</th>\n",
       "      <td>...</td>\n",
       "      <td>...</td>\n",
       "    </tr>\n",
       "    <tr>\n",
       "      <th>41051</th>\n",
       "      <td>0.104176</td>\n",
       "      <td>10.975497</td>\n",
       "    </tr>\n",
       "    <tr>\n",
       "      <th>12001</th>\n",
       "      <td>0.050915</td>\n",
       "      <td>21.545587</td>\n",
       "    </tr>\n",
       "    <tr>\n",
       "      <th>8031</th>\n",
       "      <td>0.023476</td>\n",
       "      <td>16.378688</td>\n",
       "    </tr>\n",
       "    <tr>\n",
       "      <th>12099</th>\n",
       "      <td>0.012051</td>\n",
       "      <td>17.792793</td>\n",
       "    </tr>\n",
       "    <tr>\n",
       "      <th>13135</th>\n",
       "      <td>0.000305</td>\n",
       "      <td>11.698561</td>\n",
       "    </tr>\n",
       "  </tbody>\n",
       "</table>\n",
       "<p>129 rows × 2 columns</p>\n",
       "</div>"
      ],
      "text/plain": [
       "       R2_error_fev2021  microbusiness_density\n",
       "cfips                                         \n",
       "12011          0.988029              18.382557\n",
       "48157          0.985685              11.058170\n",
       "31055          0.983485              11.045280\n",
       "9001           0.978971              14.733599\n",
       "6111           0.976011              14.970667\n",
       "...                 ...                    ...\n",
       "41051          0.104176              10.975497\n",
       "12001          0.050915              21.545587\n",
       "8031           0.023476              16.378688\n",
       "12099          0.012051              17.792793\n",
       "13135          0.000305              11.698561\n",
       "\n",
       "[129 rows x 2 columns]"
      ]
     },
     "execution_count": 42,
     "metadata": {},
     "output_type": "execute_result"
    }
   ],
   "source": [
    "dt = ts_extrahigh.groupby('cfips')['microbusiness_density'].mean().sort_values(ascending=False).copy()\n",
    "extra_high['microbusiness_density'] = extra_high.index.map(dt)\n",
    "extra_high[['R2_error_fev2021','microbusiness_density']]\n"
   ]
  },
  {
   "cell_type": "code",
   "execution_count": null,
   "id": "339a564b",
   "metadata": {},
   "outputs": [],
   "source": [
    "','.join([str(i) for i in extra_high.index])"
   ]
  },
  {
   "cell_type": "markdown",
   "id": "ee4fb1ed",
   "metadata": {},
   "source": [
    "#### Linear regression - Forecasting"
   ]
  },
  {
   "cell_type": "code",
   "execution_count": null,
   "id": "d3dce072",
   "metadata": {},
   "outputs": [],
   "source": [
    "linreg_forecast = adj_linearregression_model(extra_high, ts_extrahigh)\n",
    "emp_vals, sub_df = sub_file(test_df, linreg_forecast)\n",
    "\n",
    "# save submmission file\n",
    "# sub_df.to_csv('./submission_files/submission_timedep_linregadj_extrahigh_80plus_v1.csv', header=True, sep=\",\", index=False)\n",
    "\n",
    "print(\"Empty values in submission file: \", emp_vals)\n",
    "sub_df.head()"
   ]
  },
  {
   "cell_type": "markdown",
   "id": "2bd06a5c",
   "metadata": {},
   "source": [
    "#### Exponential Smoothing - Forecasting"
   ]
  },
  {
   "cell_type": "code",
   "execution_count": null,
   "id": "90ae4a6f",
   "metadata": {},
   "outputs": [],
   "source": [
    "ets_forecast = clip_exp_smoothing_model(extra_high, ts_extrahigh)\n",
    "emp_vals, sub_df = sub_file(test_df, ets_forecast)\n",
    "\n",
    "# save submmission file\n",
    "# sub_df.to_csv('./submission_files/submission_timedep_ets-clip-extrahigh_80plus_v0.csv', header=True, sep=\",\", index=False)\n",
    "\n",
    "print(\"Empty values in submission file: \", emp_vals)\n",
    "sub_df.head()"
   ]
  },
  {
   "cell_type": "markdown",
   "id": "959c037b",
   "metadata": {},
   "source": [
    "#### Plot predictions"
   ]
  },
  {
   "cell_type": "code",
   "execution_count": null,
   "id": "46e9b6cf",
   "metadata": {
    "scrolled": false
   },
   "outputs": [],
   "source": [
    "# Plot forecasts\n",
    "# for cfip in lista.index:\n",
    "cfip = 48157\n",
    "df = ts_extrahigh[ts_extrahigh['cfips'] == cfip]['active']\n",
    "df.plot(**plot_params, ylabel='active', label='data', title=f'{cfip}')\n",
    "df.rolling(4, center=True).mean().plot(style='-', label='mov_avg')\n",
    "linreg_forecast[cfip].plot(color='C1', style='.-', label='linreg_fore')\n",
    "ets_forecast[cfip].plot(color='C5', style='.-', label='ets_fore_DirecRec')\n",
    "plt.legend()\n",
    "plt.show();"
   ]
  },
  {
   "cell_type": "code",
   "execution_count": null,
   "id": "ab7d3562",
   "metadata": {},
   "outputs": [],
   "source": [
    "# for ets with parameters trend='add', damped_trend='True', seasonal=None\n",
    "# \n",
    "ets_out_list = [12011, 9001, 6111, 36059, 6001, 40143, 47037, 42003, 25017, 24033, 17197, 10005, 25025, 34013, 48339, 6067,\n",
    "                48439, 6061, 39035, 12095, 36081, 17043, 13067, 49035, 36047, 34023, 6059, 51059, 36029, 42029, 24005, 39049,\n",
    "                8013, 42017, 36061, 34025, 13121, 8059, 41067, 29095, 42091, 36103, 9009, 4019, 6071, 13089, 12009, 17031,\n",
    "                6081, 25021, 55025, 24031, 26163, 53061, 26125, 32510, 41051, 8031]\n",
    "\n",
    "last_value_out_list = [48453, 36055, 34027, 10003, 16001]\n",
    "\n",
    "ets_out_dic = dict(zip(ets_out_list, ['ets_add_true_none']*len(ets_out_list)))\n",
    "last_value_out_dic = dict(zip(last_value_out_list, ['last_value']*len(last_value_out_list)))\n",
    "\n",
    "# create the column with the better model to use in forecasting\n",
    "extra_high['model'] = extra_high.index.map({**ets_out_dic, **last_value_out_dic})\n",
    "extra_high['model'] = extra_high['model'].fillna('linreg')\n",
    "extra_high.head(3)"
   ]
  },
  {
   "cell_type": "code",
   "execution_count": null,
   "id": "22bfcabe",
   "metadata": {},
   "outputs": [],
   "source": [
    "extra_high.model.value_counts()"
   ]
  },
  {
   "cell_type": "markdown",
   "id": "2991cfc9",
   "metadata": {},
   "source": [
    "#### \"Extra_High\" multiclass forecasting"
   ]
  },
  {
   "cell_type": "code",
   "execution_count": null,
   "id": "4d6f3239",
   "metadata": {},
   "outputs": [],
   "source": [
    "extrahigh_forecast = multiclass_model(extra_high, ts_extrahigh)\n",
    "emp_vals, sub_df = sub_file(test_df, extrahigh_forecast)\n",
    "\n",
    "# save submmission file\n",
    "# sub_df.to_csv('./submission_files/submission_timedep_multiclass_extrahigh_v1.csv', header=True, sep=\",\", index=False)\n",
    "\n",
    "print(\"Empty values in submission file: \", emp_vals)\n",
    "sub_df.head()"
   ]
  },
  {
   "cell_type": "markdown",
   "id": "1f97a488",
   "metadata": {},
   "source": [
    "### 2 - \"High\" class forecasting"
   ]
  },
  {
   "cell_type": "markdown",
   "id": "a705c4ee",
   "metadata": {},
   "source": [
    "#### Previous Analysis"
   ]
  },
  {
   "cell_type": "code",
   "execution_count": 43,
   "id": "76800107",
   "metadata": {},
   "outputs": [
    {
     "name": "stdout",
     "output_type": "stream",
     "text": [
      "high shape:  (383, 2)\n"
     ]
    },
    {
     "data": {
      "text/html": [
       "<div>\n",
       "<style scoped>\n",
       "    .dataframe tbody tr th:only-of-type {\n",
       "        vertical-align: middle;\n",
       "    }\n",
       "\n",
       "    .dataframe tbody tr th {\n",
       "        vertical-align: top;\n",
       "    }\n",
       "\n",
       "    .dataframe thead th {\n",
       "        text-align: right;\n",
       "    }\n",
       "</style>\n",
       "<table border=\"1\" class=\"dataframe\">\n",
       "  <thead>\n",
       "    <tr style=\"text-align: right;\">\n",
       "      <th></th>\n",
       "      <th>active</th>\n",
       "      <th>class</th>\n",
       "    </tr>\n",
       "    <tr>\n",
       "      <th>cfips</th>\n",
       "      <th></th>\n",
       "      <th></th>\n",
       "    </tr>\n",
       "  </thead>\n",
       "  <tbody>\n",
       "    <tr>\n",
       "      <th>32031</th>\n",
       "      <td>34503.666667</td>\n",
       "      <td>high</td>\n",
       "    </tr>\n",
       "    <tr>\n",
       "      <th>26099</th>\n",
       "      <td>34496.897436</td>\n",
       "      <td>high</td>\n",
       "    </tr>\n",
       "    <tr>\n",
       "      <th>34039</th>\n",
       "      <td>34014.153846</td>\n",
       "      <td>high</td>\n",
       "    </tr>\n",
       "  </tbody>\n",
       "</table>\n",
       "</div>"
      ],
      "text/plain": [
       "             active class\n",
       "cfips                    \n",
       "32031  34503.666667  high\n",
       "26099  34496.897436  high\n",
       "34039  34014.153846  high"
      ]
     },
     "execution_count": 43,
     "metadata": {},
     "output_type": "execute_result"
    }
   ],
   "source": [
    "high = active_grouped[active_grouped['class'] == 'high'].sort_values(by='active', ascending=False)\n",
    "print('high shape: ', high.shape)\n",
    "high.head(3)"
   ]
  },
  {
   "cell_type": "code",
   "execution_count": 44,
   "id": "34f317a2",
   "metadata": {},
   "outputs": [
    {
     "name": "stdout",
     "output_type": "stream",
     "text": [
      "Looking the consolidated plot, we see a clear upper trend (exponential or quadratic like), but no clear seasonality!\n"
     ]
    },
    {
     "data": {
      "image/png": "[encoded data removed]",
      "text/plain": [
       "<Figure size 576x288 with 1 Axes>"
      ]
     },
     "metadata": {
      "image/png": {
       "height": 280,
       "width": 568
      }
     },
     "output_type": "display_data"
    }
   ],
   "source": [
    "# filter the high class cfips in the train_df dataset, taking the time series of each them\n",
    "ts_high = train_df[train_df['cfips'].isin(high.index)]\n",
    "ts_high['active_mean'] = ts_high.groupby('cfips')['active'].transform('mean')\n",
    "ts_high['active_norm'] = ts_high['active'] / ts_high['active_mean']\n",
    "\n",
    "ts_high.groupby('Month')['active_norm'].mean().plot(**plot_params, ylabel='active normalized', title='\"High\" class cfips', label='data')\n",
    "ts_high.groupby('Month')['active_norm'].mean().rolling(4, center=True).mean().plot(label='mov_avg(4)')\n",
    "plt.xlim(None, '2023-01-01')\n",
    "plt.ylim(None, 1.08)\n",
    "plt.legend(loc='upper left');\n",
    "print(\"Looking the consolidated plot, we see a clear upper trend (exponential or quadratic like), but no clear seasonality!\")"
   ]
  },
  {
   "cell_type": "markdown",
   "id": "d2b90aaa",
   "metadata": {},
   "source": [
    "#### R² linear_regression error"
   ]
  },
  {
   "cell_type": "code",
   "execution_count": 45,
   "id": "a975d867",
   "metadata": {},
   "outputs": [
    {
     "data": {
      "text/plain": [
       "not_outlier    214\n",
       "outlier        169\n",
       "Name: group_type, dtype: int64"
      ]
     },
     "execution_count": 45,
     "metadata": {},
     "output_type": "execute_result"
    }
   ],
   "source": [
    "R2_error = []\n",
    "\n",
    "for cfip in high.index:\n",
    "    \n",
    "    df = ts_high[ts_high['cfips'] == cfip]\n",
    "    \n",
    "    # Fit linear regression on the period of fev-2021 and forward\n",
    "    x = np.arange(18,39).reshape(21,1)\n",
    "    y = df['active'].iloc[18:]\n",
    "    model = LinearRegression().fit(x, y)\n",
    "    R2_error.append(model.score(x,y))\n",
    "\n",
    "high['R2_error_fev2021'] = R2_error\n",
    "high = high.sort_values('R2_error_fev2021', ascending=False)\n",
    "high['group_type'] = pd.cut(high['R2_error_fev2021'], bins=[0, .85, 1], labels=['outlier', 'not_outlier'])\n",
    "high['group_type'].value_counts()"
   ]
  },
  {
   "cell_type": "code",
   "execution_count": 55,
   "id": "d83ddb57",
   "metadata": {},
   "outputs": [
    {
     "data": {
      "text/html": [
       "<div>\n",
       "<style scoped>\n",
       "    .dataframe tbody tr th:only-of-type {\n",
       "        vertical-align: middle;\n",
       "    }\n",
       "\n",
       "    .dataframe tbody tr th {\n",
       "        vertical-align: top;\n",
       "    }\n",
       "\n",
       "    .dataframe thead th {\n",
       "        text-align: right;\n",
       "    }\n",
       "</style>\n",
       "<table border=\"1\" class=\"dataframe\">\n",
       "  <thead>\n",
       "    <tr style=\"text-align: right;\">\n",
       "      <th></th>\n",
       "      <th>R2_error_fev2021</th>\n",
       "      <th>microbusiness_density</th>\n",
       "    </tr>\n",
       "    <tr>\n",
       "      <th>cfips</th>\n",
       "      <th></th>\n",
       "      <th></th>\n",
       "    </tr>\n",
       "  </thead>\n",
       "  <tbody>\n",
       "    <tr>\n",
       "      <th>8105</th>\n",
       "      <td>0.830913</td>\n",
       "      <td>60.942899</td>\n",
       "    </tr>\n",
       "    <tr>\n",
       "      <th>41061</th>\n",
       "      <td>0.884792</td>\n",
       "      <td>54.522958</td>\n",
       "    </tr>\n",
       "    <tr>\n",
       "      <th>19101</th>\n",
       "      <td>0.959263</td>\n",
       "      <td>39.112656</td>\n",
       "    </tr>\n",
       "    <tr>\n",
       "      <th>37175</th>\n",
       "      <td>0.957453</td>\n",
       "      <td>28.956531</td>\n",
       "    </tr>\n",
       "    <tr>\n",
       "      <th>56039</th>\n",
       "      <td>0.887961</td>\n",
       "      <td>26.337935</td>\n",
       "    </tr>\n",
       "    <tr>\n",
       "      <th>...</th>\n",
       "      <td>...</td>\n",
       "      <td>...</td>\n",
       "    </tr>\n",
       "    <tr>\n",
       "      <th>36083</th>\n",
       "      <td>0.830445</td>\n",
       "      <td>4.101805</td>\n",
       "    </tr>\n",
       "    <tr>\n",
       "      <th>28121</th>\n",
       "      <td>0.862890</td>\n",
       "      <td>4.091396</td>\n",
       "    </tr>\n",
       "    <tr>\n",
       "      <th>37147</th>\n",
       "      <td>0.935005</td>\n",
       "      <td>4.089866</td>\n",
       "    </tr>\n",
       "    <tr>\n",
       "      <th>28033</th>\n",
       "      <td>0.908141</td>\n",
       "      <td>4.026309</td>\n",
       "    </tr>\n",
       "    <tr>\n",
       "      <th>37101</th>\n",
       "      <td>0.906773</td>\n",
       "      <td>4.014633</td>\n",
       "    </tr>\n",
       "  </tbody>\n",
       "</table>\n",
       "<p>266 rows × 2 columns</p>\n",
       "</div>"
      ],
      "text/plain": [
       "       R2_error_fev2021  microbusiness_density\n",
       "cfips                                         \n",
       "8105           0.830913              60.942899\n",
       "41061          0.884792              54.522958\n",
       "19101          0.959263              39.112656\n",
       "37175          0.957453              28.956531\n",
       "56039          0.887961              26.337935\n",
       "...                 ...                    ...\n",
       "36083          0.830445               4.101805\n",
       "28121          0.862890               4.091396\n",
       "37147          0.935005               4.089866\n",
       "28033          0.908141               4.026309\n",
       "37101          0.906773               4.014633\n",
       "\n",
       "[266 rows x 2 columns]"
      ]
     },
     "execution_count": 55,
     "metadata": {},
     "output_type": "execute_result"
    }
   ],
   "source": [
    "dt = ts_high.groupby('cfips')['microbusiness_density'].mean().sort_values(ascending=False).copy()\n",
    "high['microbusiness_density'] = high.index.map(dt)\n",
    "df = high[['R2_error_fev2021','microbusiness_density']].sort_values('microbusiness_density', ascending=False)\n",
    "df = df.loc[(df['R2_error_fev2021'] >= 0.7) & (df['microbusiness_density'] >= 4.0)]\n",
    "df"
   ]
  },
  {
   "cell_type": "code",
   "execution_count": null,
   "id": "587a7c86",
   "metadata": {},
   "outputs": [],
   "source": [
    "','.join([str(i) for i in high.index])"
   ]
  },
  {
   "cell_type": "markdown",
   "id": "4ca04c0b",
   "metadata": {},
   "source": [
    "#### Linear regression forecasting"
   ]
  },
  {
   "cell_type": "code",
   "execution_count": null,
   "id": "3163d4ce",
   "metadata": {},
   "outputs": [],
   "source": [
    "linreg_forecast = adj_linearregression_model(high, ts_high)\n",
    "emp_vals, sub_df = sub_file(test_df, linreg_forecast)\n",
    "\n",
    "# save submmission file\n",
    "# sub_df.to_csv('./submission_files/submission_timedep_linregadj_high_50plus_v1.csv', header=True, sep=\",\", index=False)\n",
    "\n",
    "print(\"Empty values in submission file: \", emp_vals)\n",
    "sub_df.head(3)"
   ]
  },
  {
   "cell_type": "markdown",
   "id": "3c1ca054",
   "metadata": {},
   "source": [
    "#### Exponential Smoothing forecast"
   ]
  },
  {
   "cell_type": "code",
   "execution_count": null,
   "id": "acb62012",
   "metadata": {},
   "outputs": [],
   "source": [
    "ets_forecast = clip_exp_smoothing_model(high, ts_high)\n",
    "emp_vals, sub_df = sub_file(test_df, ets_forecast)\n",
    "\n",
    "# save submmission file\n",
    "# sub_df.to_csv('./submission_files/submission_timedep_ets-clip-high_255plus_v0.csv', header=True, sep=\",\", index=False)\n",
    "\n",
    "print(\"Empty values in submission file: \", emp_vals)\n",
    "sub_df.head()"
   ]
  },
  {
   "cell_type": "markdown",
   "id": "58f0c6d3",
   "metadata": {},
   "source": [
    "#### Weighted Average forecast"
   ]
  },
  {
   "cell_type": "code",
   "execution_count": null,
   "id": "35b54634",
   "metadata": {},
   "outputs": [],
   "source": [
    "fore_period = pd.date_range('2022-11-01', '2023-06-01', freq='MS')\n",
    "rmse_lr = [mean_squared_error(linreg_forecast[cfip], lv_model(cfip, high, ts_high, fore_period), squared=False) \\\n",
    "           for cfip in high.index]\n",
    "rmse_ets = [mean_squared_error(ets_forecast[cfip], lv_model(cfip, high, ts_high, fore_period), squared=False) \\\n",
    "           for cfip in high.index]\n",
    "\n",
    "alpha_ets = np.array(rmse_ets) / (np.array(rmse_ets) + np.array(rmse_lr))\n"
   ]
  },
  {
   "cell_type": "code",
   "execution_count": null,
   "id": "1c93397f",
   "metadata": {},
   "outputs": [],
   "source": [
    "weighted_forecast = alpha_ets * linreg_forecast.values + (1.0 - alpha_ets) * ets_forecast.values\n",
    "weighted_forecast = pd.DataFrame(weighted_forecast, index= fore_period, columns= high.index)\n",
    "weighted_forecast.index.name = 'Month'\n",
    "weighted_forecast.head(3)"
   ]
  },
  {
   "cell_type": "code",
   "execution_count": null,
   "id": "30b8f4fa",
   "metadata": {},
   "outputs": [],
   "source": [
    "emp_vals, sub_df = sub_file(test_df, weighted_forecast)\n",
    "\n",
    "# save submmission file\n",
    "# sub_df.to_csv('./submission_files/submission_timedep_class_high_weighted_v0.csv', header=True, sep=\",\", index=False)\n",
    "\n",
    "print(\"Empty values in submission file: \", emp_vals)\n",
    "sub_df.head()"
   ]
  },
  {
   "cell_type": "markdown",
   "id": "f8f0cf3c",
   "metadata": {},
   "source": [
    "#### Plot predictions"
   ]
  },
  {
   "cell_type": "code",
   "execution_count": null,
   "id": "9701b2c2",
   "metadata": {},
   "outputs": [],
   "source": [
    "# Plot forecasts\n",
    "cfip = 18163\n",
    "df = ts_high[ts_high['cfips'] == cfip]['active']\n",
    "df.plot(**plot_params, ylabel= 'active', label= 'data', title= f'{cfip}')\n",
    "df.rolling(4, center=True).mean().plot(style= '-', label= 'mov_avg')\n",
    "weighted_forecast[cfip].plot(color= 'C6', style= '.-', label= 'weighted_fore')\n",
    "linreg_forecast[cfip].plot(color= 'C1', style= '.-', label= 'linreg_fore')\n",
    "ets_forecast[cfip].plot(color= 'C5', style= '.-', label= 'ets_fore_DirecRec')\n",
    "plt.legend(loc='upper left')\n",
    "plt.show();"
   ]
  },
  {
   "cell_type": "code",
   "execution_count": null,
   "id": "357a928f",
   "metadata": {},
   "outputs": [],
   "source": [
    "high.iloc[:75]"
   ]
  },
  {
   "cell_type": "code",
   "execution_count": null,
   "id": "6d673c2f",
   "metadata": {},
   "outputs": [],
   "source": [
    "# for ets with parameters trend='add', damped_trend='True', seasonal=None\n",
    "# specials cfips:\n",
    "# ALL OUTLIER CFIPS THAT DON´T ARE IN THE LISTS BELOW, IS ets_add_true_none GROUP_TYPE\n",
    "linreg_out_list = [18057, 55101, 56033, 40017, 13117, 39151, 15007, 29077, 17167] \n",
    "last_value_out_list = [12017, 18157, 36091]\n",
    "\n",
    "linreg_out_dic = dict(zip(linreg_out_list, ['linreg']*len(linreg_out_list)))\n",
    "last_value_out_dic = dict(zip(last_value_out_list, ['last_value']*len(last_value_out_list)))\n",
    "\n",
    "# # create the column with the better model to use in forecasting\n",
    "high['model'] = high.index.map({**linreg_out_dic, **last_value_out_dic})\n",
    "high['model'] = high['model'].fillna('linreg')\n",
    "high.model.value_counts()\n",
    "high.head(3)"
   ]
  },
  {
   "cell_type": "markdown",
   "id": "89f65cf6",
   "metadata": {},
   "source": [
    "#### \"High\" class forecasting"
   ]
  },
  {
   "cell_type": "code",
   "execution_count": null,
   "id": "905335ff",
   "metadata": {},
   "outputs": [],
   "source": [
    "high_forecast = multiclass_model(high, ts_high)\n",
    "emp_vals, sub_df = sub_file(test_df, high_forecast)\n",
    "\n",
    "# save submmission file\n",
    "sub_df.to_csv('./submission_files/submission_timedep_multiclass_high_v0.csv', header=True, sep=\",\", index=False)\n",
    "\n",
    "print(\"Empty values in submission file: \", emp_vals)\n",
    "sub_df.head()"
   ]
  },
  {
   "cell_type": "markdown",
   "id": "201d53d9",
   "metadata": {},
   "source": [
    "### 3 - \"Med_High\" class forecasting"
   ]
  },
  {
   "cell_type": "markdown",
   "id": "884a6db6",
   "metadata": {},
   "source": [
    "#### Previous Analysis"
   ]
  },
  {
   "cell_type": "code",
   "execution_count": 50,
   "id": "ed312e01",
   "metadata": {},
   "outputs": [
    {
     "name": "stdout",
     "output_type": "stream",
     "text": [
      "med_high shape:  (912, 2)\n"
     ]
    },
    {
     "data": {
      "text/html": [
       "<div>\n",
       "<style scoped>\n",
       "    .dataframe tbody tr th:only-of-type {\n",
       "        vertical-align: middle;\n",
       "    }\n",
       "\n",
       "    .dataframe tbody tr th {\n",
       "        vertical-align: top;\n",
       "    }\n",
       "\n",
       "    .dataframe thead th {\n",
       "        text-align: right;\n",
       "    }\n",
       "</style>\n",
       "<table border=\"1\" class=\"dataframe\">\n",
       "  <thead>\n",
       "    <tr style=\"text-align: right;\">\n",
       "      <th></th>\n",
       "      <th>active</th>\n",
       "      <th>class</th>\n",
       "    </tr>\n",
       "    <tr>\n",
       "      <th>cfips</th>\n",
       "      <th></th>\n",
       "      <th></th>\n",
       "    </tr>\n",
       "  </thead>\n",
       "  <tbody>\n",
       "    <tr>\n",
       "      <th>36069</th>\n",
       "      <td>4629.743590</td>\n",
       "      <td>med_high</td>\n",
       "    </tr>\n",
       "    <tr>\n",
       "      <th>45003</th>\n",
       "      <td>4614.923077</td>\n",
       "      <td>med_high</td>\n",
       "    </tr>\n",
       "    <tr>\n",
       "      <th>8045</th>\n",
       "      <td>4610.564103</td>\n",
       "      <td>med_high</td>\n",
       "    </tr>\n",
       "  </tbody>\n",
       "</table>\n",
       "</div>"
      ],
      "text/plain": [
       "            active     class\n",
       "cfips                       \n",
       "36069  4629.743590  med_high\n",
       "45003  4614.923077  med_high\n",
       "8045   4610.564103  med_high"
      ]
     },
     "execution_count": 50,
     "metadata": {},
     "output_type": "execute_result"
    }
   ],
   "source": [
    "med_high = active_grouped[active_grouped['class'] == 'med_high'].sort_values(by='active', ascending=False)\n",
    "print('med_high shape: ', med_high.shape)\n",
    "med_high.head(3)"
   ]
  },
  {
   "cell_type": "code",
   "execution_count": 51,
   "id": "7571d43a",
   "metadata": {},
   "outputs": [
    {
     "name": "stdout",
     "output_type": "stream",
     "text": [
      "Looking the consolidated plot, we see a clear upper trend (exponential or quadratic like), but no clear seasonality!\n"
     ]
    },
    {
     "data": {
      "image/png": "[encoded data removed]",
      "text/plain": [
       "<Figure size 576x288 with 1 Axes>"
      ]
     },
     "metadata": {
      "image/png": {
       "height": 280,
       "width": 568
      }
     },
     "output_type": "display_data"
    }
   ],
   "source": [
    "# filter the high class cfips in the train_df dataset, taking the time series of each them\n",
    "ts_med_high = train_df[train_df['cfips'].isin(med_high.index)].copy()\n",
    "ts_med_high['active_mean'] = ts_med_high.groupby('cfips')['active'].transform('mean')\n",
    "ts_med_high['active_norm'] = ts_med_high['active'] / ts_med_high['active_mean']\n",
    "\n",
    "ts_med_high.groupby('Month')['active_norm'].mean().plot(**plot_params, ylabel='active normalized', title='\"Med-High\" class cfips', label='data')\n",
    "ts_med_high.groupby('Month')['active_norm'].mean().rolling(4, center=True).mean().plot(label='mov_avg(4)')\n",
    "plt.xlim(None, '2023-01-01')\n",
    "plt.ylim(None, 1.08)\n",
    "plt.legend(loc='upper left');\n",
    "print(\"Looking the consolidated plot, we see a clear upper trend (exponential or quadratic like), but no clear seasonality!\")"
   ]
  },
  {
   "cell_type": "markdown",
   "id": "857dab34",
   "metadata": {},
   "source": [
    "#### R² linear_regression error"
   ]
  },
  {
   "cell_type": "code",
   "execution_count": 52,
   "id": "f2892ece",
   "metadata": {},
   "outputs": [
    {
     "data": {
      "text/plain": [
       "outlier        596\n",
       "not_outlier    316\n",
       "Name: group_type, dtype: int64"
      ]
     },
     "execution_count": 52,
     "metadata": {},
     "output_type": "execute_result"
    }
   ],
   "source": [
    "R2_error = []\n",
    "\n",
    "for cfip in med_high.index:\n",
    "    \n",
    "    df = ts_med_high[ts_med_high['cfips'] == cfip]\n",
    "    \n",
    "    # Fit linear regression on the period of fev-2021 and forward\n",
    "    x = np.arange(18,39).reshape(21,1)\n",
    "    y = df['active'].iloc[18:]\n",
    "    model = LinearRegression().fit(x, y)\n",
    "    R2_error.append(model.score(x,y))\n",
    "\n",
    "med_high['R2_error_fev2021'] = R2_error\n",
    "med_high = med_high.sort_values('R2_error_fev2021', ascending=False)\n",
    "med_high['group_type'] = pd.cut(med_high['R2_error_fev2021'], bins=[0, .8, 1], labels=['outlier', 'not_outlier'])\n",
    "med_high['group_type'].value_counts()"
   ]
  },
  {
   "cell_type": "code",
   "execution_count": 54,
   "id": "29e70816",
   "metadata": {},
   "outputs": [
    {
     "data": {
      "text/html": [
       "<div>\n",
       "<style scoped>\n",
       "    .dataframe tbody tr th:only-of-type {\n",
       "        vertical-align: middle;\n",
       "    }\n",
       "\n",
       "    .dataframe tbody tr th {\n",
       "        vertical-align: top;\n",
       "    }\n",
       "\n",
       "    .dataframe thead th {\n",
       "        text-align: right;\n",
       "    }\n",
       "</style>\n",
       "<table border=\"1\" class=\"dataframe\">\n",
       "  <thead>\n",
       "    <tr style=\"text-align: right;\">\n",
       "      <th></th>\n",
       "      <th>R2_error_fev2021</th>\n",
       "      <th>microbusiness_density</th>\n",
       "    </tr>\n",
       "    <tr>\n",
       "      <th>cfips</th>\n",
       "      <th></th>\n",
       "      <th></th>\n",
       "    </tr>\n",
       "  </thead>\n",
       "  <tbody>\n",
       "    <tr>\n",
       "      <th>16021</th>\n",
       "      <td>0.994859</td>\n",
       "      <td>46.730638</td>\n",
       "    </tr>\n",
       "    <tr>\n",
       "      <th>32017</th>\n",
       "      <td>0.822713</td>\n",
       "      <td>40.140351</td>\n",
       "    </tr>\n",
       "    <tr>\n",
       "      <th>8097</th>\n",
       "      <td>0.900770</td>\n",
       "      <td>27.567022</td>\n",
       "    </tr>\n",
       "    <tr>\n",
       "      <th>8113</th>\n",
       "      <td>0.917796</td>\n",
       "      <td>22.461048</td>\n",
       "    </tr>\n",
       "    <tr>\n",
       "      <th>25019</th>\n",
       "      <td>0.776422</td>\n",
       "      <td>20.184157</td>\n",
       "    </tr>\n",
       "    <tr>\n",
       "      <th>...</th>\n",
       "      <td>...</td>\n",
       "      <td>...</td>\n",
       "    </tr>\n",
       "    <tr>\n",
       "      <th>54061</th>\n",
       "      <td>0.902196</td>\n",
       "      <td>4.033605</td>\n",
       "    </tr>\n",
       "    <tr>\n",
       "      <th>13145</th>\n",
       "      <td>0.872937</td>\n",
       "      <td>4.033114</td>\n",
       "    </tr>\n",
       "    <tr>\n",
       "      <th>20015</th>\n",
       "      <td>0.774795</td>\n",
       "      <td>4.012779</td>\n",
       "    </tr>\n",
       "    <tr>\n",
       "      <th>49003</th>\n",
       "      <td>0.825542</td>\n",
       "      <td>4.009612</td>\n",
       "    </tr>\n",
       "    <tr>\n",
       "      <th>51590</th>\n",
       "      <td>0.861342</td>\n",
       "      <td>4.002296</td>\n",
       "    </tr>\n",
       "  </tbody>\n",
       "</table>\n",
       "<p>175 rows × 2 columns</p>\n",
       "</div>"
      ],
      "text/plain": [
       "       R2_error_fev2021  microbusiness_density\n",
       "cfips                                         \n",
       "16021          0.994859              46.730638\n",
       "32017          0.822713              40.140351\n",
       "8097           0.900770              27.567022\n",
       "8113           0.917796              22.461048\n",
       "25019          0.776422              20.184157\n",
       "...                 ...                    ...\n",
       "54061          0.902196               4.033605\n",
       "13145          0.872937               4.033114\n",
       "20015          0.774795               4.012779\n",
       "49003          0.825542               4.009612\n",
       "51590          0.861342               4.002296\n",
       "\n",
       "[175 rows x 2 columns]"
      ]
     },
     "execution_count": 54,
     "metadata": {},
     "output_type": "execute_result"
    }
   ],
   "source": [
    "dt = ts_med_high.groupby('cfips')['microbusiness_density'].mean().sort_values(ascending=False).copy()\n",
    "med_high['microbusiness_density'] = med_high.index.map(dt)\n",
    "df = med_high[['R2_error_fev2021','microbusiness_density']].sort_values('microbusiness_density', ascending=False)\n",
    "df = df.loc[(df['R2_error_fev2021'] >= 0.7) & (df['microbusiness_density'] >= 4.0)]\n",
    "df"
   ]
  },
  {
   "cell_type": "code",
   "execution_count": null,
   "id": "9238bb53",
   "metadata": {},
   "outputs": [],
   "source": [
    "dt = med_high.loc[med_high.R2_error_fev2021>=0.8]\n",
    "dt.index[200:230]\n"
   ]
  },
  {
   "cell_type": "code",
   "execution_count": null,
   "id": "355f9625",
   "metadata": {},
   "outputs": [],
   "source": [
    "','.join([str(i) for i in dt.index])"
   ]
  },
  {
   "cell_type": "markdown",
   "id": "de1b5b3c",
   "metadata": {},
   "source": [
    "#### Linear regression forecasting"
   ]
  },
  {
   "cell_type": "code",
   "execution_count": null,
   "id": "4f32e605",
   "metadata": {},
   "outputs": [],
   "source": [
    "linreg_forecast = adj_linearregression_model(med_high, ts_med_high)\n",
    "emp_vals, sub_df = sub_file(test_df, linreg_forecast)\n",
    "\n",
    "# save submmission file\n",
    "# sub_df.to_csv('./submission_files/submission_timedep_linregadj_high_255plus_v1.csv', header=True, sep=\",\", index=False)\n",
    "\n",
    "print(\"Empty values in submission file: \", emp_vals)\n",
    "sub_df.head(3)"
   ]
  },
  {
   "cell_type": "markdown",
   "id": "0c825fcc",
   "metadata": {},
   "source": [
    "#### Exponential Smoothing Forecast"
   ]
  },
  {
   "cell_type": "code",
   "execution_count": null,
   "id": "eacfbca7",
   "metadata": {},
   "outputs": [],
   "source": [
    "ets_forecast = clip_exp_smoothing_model(med_high, ts_med_high)\n",
    "emp_vals, sub_df = sub_file(test_df, ets_forecast)\n",
    "\n",
    "# save submmission file\n",
    "# sub_df.to_csv('./submission_files/submission_timedep_ets-clip-high_255plus_v0.csv', header=True, sep=\",\", index=False)\n",
    "\n",
    "print(\"Empty values in submission file: \", emp_vals)\n",
    "sub_df.head()"
   ]
  },
  {
   "cell_type": "markdown",
   "id": "4aab2b85",
   "metadata": {},
   "source": [
    "#### Plot predictions"
   ]
  },
  {
   "cell_type": "code",
   "execution_count": null,
   "id": "033a9b88",
   "metadata": {
    "scrolled": false
   },
   "outputs": [],
   "source": [
    "# Plot forecasts\n",
    "# for cfip in lista.index:\n",
    "cfip = 42031\n",
    "df = ts_med_high[ts_med_high['cfips'] == cfip]['active']\n",
    "df.plot(**plot_params, ylabel='active', label='data', title=f'{cfip}')\n",
    "df.rolling(4, center=True).mean().plot(style='-', label='mov_avg')\n",
    "linreg_forecast[cfip].plot(color='C1', style='.-', label='linreg_fore')\n",
    "ets_forecast[cfip].plot(color='C5', style='.-', label='ets_fore_DirecRec')\n",
    "plt.legend()\n",
    "plt.show();"
   ]
  },
  {
   "cell_type": "code",
   "execution_count": null,
   "id": "ed5ab5c9",
   "metadata": {},
   "outputs": [],
   "source": [
    "# errors between linreg and ets_add_true_none forecasts. Represents the difference between long trend (linreg) and\n",
    "# short trend (ets_add_true_none)\n",
    "print(\"As the smaller number of \")\n",
    "med_high['norm_RMSE_lr_ets'] = [mean_squared_error(linreg_forecast[cfip], ets_forecast[cfip], squared=False)/(linreg_forecast[cfip] + ets_forecast[cfip]).mean() for cfip in med_high.index]\n",
    "med_high = med_high.sort_values('norm_RMSE_lr_ets', ascending=False)\n",
    "\n",
    "log_RMSE = pd.Series(np.log(med_high['norm_RMSE_lr_ets'].values.flatten()), index=med_high['norm_RMSE_lr_ets'].index)\n",
    "\n",
    "(log_mean, log_std) = (log_RMSE.mean(), log_RMSE.std())\n",
    "print('(log_mean, log_std): ', (log_mean, log_std))\n",
    "\n",
    "log_RMSE.plot(kind='hist', bins=41, figsize=(8,4), title='log_RMSE between linreg and ets')\n",
    "plt.xlabel('log_RMSE')\n",
    "plt.show();"
   ]
  },
  {
   "cell_type": "code",
   "execution_count": null,
   "id": "b60aff80",
   "metadata": {},
   "outputs": [],
   "source": [
    "# 300 biggest RMSE cfips errors by hand\n",
    "# for ets with parameters trend='add', damped_trend='True', seasonal=None\n",
    "# ALL OUTLIER CFIPS THAT DON´T ARE IN THE LISTS BELOW, IS ets_add_true_none GROUP_TYPE\n",
    "# specials cfips (model between linreg and ets): 18073, 48053, 21215, 26103, 53065, 48221, 37109, 24023, 51065, 6005, 48037,\n",
    "# 19169, 6045, 5145, 1033, 18177, 6043, 40111, 18099, 42031, 41031, 37109, 42051, 51590, 19169, 40081, 8039, 21047, 1103,\n",
    "# 17001, 45031, 51019, 36073, 16081, 51075, 20161, 8113, 42009, 42033, 35025, 26151, 35035, 42107, 20079, 40031, 18061,\n",
    "# 29097, 20037, 36095, 51033, 21083, 24019, 18095, 51109, 54037, 36031, 13133, 47147, 23025, 48459, 13179, 12023, 40071,\n",
    "# 53049, 12075, 39033, 39101, 8085, 22005, 39063, 51001, 41015, 26155, 37195, 36003, 23007, 37093, 47089, 49021, 55141,\n",
    "# 51610, 22101, 55021, 26165, 51127, 17105, 8049, 18151, 48299, 29101, 31157, 21035, 4007, 21059, 37039, 23015, 26111,\n",
    "# 30013,6047, 29051, 18059, 36077, 13115, 48361, 36057, 21205, 47003, 36053\n",
    "linreg_out_list = [18073, 48053, 6115, 21215, 26103, 27035, 53007, 37109, 47103, 5145, 1033, 6043, 41031, 42051,\n",
    "                   19169, 40081, 20161, 35025, 26151, 18061, 29097, 36095, 21083, 24019, 51109, 36031, 13133, 23025, 13179,\n",
    "                   12023, 40071, 53049, 39101, 54055, 37155, 22005, 51001, 37195, 36003, 23007, 37093, 49021, 55141, 51063,\n",
    "                   39173, 1113, 47063, 51145, 17179, 48373, 45037, 13013, 41011, 37069, 37037, 37105, 12129, 51800, 45043,\n",
    "                   47073, 17049, 36019, 42001, 48299, 47053, 17077, 51570, 36035, 27017, 37181, 45085, 13313, 45055, 32023,\n",
    "                   28087, 13137, 13255, 12119, 21209, 48019, 26089, 50021, 23015, 26111, 30013, 23017, 16011, 19033, 28075,\n",
    "                   37189, 51099, 36105, 41019, 42063, 51125, 21205, 13009, 37107, 46083, 37047, 51790, 29091, 48477, 24001,\n",
    "                   48099]\n",
    "last_value_out_list = [51065, 48037, 6045, 18177, 39159, 42031, 51590, 21047, 1103, 45031, 51019, 36073, 16081,\n",
    "                       8113, 42009, 42033, 35035, 42107, 20079, 40031, 20037, 54107, 18095, 54037, 47147, 48459, 12075, 39033,\n",
    "                       8085, 39063, 41015, 26155, 47089, 51610, 22101, 55021, 26165, 51127, 17105, 8049, 18151, 29101, 31157,\n",
    "                       21035, 4007, 21059, 37039, 29051, 36077, 13115, 48361, 36057, 36053]\n",
    "\n",
    "linreg_out_dic = dict(zip(linreg_out_list, ['linreg']*len(linreg_out_list)))\n",
    "last_value_out_dic = dict(zip(last_value_out_list, ['last_value']*len(last_value_out_list)))\n",
    "\n",
    "# # # create the column with the better model to use in forecasting\n",
    "med_high['model'] = med_high.index.map({**linreg_out_dic, **last_value_out_dic})\n",
    "med_high['model'] = med_high['model'].fillna('ets_add_true_none')\n"
   ]
  },
  {
   "cell_type": "code",
   "execution_count": null,
   "id": "6485a3be",
   "metadata": {},
   "outputs": [],
   "source": [
    "print(med_high['model'].value_counts())\n",
    "med_high.head(5)"
   ]
  },
  {
   "cell_type": "markdown",
   "id": "88e99502",
   "metadata": {},
   "source": [
    "### 4 - \"Med_Low\" class forecasting"
   ]
  },
  {
   "cell_type": "markdown",
   "id": "f0edae7b",
   "metadata": {},
   "source": [
    "#### Previous Analysis"
   ]
  },
  {
   "cell_type": "code",
   "execution_count": null,
   "id": "b6a8cb16",
   "metadata": {},
   "outputs": [],
   "source": [
    "med_low = active_grouped[active_grouped['class'] == 'med_low'].sort_values(by='active', ascending=False)\n",
    "print('med_low shape: ', med_low.shape)\n",
    "med_low.head(3)"
   ]
  },
  {
   "cell_type": "code",
   "execution_count": null,
   "id": "536ed75d",
   "metadata": {},
   "outputs": [],
   "source": [
    "# filter the high class cfips in the train_df dataset, taking the time series of each them\n",
    "ts_med_low = train_df[train_df['cfips'].isin(med_low.index)].copy()\n",
    "ts_med_low['active_mean'] = ts_med_low.groupby('cfips')['active'].transform('mean')\n",
    "ts_med_low['active_norm'] = ts_med_low['active'] / ts_med_low['active_mean']\n",
    "\n",
    "ts_med_low.groupby('Month')['active_norm'].mean().plot(**plot_params, ylabel='active normalized', title='\"Med-Low\" class cfips', label='data')\n",
    "ts_med_low.groupby('Month')['active_norm'].mean().rolling(4, center=True).mean().plot(label='mov_avg(4)')\n",
    "plt.xlim(None, '2023-01-01')\n",
    "plt.ylim(None, 1.08)\n",
    "plt.legend(loc='upper left');\n",
    "print(\"Looking the consolidated plot, we see a clear upper trend (exponential or quadratic like), but again, no clear seasonality!\")"
   ]
  },
  {
   "cell_type": "markdown",
   "id": "dc3b5690",
   "metadata": {},
   "source": [
    "#### Linear regression forecasting"
   ]
  },
  {
   "cell_type": "code",
   "execution_count": null,
   "id": "efc79ad9",
   "metadata": {},
   "outputs": [],
   "source": [
    "linreg_forecast = adj_linearregression_model(med_low, ts_med_low)\n",
    "emp_vals, sub_df = sub_file(test_df, linreg_forecast)\n",
    "\n",
    "# save submmission file\n",
    "# sub_df.to_csv('./submission_files/submission_timedep_linregadj_medlow_v1.csv', header=True, sep=\",\", index=False)\n",
    "\n",
    "print(\"Empty values in submission file: \", emp_vals)\n",
    "sub_df.head(3)"
   ]
  },
  {
   "cell_type": "markdown",
   "id": "40092f98",
   "metadata": {},
   "source": [
    "#### Exponential Smoothing forecasting"
   ]
  },
  {
   "cell_type": "code",
   "execution_count": null,
   "id": "d8ddb0fe",
   "metadata": {},
   "outputs": [],
   "source": [
    "ets_forecast = clip_exp_smoothing_model(med_low, ts_med_low)\n",
    "emp_vals, sub_df = sub_file(test_df, ets_forecast)\n",
    "\n",
    "# save submmission file\n",
    "# sub_df.to_csv('./submission_files/submission_timedep_ets_medlow_v1.csv', header=True, sep=\",\", index=False)\n",
    "\n",
    "print(\"Empty values in submission file: \", emp_vals)\n",
    "sub_df.head(3)"
   ]
  },
  {
   "cell_type": "markdown",
   "id": "c8d6cc8d",
   "metadata": {},
   "source": [
    "#### Plot predictions"
   ]
  },
  {
   "cell_type": "code",
   "execution_count": null,
   "id": "18b94e1b",
   "metadata": {},
   "outputs": [],
   "source": [
    "# errors between linreg and ets_add_true_none forecasts. Represents the difference between long trend (linreg) and\n",
    "# short trend (ets_add_true_none)\n",
    "print(\"As the smaller number of active business, higher will be the RMSE error!\")\n",
    "med_low['norm_RMSE_lr_ets'] = [mean_squared_error(linreg_forecast[cfip], ets_forecast[cfip], squared=False) / \\\n",
    "                               (linreg_forecast[cfip] + ets_forecast[cfip]).mean() \\\n",
    "                               for cfip in med_low.index]\n",
    "\n",
    "med_low = med_low.sort_values('norm_RMSE_lr_ets', ascending=False)\n",
    "\n",
    "log_RMSE = pd.Series(data = np.log(med_low['norm_RMSE_lr_ets'].values.flatten()),\n",
    "                     index = med_low['norm_RMSE_lr_ets'].index)\n",
    "\n",
    "(log_mean, log_std) = (log_RMSE.mean(), log_RMSE.std())\n",
    "print(f'log_mean: {log_mean}', f'\\nlog_std: {log_std}')\n",
    "\n",
    "# Plot\n",
    "log_RMSE.plot(kind='hist', bins=41, figsize=(8,4), title='log_RMSE between linreg and ets', xlabel='log_RMSE')\n",
    "plt.show();"
   ]
  },
  {
   "cell_type": "code",
   "execution_count": null,
   "id": "0d27be1c",
   "metadata": {},
   "outputs": [],
   "source": [
    "# divide the cfips in outliers and not_outliers\n",
    "med_low['group_type'] = pd.cut(med_low['norm_RMSE_lr_ets'],\n",
    "                               bins=[0, np.exp(log_mean + 0.5 * log_std), np.inf],\n",
    "                               labels=['not_outlier', 'outlier'])\n",
    "\n",
    "med_low['group_type'].value_counts()"
   ]
  },
  {
   "cell_type": "code",
   "execution_count": null,
   "id": "fe8618a0",
   "metadata": {},
   "outputs": [],
   "source": [
    "lista = med_low.iloc[:10]"
   ]
  },
  {
   "cell_type": "code",
   "execution_count": null,
   "id": "2060fb1f",
   "metadata": {},
   "outputs": [],
   "source": [
    "# 400 biggest RMSE cfips errors by hand\n",
    "# for ets with parameters trend='add', damped_trend='True', seasonal=None\n",
    "# ALL OUTLIER CFIPS THAT DON´T ARE IN THE LISTS BELOW, IS ets_add_true_none GROUP_TYPE\n",
    "# specials cfips (model between linreg and ets): \n",
    "linreg_out_list = []\n",
    "last_value_out_list = []"
   ]
  },
  {
   "cell_type": "code",
   "execution_count": null,
   "id": "c54b3090",
   "metadata": {
    "scrolled": false
   },
   "outputs": [],
   "source": [
    "# Plot forecasts\n",
    "for cfip in lista.index:\n",
    "    #cfip = 48145\n",
    "    df = ts_med_low[ts_med_low['cfips'] == cfip]['active']\n",
    "    df.plot(**plot_params, ylabel='active', label='data', title=f'{cfip}')\n",
    "    df.rolling(4, center=True).mean().plot(style='-', label='mov_avg')\n",
    "    linreg_forecast[cfip].plot(color='C1', style='.-', label='linreg_fore')\n",
    "    ets_forecast[cfip].plot(color='C5', style='.-', label='ets_fore_DirecRec')\n",
    "    plt.legend()\n",
    "    plt.show();"
   ]
  },
  {
   "cell_type": "code",
   "execution_count": null,
   "id": "c5981896",
   "metadata": {},
   "outputs": [],
   "source": []
  },
  {
   "cell_type": "code",
   "execution_count": null,
   "id": "d35d9e8e",
   "metadata": {},
   "outputs": [],
   "source": []
  },
  {
   "cell_type": "code",
   "execution_count": null,
   "id": "43602b14",
   "metadata": {},
   "outputs": [],
   "source": []
  },
  {
   "cell_type": "code",
   "execution_count": null,
   "id": "ed900222",
   "metadata": {},
   "outputs": [],
   "source": []
  },
  {
   "cell_type": "code",
   "execution_count": null,
   "id": "3c1ca594",
   "metadata": {},
   "outputs": [],
   "source": []
  },
  {
   "cell_type": "code",
   "execution_count": null,
   "id": "f55f0416",
   "metadata": {},
   "outputs": [],
   "source": []
  },
  {
   "cell_type": "code",
   "execution_count": null,
   "id": "2fb3f09d",
   "metadata": {},
   "outputs": [],
   "source": []
  },
  {
   "cell_type": "code",
   "execution_count": null,
   "id": "d3da3909",
   "metadata": {},
   "outputs": [],
   "source": []
  },
  {
   "cell_type": "code",
   "execution_count": null,
   "id": "1761e09d",
   "metadata": {},
   "outputs": [],
   "source": []
  },
  {
   "cell_type": "code",
   "execution_count": null,
   "id": "b64d4c45",
   "metadata": {},
   "outputs": [],
   "source": []
  },
  {
   "cell_type": "code",
   "execution_count": null,
   "id": "3592b3c2",
   "metadata": {},
   "outputs": [],
   "source": []
  },
  {
   "cell_type": "code",
   "execution_count": null,
   "id": "b8d6d947",
   "metadata": {},
   "outputs": [],
   "source": []
  },
  {
   "cell_type": "code",
   "execution_count": null,
   "id": "e0b5b521",
   "metadata": {},
   "outputs": [],
   "source": []
  },
  {
   "cell_type": "code",
   "execution_count": null,
   "id": "64bd6ca8",
   "metadata": {},
   "outputs": [],
   "source": []
  },
  {
   "cell_type": "code",
   "execution_count": null,
   "id": "08cc8381",
   "metadata": {},
   "outputs": [],
   "source": []
  },
  {
   "cell_type": "markdown",
   "id": "defc47e4",
   "metadata": {},
   "source": [
    "### Single case Linear Regression"
   ]
  },
  {
   "cell_type": "markdown",
   "id": "d1900183",
   "metadata": {},
   "source": [
    "#### Lag time series"
   ]
  },
  {
   "cell_type": "code",
   "execution_count": null,
   "id": "4dc79977",
   "metadata": {},
   "outputs": [],
   "source": [
    "cfip = 1001\n",
    "ts = pd.DataFrame(train_pivoted[cfip])\n",
    "y = ts.copy()\n",
    "X = ts.copy()\n",
    "X['lag_1'] = X[cfip].shift(1)\n",
    "X['lag_2'] = X[cfip].shift(2)\n",
    "X['lag_3'] = X[cfip].shift(3)\n",
    "X['lag_4'] = X[cfip].shift(4)\n",
    "\n",
    "X = X.dropna().drop(cfip, axis=1)\n",
    "X.head()"
   ]
  },
  {
   "cell_type": "code",
   "execution_count": null,
   "id": "8eb682f0",
   "metadata": {},
   "outputs": [],
   "source": [
    "y_train, X_train = y.align(X, join='inner', axis=0)\n",
    "\n",
    "# features lags to make forecast\n",
    "X_pred = ts.iloc[-4:, :].sort_index(ascending=False).values.T\n",
    "\n",
    "# set period to forecast\n",
    "X_pred_period = pd.date_range(start=\"2022-11\", end=\"2022-11\", periods=None, freq=\"MS\").to_period(\"D\")\n",
    "X_pred_period.name = \"Month\"\n"
   ]
  },
  {
   "cell_type": "code",
   "execution_count": null,
   "id": "298c0074",
   "metadata": {},
   "outputs": [],
   "source": [
    "y_train.head()"
   ]
  },
  {
   "cell_type": "code",
   "execution_count": null,
   "id": "278af580",
   "metadata": {},
   "outputs": [],
   "source": [
    "X_train.tail()"
   ]
  },
  {
   "cell_type": "markdown",
   "id": "8aee5dfb",
   "metadata": {},
   "source": [
    "#### Linear regression model"
   ]
  },
  {
   "cell_type": "code",
   "execution_count": null,
   "id": "25a0ff48",
   "metadata": {},
   "outputs": [],
   "source": [
    "model = LinearRegression().fit(X_train, y_train)\n",
    "\n",
    "y_fit = pd.DataFrame(model.predict(X_train), index=y_train.index, columns=y_train.columns)\n",
    "y_pred = pd.DataFrame(model.predict(X_pred), index=X_pred_period, columns=y_train.columns).clip(0.0)\n",
    "y_fit_single = y_fit.copy()\n"
   ]
  },
  {
   "cell_type": "code",
   "execution_count": null,
   "id": "82bbde4b",
   "metadata": {},
   "outputs": [],
   "source": [
    "y_pred"
   ]
  },
  {
   "cell_type": "code",
   "execution_count": null,
   "id": "3e4868ae",
   "metadata": {},
   "outputs": [],
   "source": [
    "axs = y_train.plot(color='C0', subplots=True, sharex=True, style='.-', label='y_true')\n",
    "axs = y_fit.plot(color='C1', subplots=True, sharex=True, ax=axs, style='.-', label='y_fit')\n",
    "axs = y_pred.plot(color='C3', subplots=True, sharex=True, ax=axs, style='.-', label='y_fit')\n",
    "for ax in axs:\n",
    "    ax.legend()\n",
    "    ax.set_xlim(right='2023-01-01')\n",
    "_ = plt.suptitle(f\"Linear regression - cfip {cfip}\")"
   ]
  },
  {
   "cell_type": "markdown",
   "id": "fe343dcd",
   "metadata": {},
   "source": [
    "### Multiple Iteration Linear Regression"
   ]
  },
  {
   "cell_type": "code",
   "execution_count": null,
   "id": "7bad23e7",
   "metadata": {},
   "outputs": [],
   "source": [
    "# number of lags to use in X_train\n",
    "nlags = 1\n",
    "\n",
    "# number of steps between forecast origin and forecast horizon\n",
    "nlead_time = 1\n",
    "\n",
    "# number of forecast values to predict\n",
    "nsteps = 1\n"
   ]
  },
  {
   "cell_type": "code",
   "execution_count": null,
   "id": "10ef1ee8",
   "metadata": {},
   "outputs": [],
   "source": [
    "# setup the feature dataframe with the corresponding lags and lead time\n",
    "def make_lags(ts, nlags, lead_time):\n",
    "    \n",
    "    return pd.concat({f'y_lag_{lag}': ts.shift(lag) for lag in range(lead_time, nlags + lead_time)}, axis=1)\n"
   ]
  },
  {
   "cell_type": "code",
   "execution_count": null,
   "id": "d28294ed",
   "metadata": {},
   "outputs": [],
   "source": [
    "# dataframe with fitted values from training set\n",
    "train_fitted = pd.DataFrame(index=train_pivoted.index[nlags:], columns=train_pivoted.columns)\n",
    "\n",
    "# set period to forecast\n",
    "X_pred_period = pd.date_range(start=\"2022-11\", end=\"2022-11\", freq=\"MS\").to_period(\"D\")\n",
    "X_pred_period.name = \"Month\"\n",
    "\n",
    "# dataframe with forecasteds values\n",
    "pred_forecast = pd.DataFrame(index=X_pred_period, columns=train_pivoted.columns)\n",
    "\n",
    "for cfip in list(train_pivoted.columns):\n",
    "\n",
    "    # cfip time series\n",
    "    y = pd.concat([train_pivoted[cfip], econ_rates], axis=1)\n",
    "    \n",
    "    # make lags\n",
    "    X = make_lags(y, nlags, nlead_time).dropna()\n",
    "    \n",
    "    # fit the time series (y) to match X\n",
    "    y_train, X_train = y.align(X, join='inner', axis=0)\n",
    "    y_train = y_train.drop(['cpi_12M_pct_var', 'unemployment_rate_us', '10y_treasury_rate'], axis=1).squeeze()\n",
    "    \n",
    "    # features lags to make forecast\n",
    "    X_pred = y.iloc[-nlags:, :].sort_index(ascending=False).values.flatten().reshape(1,4)\n",
    "    \n",
    "    # model\n",
    "    model = LinearRegression()\n",
    "    model.fit(X_train, y_train)\n",
    "    \n",
    "    train_fitted[cfip] = model.predict(X_train)\n",
    "    pred_forecast[cfip] = model.predict(X_pred)\n",
    "    \n",
    "# set negative forecasts to 0\n",
    "train_fitted = train_fitted.clip(0.0)\n",
    "pred_forecast.clip(lower=0.0, upper=np.inf, inplace=True)"
   ]
  },
  {
   "cell_type": "code",
   "execution_count": null,
   "id": "da0f9285",
   "metadata": {},
   "outputs": [],
   "source": [
    "pred_forecast"
   ]
  },
  {
   "cell_type": "code",
   "execution_count": null,
   "id": "cedca87e",
   "metadata": {},
   "outputs": [],
   "source": [
    "cfip = 1003\n",
    "axs = train_pivoted[cfip].plot(color='C0', subplots=True, sharex=True, style='.-', label='y_true')\n",
    "axs = train_fitted[cfip].plot(color='C3', subplots=True, sharex=True, ax=axs, style='.-', label='y_fit')\n",
    "axs = pred_forecast[cfip].plot(color='C2', subplots=True, sharex=True, ax=axs, style='.-', label='y_pred')\n",
    "for ax in axs:\n",
    "    ax.legend()\n",
    "    ax.set_xlim(right='2023-01-01')\n",
    "_ = plt.suptitle(f\"Linear regression - cfip {cfip}\")"
   ]
  },
  {
   "cell_type": "markdown",
   "id": "4e5819c9",
   "metadata": {},
   "source": [
    "#### Submission file"
   ]
  },
  {
   "cell_type": "code",
   "execution_count": null,
   "id": "426f4888",
   "metadata": {},
   "outputs": [],
   "source": [
    "def sub_file(sample_sub_df, df_pred):\n",
    "    \n",
    "    df_pred = pd.concat({'microbusiness_density': df_pred}, names=[None, 'cfips'], axis=1)\n",
    "    df_pred = df_pred.stack().reset_index()\n",
    "    \n",
    "    df_pred[\"Month\"] = df_pred[\"Month\"].astype(str)\n",
    "    df_pred[\"cfips\"] = df_pred[\"cfips\"].astype(str)\n",
    "    df_pred[\"row_id\"] = df_pred[\"cfips\"] + \"_\" + df_pred[\"Month\"]    \n",
    "    df_pred = df_pred.drop([\"Month\", \"cfips\"], axis=1).reindex(columns=sample_sub_df.columns)\n",
    "    \n",
    "    sub_file_final = sample_sub_df.drop(\"microbusiness_density\", axis=1).merge(df_pred, how=\"left\", on=\"row_id\")\n",
    "    sub_file_final = sub_file_final.fillna(0.0)\n",
    "    empty_values = sub_file_final.isna().sum().sum()\n",
    "    \n",
    "    return empty_values, sub_file_final\n",
    "\n",
    "emp_vals, sub_df = sub_file(samp_sub_df, pred_forecast)\n",
    "\n",
    "# save submmission file\n",
    "sub_df.to_csv('./submission_files/submission_Direct_linreg_serial_v3.csv', header=True, sep=\",\", index=False)\n",
    "\n",
    "print(\"Empty values in submission file: \", emp_vals)\n",
    "\n",
    "\n"
   ]
  },
  {
   "cell_type": "code",
   "execution_count": null,
   "id": "4d4b3cc4",
   "metadata": {},
   "outputs": [],
   "source": [
    "sub_df.head(3)"
   ]
  },
  {
   "cell_type": "markdown",
   "id": "091b1cab",
   "metadata": {},
   "source": [
    "#### SMAPE"
   ]
  },
  {
   "cell_type": "code",
   "execution_count": null,
   "id": "d92077e1",
   "metadata": {},
   "outputs": [],
   "source": [
    "# calculate SMAPE between forecasts and actual values\n",
    "def smape(ts_true, ts_pred):\n",
    "    \n",
    "    y_true = ts_true.values.reshape(-1)\n",
    "    y_pred = ts_pred.values.reshape(-1)\n",
    "    numerator = 2 * np.abs(y_true - y_pred)\n",
    "    denominator = np.abs(y_pred) + np.abs(y_true)\n",
    "        \n",
    "    df = pd.DataFrame(index=range(max(numerator.shape)), columns=[\"Numerator\", \"Denominator\"])\n",
    "    df[\"Numerator\"] = numerator.T\n",
    "    df[\"Denominator\"] = denominator.T\n",
    "    \n",
    "    df = df[df[\"Denominator\"] != 0.0]   # Drop rows where column \"Denominator\" is equal to 0\n",
    "\n",
    "    return 100 * np.mean(df[\"Numerator\"].values/df[\"Denominator\"].values)"
   ]
  },
  {
   "cell_type": "code",
   "execution_count": null,
   "id": "e6eebce2",
   "metadata": {},
   "outputs": [],
   "source": [
    "smape(train_pivoted.iloc[1:,:],train_fitted)"
   ]
  },
  {
   "cell_type": "code",
   "execution_count": null,
   "id": "9ee9a1b7",
   "metadata": {},
   "outputs": [],
   "source": []
  },
  {
   "cell_type": "code",
   "execution_count": null,
   "id": "30c8c0ab",
   "metadata": {},
   "outputs": [],
   "source": []
  },
  {
   "cell_type": "code",
   "execution_count": null,
   "id": "1c2eab48",
   "metadata": {},
   "outputs": [],
   "source": []
  },
  {
   "cell_type": "code",
   "execution_count": null,
   "id": "89399267",
   "metadata": {},
   "outputs": [],
   "source": []
  },
  {
   "cell_type": "code",
   "execution_count": null,
   "id": "08d8bf29",
   "metadata": {},
   "outputs": [],
   "source": []
  },
  {
   "cell_type": "code",
   "execution_count": null,
   "id": "45797c54",
   "metadata": {},
   "outputs": [],
   "source": []
  },
  {
   "cell_type": "markdown",
   "id": "6280db1d",
   "metadata": {},
   "source": [
    "### Multiple Stacked Linear Regression"
   ]
  },
  {
   "cell_type": "code",
   "execution_count": null,
   "id": "0ec1856d",
   "metadata": {},
   "outputs": [],
   "source": [
    "# number of lags to use in X_train\n",
    "nlags = 4\n",
    "\n",
    "# number of steps between forecast origin and forecast horizon\n",
    "nlead_time = 1\n",
    "\n",
    "# number of forecast values to predict\n",
    "nsteps = 1\n"
   ]
  },
  {
   "cell_type": "code",
   "execution_count": null,
   "id": "b86ec62b",
   "metadata": {},
   "outputs": [],
   "source": [
    "# setup the feature dataframe with the corresponding lags and lead time\n",
    "def make_lags(ts, nlags, lead_time):\n",
    "    \n",
    "    return pd.concat({f'y_lag_{lag}': ts.shift(lag) for lag in range(lead_time, nlags + lead_time)}, axis=1)\n"
   ]
  },
  {
   "cell_type": "code",
   "execution_count": null,
   "id": "a6689388",
   "metadata": {
    "scrolled": false
   },
   "outputs": [],
   "source": [
    "# Four weeks of lag features\n",
    "y = train_pivoted.iloc[:, :3]\n",
    "X = make_lags(y, nlags, nlead_time).dropna()\n",
    "display(y.head())\n",
    "X.head()\n",
    "\n",
    "# y = train_pivoted.copy()\n",
    "# X = make_lags(y, nlags, nlead_time).fillna(0.0)\n",
    "# display(y.head())\n",
    "# X.head()"
   ]
  },
  {
   "cell_type": "code",
   "execution_count": null,
   "id": "ae1220f4",
   "metadata": {},
   "outputs": [],
   "source": [
    "# setup the dataframe with the corresponding shifs steps\n",
    "def make_multistep_target(ts, nsteps):\n",
    "    \n",
    "    return pd.concat({f'y_step_{i}': ts.shift(-i) for i in range(nsteps)}, axis=1)\n"
   ]
  },
  {
   "cell_type": "code",
   "execution_count": null,
   "id": "85e878e9",
   "metadata": {
    "scrolled": false
   },
   "outputs": [],
   "source": [
    "# 1-Month forecast\n",
    "y = make_multistep_target(y, nsteps).dropna()\n",
    "print(\"y multistep (forecast horizon): \")\n",
    "display(y)\n",
    "\n",
    "# Shifting has created indexes that don't match. Only keep times for\n",
    "# which we have both targets and features.\n",
    "y, X = y.align(X, join='inner', axis=0)\n",
    "print(\"\\ny align: \")\n",
    "display(y)\n",
    "print(\"\\nX align: \")\n",
    "X\n",
    "\n",
    "\n",
    "# # 1-Month forecast\n",
    "# y = make_multistep_target(y, nsteps).dropna()\n",
    "# print(\"y multistep (forecast horizon): \")\n",
    "# display(y.tail())\n",
    "\n",
    "# # Shifting has created indexes that don't match. Only keep times for\n",
    "# # which we have both targets and features.\n",
    "# y, X = y.align(X, join='inner', axis=0)\n",
    "# print(\"\\ny align: \")\n",
    "# display(y.tail())\n",
    "# print(\"\\nX align: \")\n",
    "# X.tail()"
   ]
  },
  {
   "cell_type": "markdown",
   "id": "95fc078f",
   "metadata": {},
   "source": [
    "#### Stacking training dataframes"
   ]
  },
  {
   "cell_type": "code",
   "execution_count": null,
   "id": "c86651c7",
   "metadata": {},
   "outputs": [],
   "source": [
    "le = LabelEncoder()\n",
    "\n",
    "X_train = X.stack(\"cfips\").reset_index(\"cfips\")   # wide to long\n",
    "# X_train[\"cfips\"] = le.fit_transform(X_train[\"cfips\"])\n",
    "\n",
    "y_train = y.stack('cfips')  # wide to long\n",
    "\n",
    "display(X_train)\n",
    "display(y_train)"
   ]
  },
  {
   "cell_type": "code",
   "execution_count": null,
   "id": "c497bc19",
   "metadata": {},
   "outputs": [],
   "source": []
  },
  {
   "cell_type": "markdown",
   "id": "5ccde9a2",
   "metadata": {},
   "source": [
    "#### Linear Regression Model"
   ]
  },
  {
   "cell_type": "code",
   "execution_count": null,
   "id": "adffa6c4",
   "metadata": {},
   "outputs": [],
   "source": [
    "# Create splits\n",
    "model = LinearRegression()\n",
    "model.fit(X_train, y_train)\n",
    "\n",
    "y_fit = pd.DataFrame(model.predict(X_train), index=y_train.index, columns=y_train.columns)\n",
    "y_fit_mul = y_fit.copy()"
   ]
  },
  {
   "cell_type": "code",
   "execution_count": null,
   "id": "96625f83",
   "metadata": {},
   "outputs": [],
   "source": [
    "y_fit_mul"
   ]
  },
  {
   "cell_type": "code",
   "execution_count": null,
   "id": "fa4e1a88",
   "metadata": {},
   "outputs": [],
   "source": [
    "U = y_fit_mul.reset_index('cfips')\n",
    "fit_mul = U[U.cfips == 1005].drop('cfips', axis=1)\n",
    "fit_mul"
   ]
  },
  {
   "cell_type": "code",
   "execution_count": null,
   "id": "92811aba",
   "metadata": {},
   "outputs": [],
   "source": [
    "axs = train_pivoted[1005].plot(color='C0', subplots=True, sharex=True, style='.-', label='y_true')\n",
    "axs = y_fit_single.plot(color='C1', subplots=True, sharex=True, ax=axs, style='.-', label='y_fit')\n",
    "axs = fit_mul.plot(color='C3', subplots=True, sharex=True, ax=axs, style='.-', label='y_fit')\n",
    "for ax in axs:\n",
    "    ax.legend()\n",
    "    ax.set_xlim(right='2023-01-01')\n",
    "_ = plt.suptitle(f\"Linear regression - cfip {cfip}\")"
   ]
  },
  {
   "cell_type": "code",
   "execution_count": null,
   "id": "0f211126",
   "metadata": {},
   "outputs": [],
   "source": []
  },
  {
   "cell_type": "code",
   "execution_count": null,
   "id": "942a4828",
   "metadata": {},
   "outputs": [],
   "source": []
  },
  {
   "cell_type": "code",
   "execution_count": null,
   "id": "1809a854",
   "metadata": {},
   "outputs": [],
   "source": []
  },
  {
   "cell_type": "code",
   "execution_count": null,
   "id": "05cb0048",
   "metadata": {},
   "outputs": [],
   "source": []
  }
 ],
 "metadata": {
  "kernelspec": {
   "display_name": "Python 3 (ipykernel)",
   "language": "python",
   "name": "python3"
  },
  "language_info": {
   "codemirror_mode": {
    "name": "ipython",
    "version": 3
   },
   "file_extension": ".py",
   "mimetype": "text/x-python",
   "name": "python",
   "nbconvert_exporter": "python",
   "pygments_lexer": "ipython3",
   "version": "3.9.12"
  }
 },
 "nbformat": 4,
 "nbformat_minor": 5
}
