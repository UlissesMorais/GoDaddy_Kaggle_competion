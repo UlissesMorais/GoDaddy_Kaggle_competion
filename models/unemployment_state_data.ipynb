{
 "cells": [
  {
   "cell_type": "code",
   "execution_count": 1,
   "id": "07e5c4e3",
   "metadata": {},
   "outputs": [],
   "source": [
    "import pandas as pd\n",
    "import numpy as np\n",
    "import os\n",
    "from warnings import simplefilter\n",
    "simplefilter(\"ignore\")"
   ]
  },
  {
   "cell_type": "code",
   "execution_count": 4,
   "id": "3c67c303",
   "metadata": {},
   "outputs": [],
   "source": [
    "def clean_data(df):\n",
    "    df['Local Area Unemployment Statistics'] = df['Local Area Unemployment Statistics'].fillna('None')\n",
    "    df = df.set_index('Local Area Unemployment Statistics', drop=True)\n",
    "    df = df.loc[['State/Region/Division:','Year',2019,2020,2021,2022], :]\n",
    "    df.columns = df.loc['Year']\n",
    "    df.columns.name = 'month'\n",
    "    state = df.loc['State/Region/Division:'][0]\n",
    "    df = df.drop(['State/Region/Division:', 'Year'], axis=0)\n",
    "    df.index.name = 'year'\n",
    "    df = df.stack().reset_index(drop=False)\n",
    "    df.index = pd.date_range(start=\"2019-01\", end=\"2022-12\", periods=None, freq=\"MS\")\n",
    "    df.index.name = 'Month'\n",
    "    df['state'] = state\n",
    "    df = df.rename(columns={0: 'unemployment_rate'}).drop(['year', 'month'], axis=1)\n",
    "    df['unemployment_rate'] = df['unemployment_rate'].astype(np.float64)\n",
    "    \n",
    "    return df"
   ]
  },
  {
   "cell_type": "code",
   "execution_count": 15,
   "id": "5665229a",
   "metadata": {},
   "outputs": [],
   "source": [
    "unmp_list = []\n",
    "for filename in os.listdir('./rawdata_states'):\n",
    "    state_unmp = pd.read_excel(f'./rawdata_states/{filename}',\n",
    "                            engine='openpyxl'\n",
    "                           )\n",
    "\n",
    "    unmp_list.append(clean_data(state_unmp))\n",
    "\n",
    "pd.concat(unmp_list,axis=0).to_csv('./files/state_unemployment.csv', header=True, index=True)"
   ]
  },
  {
   "cell_type": "code",
   "execution_count": null,
   "id": "7506dec4",
   "metadata": {},
   "outputs": [],
   "source": []
  },
  {
   "cell_type": "code",
   "execution_count": null,
   "id": "465771f1",
   "metadata": {},
   "outputs": [],
   "source": []
  }
 ],
 "metadata": {
  "kernelspec": {
   "display_name": "Python 3 (ipykernel)",
   "language": "python",
   "name": "python3"
  },
  "language_info": {
   "codemirror_mode": {
    "name": "ipython",
    "version": 3
   },
   "file_extension": ".py",
   "mimetype": "text/x-python",
   "name": "python",
   "nbconvert_exporter": "python",
   "pygments_lexer": "ipython3",
   "version": "3.9.12"
  }
 },
 "nbformat": 4,
 "nbformat_minor": 5
}
