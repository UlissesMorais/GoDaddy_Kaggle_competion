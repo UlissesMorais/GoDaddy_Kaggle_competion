{
 "cells": [
  {
   "cell_type": "markdown",
   "id": "faa9cdee",
   "metadata": {},
   "source": [
    "### Descrição - Modelo Time Dependent (ETS/ARIMA)\n",
    "\n",
    "Separa todo o conjunto de dados fornecidos ``train.csv`` para divider em treinamento e teste. Utiliza modelos **ETS** e **ARIMA** para regressão temporal e forecasting\n"
   ]
  },
  {
   "cell_type": "markdown",
   "id": "f7137a27",
   "metadata": {},
   "source": [
    "### Libraries"
   ]
  },
  {
   "cell_type": "code",
   "execution_count": 37,
   "id": "86dfe7dd",
   "metadata": {},
   "outputs": [],
   "source": [
    "from warnings import simplefilter\n",
    "import matplotlib.pyplot as plt\n",
    "import pandas as pd\n",
    "import numpy as np\n",
    "import itertools\n",
    "from random import sample\n",
    "from sklearn.linear_model import LinearRegression\n",
    "from sklearn.model_selection import train_test_split\n",
    "from statsmodels.tsa.seasonal import seasonal_decompose\n",
    "import statsmodels.api as sm\n",
    "from statsmodels.tsa.stattools import acf, pacf\n",
    "from statsmodels.graphics.tsaplots import plot_acf, plot_pacf\n",
    "from statsmodels.tsa.arima.model import ARIMA\n",
    "from statsmodels.tsa.statespace.sarimax import SARIMAX\n",
    "from statsmodels.tsa.stattools import adfuller\n",
    "from statsmodels.tsa.api import ExponentialSmoothing\n",
    "from statsmodels.tsa.deterministic import CalendarFourier, DeterministicProcess\n",
    "from xgboost import XGBRegressor\n",
    "\n",
    "simplefilter(\"ignore\")"
   ]
  },
  {
   "cell_type": "code",
   "execution_count": 2,
   "id": "78293573",
   "metadata": {},
   "outputs": [],
   "source": [
    "# Set Matplotlib defaults\n",
    "plt.style.use(\"seaborn-whitegrid\")\n",
    "plt.rc(\n",
    "    \"figure\",\n",
    "    autolayout=True,\n",
    "    figsize=(10, 6),\n",
    "    titlesize=18,\n",
    "    titleweight='bold'\n",
    "    )\n",
    "plt.rc(\n",
    "    \"axes\",\n",
    "    labelweight=\"bold\",\n",
    "    labelsize=\"large\",\n",
    "    titleweight=\"bold\",\n",
    "    titlesize=16,\n",
    "    titlepad=10,\n",
    "    )\n",
    "plot_params = dict(\n",
    "    color=\"0.75\",\n",
    "    style=\".-\",\n",
    "    markeredgecolor=\"0.25\",\n",
    "    markerfacecolor=\"0.25\",\n",
    "    )\n"
   ]
  },
  {
   "cell_type": "markdown",
   "id": "42976d98",
   "metadata": {},
   "source": [
    "### Import dataset"
   ]
  },
  {
   "cell_type": "code",
   "execution_count": 3,
   "id": "83505e22",
   "metadata": {
    "scrolled": false
   },
   "outputs": [
    {
     "name": "stdout",
     "output_type": "stream",
     "text": [
      "<class 'pandas.core.frame.DataFrame'>\n",
      "PeriodIndex: 122265 entries, 2019-08-01 to 2022-10-01\n",
      "Freq: D\n",
      "Data columns (total 2 columns):\n",
      " #   Column                 Non-Null Count   Dtype  \n",
      "---  ------                 --------------   -----  \n",
      " 0   cfips                  122265 non-null  int64  \n",
      " 1   microbusiness_density  122265 non-null  float64\n",
      "dtypes: float64(1), int64(1)\n",
      "memory usage: 2.8 MB\n",
      "None\n"
     ]
    },
    {
     "data": {
      "text/html": [
       "<div>\n",
       "<style scoped>\n",
       "    .dataframe tbody tr th:only-of-type {\n",
       "        vertical-align: middle;\n",
       "    }\n",
       "\n",
       "    .dataframe tbody tr th {\n",
       "        vertical-align: top;\n",
       "    }\n",
       "\n",
       "    .dataframe thead th {\n",
       "        text-align: right;\n",
       "    }\n",
       "</style>\n",
       "<table border=\"1\" class=\"dataframe\">\n",
       "  <thead>\n",
       "    <tr style=\"text-align: right;\">\n",
       "      <th></th>\n",
       "      <th>cfips</th>\n",
       "      <th>microbusiness_density</th>\n",
       "    </tr>\n",
       "    <tr>\n",
       "      <th>Month</th>\n",
       "      <th></th>\n",
       "      <th></th>\n",
       "    </tr>\n",
       "  </thead>\n",
       "  <tbody>\n",
       "    <tr>\n",
       "      <th>2019-08-01</th>\n",
       "      <td>1001</td>\n",
       "      <td>3.007682</td>\n",
       "    </tr>\n",
       "    <tr>\n",
       "      <th>2019-09-01</th>\n",
       "      <td>1001</td>\n",
       "      <td>2.884870</td>\n",
       "    </tr>\n",
       "    <tr>\n",
       "      <th>2019-10-01</th>\n",
       "      <td>1001</td>\n",
       "      <td>3.055843</td>\n",
       "    </tr>\n",
       "    <tr>\n",
       "      <th>2019-11-01</th>\n",
       "      <td>1001</td>\n",
       "      <td>2.993233</td>\n",
       "    </tr>\n",
       "    <tr>\n",
       "      <th>2019-12-01</th>\n",
       "      <td>1001</td>\n",
       "      <td>2.993233</td>\n",
       "    </tr>\n",
       "  </tbody>\n",
       "</table>\n",
       "</div>"
      ],
      "text/plain": [
       "            cfips  microbusiness_density\n",
       "Month                                   \n",
       "2019-08-01   1001               3.007682\n",
       "2019-09-01   1001               2.884870\n",
       "2019-10-01   1001               3.055843\n",
       "2019-11-01   1001               2.993233\n",
       "2019-12-01   1001               2.993233"
      ]
     },
     "execution_count": 3,
     "metadata": {},
     "output_type": "execute_result"
    }
   ],
   "source": [
    "cols = [\"cfips\", \"microbusiness_density\", \"active\"]\n",
    "train_df = pd.read_csv('./files/train.csv',\n",
    "                      usecols=[\"first_day_of_month\"] + cols,\n",
    "                      parse_dates=['first_day_of_month'],\n",
    "                      index_col='first_day_of_month',\n",
    "                      ).to_period('D').reindex(columns=cols)\n",
    "\n",
    "train_df.index.names = ['Month']\n",
    "# retail = pd.concat({'Sales': retail}, names=[None, 'Industries'], axis=1)\n",
    "train_df = train_df.drop(\"active\", axis=1)\n",
    "\n",
    "print(train_df.info())\n",
    "train_df.head()"
   ]
  },
  {
   "cell_type": "code",
   "execution_count": 4,
   "id": "c4a7a6a2",
   "metadata": {},
   "outputs": [],
   "source": [
    "# Treat values of population\n",
    "# train[\"population\"] = round(100 * train[\"active\"] / train[\"microbusiness_density\"])\n",
    "# train[\"population\"] = train[\"population\"].astype(np.int64)\n",
    "# display(train.loc[train['microbusiness_density'] == 0.0])\n",
    "# display(train.loc[train['cfips'] == 28055])"
   ]
  },
  {
   "cell_type": "markdown",
   "id": "b9f0d7c9",
   "metadata": {},
   "source": [
    "### Trend model"
   ]
  },
  {
   "cell_type": "markdown",
   "id": "4c62aefa",
   "metadata": {},
   "source": [
    "#### Pivoted dataframe"
   ]
  },
  {
   "cell_type": "code",
   "execution_count": 5,
   "id": "151b2cb6",
   "metadata": {},
   "outputs": [
    {
     "data": {
      "text/html": [
       "<div>\n",
       "<style scoped>\n",
       "    .dataframe tbody tr th:only-of-type {\n",
       "        vertical-align: middle;\n",
       "    }\n",
       "\n",
       "    .dataframe tbody tr th {\n",
       "        vertical-align: top;\n",
       "    }\n",
       "\n",
       "    .dataframe thead th {\n",
       "        text-align: right;\n",
       "    }\n",
       "</style>\n",
       "<table border=\"1\" class=\"dataframe\">\n",
       "  <thead>\n",
       "    <tr style=\"text-align: right;\">\n",
       "      <th>cfips</th>\n",
       "      <th>1001</th>\n",
       "      <th>1003</th>\n",
       "      <th>1005</th>\n",
       "      <th>1007</th>\n",
       "      <th>1009</th>\n",
       "      <th>1011</th>\n",
       "      <th>1013</th>\n",
       "      <th>1015</th>\n",
       "      <th>1017</th>\n",
       "      <th>1019</th>\n",
       "      <th>...</th>\n",
       "      <th>56027</th>\n",
       "      <th>56029</th>\n",
       "      <th>56031</th>\n",
       "      <th>56033</th>\n",
       "      <th>56035</th>\n",
       "      <th>56037</th>\n",
       "      <th>56039</th>\n",
       "      <th>56041</th>\n",
       "      <th>56043</th>\n",
       "      <th>56045</th>\n",
       "    </tr>\n",
       "    <tr>\n",
       "      <th>Month</th>\n",
       "      <th></th>\n",
       "      <th></th>\n",
       "      <th></th>\n",
       "      <th></th>\n",
       "      <th></th>\n",
       "      <th></th>\n",
       "      <th></th>\n",
       "      <th></th>\n",
       "      <th></th>\n",
       "      <th></th>\n",
       "      <th></th>\n",
       "      <th></th>\n",
       "      <th></th>\n",
       "      <th></th>\n",
       "      <th></th>\n",
       "      <th></th>\n",
       "      <th></th>\n",
       "      <th></th>\n",
       "      <th></th>\n",
       "      <th></th>\n",
       "      <th></th>\n",
       "    </tr>\n",
       "  </thead>\n",
       "  <tbody>\n",
       "    <tr>\n",
       "      <th>2019-08-01</th>\n",
       "      <td>3.007682</td>\n",
       "      <td>7.239156</td>\n",
       "      <td>1.073138</td>\n",
       "      <td>1.310777</td>\n",
       "      <td>1.544148</td>\n",
       "      <td>0.926372</td>\n",
       "      <td>0.674981</td>\n",
       "      <td>2.691544</td>\n",
       "      <td>1.486542</td>\n",
       "      <td>1.104277</td>\n",
       "      <td>...</td>\n",
       "      <td>1.150575</td>\n",
       "      <td>5.916088</td>\n",
       "      <td>4.062681</td>\n",
       "      <td>30.183279</td>\n",
       "      <td>6.115724</td>\n",
       "      <td>2.640386</td>\n",
       "      <td>26.433363</td>\n",
       "      <td>4.612016</td>\n",
       "      <td>2.603246</td>\n",
       "      <td>1.548594</td>\n",
       "    </tr>\n",
       "    <tr>\n",
       "      <th>2019-09-01</th>\n",
       "      <td>2.884870</td>\n",
       "      <td>7.290936</td>\n",
       "      <td>0.995794</td>\n",
       "      <td>1.305176</td>\n",
       "      <td>1.575892</td>\n",
       "      <td>0.998556</td>\n",
       "      <td>0.739265</td>\n",
       "      <td>2.703752</td>\n",
       "      <td>1.355156</td>\n",
       "      <td>1.089747</td>\n",
       "      <td>...</td>\n",
       "      <td>1.150575</td>\n",
       "      <td>5.894528</td>\n",
       "      <td>3.888567</td>\n",
       "      <td>31.712736</td>\n",
       "      <td>6.142085</td>\n",
       "      <td>2.858371</td>\n",
       "      <td>26.611856</td>\n",
       "      <td>4.338306</td>\n",
       "      <td>2.683593</td>\n",
       "      <td>1.530794</td>\n",
       "    </tr>\n",
       "    <tr>\n",
       "      <th>2019-10-01</th>\n",
       "      <td>3.055843</td>\n",
       "      <td>7.425439</td>\n",
       "      <td>1.160149</td>\n",
       "      <td>1.254761</td>\n",
       "      <td>1.546415</td>\n",
       "      <td>0.974495</td>\n",
       "      <td>0.713551</td>\n",
       "      <td>2.693764</td>\n",
       "      <td>1.355156</td>\n",
       "      <td>1.084903</td>\n",
       "      <td>...</td>\n",
       "      <td>1.150575</td>\n",
       "      <td>5.881592</td>\n",
       "      <td>3.903076</td>\n",
       "      <td>31.990431</td>\n",
       "      <td>6.181626</td>\n",
       "      <td>2.913635</td>\n",
       "      <td>26.736261</td>\n",
       "      <td>4.420419</td>\n",
       "      <td>2.635385</td>\n",
       "      <td>1.530794</td>\n",
       "    </tr>\n",
       "    <tr>\n",
       "      <th>2019-11-01</th>\n",
       "      <td>2.993233</td>\n",
       "      <td>7.426071</td>\n",
       "      <td>1.000628</td>\n",
       "      <td>1.254761</td>\n",
       "      <td>1.573625</td>\n",
       "      <td>1.022618</td>\n",
       "      <td>1.054256</td>\n",
       "      <td>2.739270</td>\n",
       "      <td>1.362664</td>\n",
       "      <td>1.084903</td>\n",
       "      <td>...</td>\n",
       "      <td>1.200600</td>\n",
       "      <td>5.954897</td>\n",
       "      <td>3.845038</td>\n",
       "      <td>32.776520</td>\n",
       "      <td>6.234348</td>\n",
       "      <td>3.008812</td>\n",
       "      <td>26.920164</td>\n",
       "      <td>4.372520</td>\n",
       "      <td>2.683593</td>\n",
       "      <td>1.601994</td>\n",
       "    </tr>\n",
       "    <tr>\n",
       "      <th>2019-12-01</th>\n",
       "      <td>2.993233</td>\n",
       "      <td>7.470274</td>\n",
       "      <td>1.000628</td>\n",
       "      <td>1.265965</td>\n",
       "      <td>1.555485</td>\n",
       "      <td>1.034649</td>\n",
       "      <td>1.054256</td>\n",
       "      <td>2.729281</td>\n",
       "      <td>1.343894</td>\n",
       "      <td>1.089747</td>\n",
       "      <td>...</td>\n",
       "      <td>1.200600</td>\n",
       "      <td>5.911776</td>\n",
       "      <td>3.845038</td>\n",
       "      <td>32.806427</td>\n",
       "      <td>6.273890</td>\n",
       "      <td>3.088637</td>\n",
       "      <td>26.903938</td>\n",
       "      <td>4.310935</td>\n",
       "      <td>2.635385</td>\n",
       "      <td>1.584194</td>\n",
       "    </tr>\n",
       "  </tbody>\n",
       "</table>\n",
       "<p>5 rows × 3135 columns</p>\n",
       "</div>"
      ],
      "text/plain": [
       "cfips          1001      1003      1005      1007      1009      1011   \\\n",
       "Month                                                                    \n",
       "2019-08-01  3.007682  7.239156  1.073138  1.310777  1.544148  0.926372   \n",
       "2019-09-01  2.884870  7.290936  0.995794  1.305176  1.575892  0.998556   \n",
       "2019-10-01  3.055843  7.425439  1.160149  1.254761  1.546415  0.974495   \n",
       "2019-11-01  2.993233  7.426071  1.000628  1.254761  1.573625  1.022618   \n",
       "2019-12-01  2.993233  7.470274  1.000628  1.265965  1.555485  1.034649   \n",
       "\n",
       "cfips          1013      1015      1017      1019   ...     56027     56029  \\\n",
       "Month                                               ...                       \n",
       "2019-08-01  0.674981  2.691544  1.486542  1.104277  ...  1.150575  5.916088   \n",
       "2019-09-01  0.739265  2.703752  1.355156  1.089747  ...  1.150575  5.894528   \n",
       "2019-10-01  0.713551  2.693764  1.355156  1.084903  ...  1.150575  5.881592   \n",
       "2019-11-01  1.054256  2.739270  1.362664  1.084903  ...  1.200600  5.954897   \n",
       "2019-12-01  1.054256  2.729281  1.343894  1.089747  ...  1.200600  5.911776   \n",
       "\n",
       "cfips          56031      56033     56035     56037      56039     56041  \\\n",
       "Month                                                                      \n",
       "2019-08-01  4.062681  30.183279  6.115724  2.640386  26.433363  4.612016   \n",
       "2019-09-01  3.888567  31.712736  6.142085  2.858371  26.611856  4.338306   \n",
       "2019-10-01  3.903076  31.990431  6.181626  2.913635  26.736261  4.420419   \n",
       "2019-11-01  3.845038  32.776520  6.234348  3.008812  26.920164  4.372520   \n",
       "2019-12-01  3.845038  32.806427  6.273890  3.088637  26.903938  4.310935   \n",
       "\n",
       "cfips          56043     56045  \n",
       "Month                           \n",
       "2019-08-01  2.603246  1.548594  \n",
       "2019-09-01  2.683593  1.530794  \n",
       "2019-10-01  2.635385  1.530794  \n",
       "2019-11-01  2.683593  1.601994  \n",
       "2019-12-01  2.635385  1.584194  \n",
       "\n",
       "[5 rows x 3135 columns]"
      ]
     },
     "execution_count": 5,
     "metadata": {},
     "output_type": "execute_result"
    }
   ],
   "source": [
    "# make pivot, setting date by index and cfips in columns\n",
    "train_pivoted = train_df.pivot_table(index='Month', columns='cfips', values='microbusiness_density')\n",
    "train_pivoted.head()"
   ]
  },
  {
   "cell_type": "markdown",
   "id": "86e9ba3e",
   "metadata": {},
   "source": [
    "### ETS Model"
   ]
  },
  {
   "cell_type": "code",
   "execution_count": 6,
   "id": "d4e79635",
   "metadata": {},
   "outputs": [],
   "source": [
    "# divide em treino e teste\n",
    "X_train = train_pivoted.iloc[:-4, :]\n",
    "X_test = train_pivoted.iloc[-4:, :]\n",
    "X_train.index = X_train.index.to_timestamp()\n",
    "# X_train.info()"
   ]
  },
  {
   "cell_type": "code",
   "execution_count": 7,
   "id": "7648fe7e",
   "metadata": {},
   "outputs": [],
   "source": [
    "# model = ExponentialSmoothing(X_train, trend='mul', damped_trend=True,\n",
    "#                              seasonal='add', seasonal_periods=None,\n",
    "#                             ).fit()#optimized=True,\n",
    "#                                   #use_brute=True,\n",
    "#                                   #remove_bias=True,\n",
    "#                                   #method='bh')\n",
    "\n",
    "# forecasts = model.forecast(4)"
   ]
  },
  {
   "cell_type": "code",
   "execution_count": 8,
   "id": "216022df",
   "metadata": {},
   "outputs": [],
   "source": [
    "# forecasts"
   ]
  },
  {
   "cell_type": "code",
   "execution_count": 9,
   "id": "ad15ef1c",
   "metadata": {},
   "outputs": [],
   "source": [
    "# plt.figure(figsize=(8,6))\n",
    "# train_pivoted.iloc[:, 1500].plot(label='Original data', style='.-')\n",
    "# forecasts.plot(label='Statsmodels forecast - ETS Model', style='.-')\n",
    "# model.fittedvalues.plot(label='fitted values', style='.-')\n",
    "# plt.title('cfips 1001 - Exponencial Smoothing' , fontsize=16)\n",
    "# # plt.ylabel(\"Monthly Sales Amount\");\n",
    "# plt.xlabel(\"Month\")\n",
    "# plt.legend();"
   ]
  },
  {
   "cell_type": "code",
   "execution_count": null,
   "id": "2d589241",
   "metadata": {},
   "outputs": [],
   "source": []
  },
  {
   "cell_type": "markdown",
   "id": "dd5b4228",
   "metadata": {},
   "source": [
    "### ARIMA model"
   ]
  },
  {
   "cell_type": "markdown",
   "id": "51768576",
   "metadata": {},
   "source": [
    "### Augmented Dickey Fuller Test\n",
    "\n",
    "Requirements for Stationary Series:\n",
    "\n",
    "- **Critical Value (5%)  >  Test Statistic**\n",
    "- **p-value  <  0.05**\n"
   ]
  },
  {
   "cell_type": "code",
   "execution_count": 10,
   "id": "b1551e8a",
   "metadata": {},
   "outputs": [],
   "source": [
    "def adf_reqs(train_df):\n",
    "    \n",
    "    df = pd.DataFrame(index=train_df.columns,\n",
    "                      columns=['test_statistic','p_value', 'critical_value_5pct'])\n",
    "    \n",
    "    for i in df.index:\n",
    "        \n",
    "        adftest = adfuller(train_df[i], autolag='AIC')\n",
    "        df.loc[i,:] = [adftest[0], adftest[1], adftest[4]['5%']]        \n",
    "    \n",
    "    for col in df.columns: df[col] = df[col].astype(float)\n",
    "    \n",
    "    df_notstat = df.loc[(df.p_value > .05) & (df.test_statistic > df.critical_value_5pct)]\n",
    "    df_notstat['stationary'] = 'not'\n",
    "    df_notstat.drop(['test_statistic','p_value', 'critical_value_5pct'], axis=1, inplace=True)\n",
    "    \n",
    "    df = df.merge(df_notstat, how='left', on='cfips').fillna('yes')\n",
    "    \n",
    "    return df\n"
   ]
  },
  {
   "cell_type": "code",
   "execution_count": 11,
   "id": "21e0c2ac",
   "metadata": {},
   "outputs": [],
   "source": [
    "adf_df = adf_reqs(train_pivoted)"
   ]
  },
  {
   "cell_type": "code",
   "execution_count": 12,
   "id": "9d6228d7",
   "metadata": {},
   "outputs": [],
   "source": [
    "# adf_df.loc[adf_df['stationary'] == 'yes']"
   ]
  },
  {
   "cell_type": "code",
   "execution_count": 13,
   "id": "8da6f5f8",
   "metadata": {},
   "outputs": [
    {
     "data": {
      "image/png": "[encoded data removed]",
      "text/plain": [
       "<Figure size 720x432 with 1 Axes>"
      ]
     },
     "metadata": {},
     "output_type": "display_data"
    }
   ],
   "source": [
    "X_train[1001].plot(**plot_params);"
   ]
  },
  {
   "cell_type": "code",
   "execution_count": 14,
   "id": "0035e297",
   "metadata": {},
   "outputs": [
    {
     "data": {
      "image/png": "[encoded data removed]",
      "text/plain": [
       "<Figure size 720x432 with 4 Axes>"
      ]
     },
     "metadata": {},
     "output_type": "display_data"
    }
   ],
   "source": [
    "decomposition = sm.tsa.seasonal_decompose(X_train[1001], model='additive')\n",
    "fig = decomposition.plot()\n",
    "plt.show()"
   ]
  },
  {
   "cell_type": "code",
   "execution_count": null,
   "id": "e28cfa1e",
   "metadata": {},
   "outputs": [],
   "source": [
    "# calculate SMAPE between forecasts and actual values\n",
    "def smape_error(y_pred, y_true):\n",
    "    numerator = 2 * np.abs(y_true - y_pred)\n",
    "    denominator = np.abs(y_pred) + np.abs(y_true)\n",
    "        \n",
    "    df = pd.DataFrame(index=range(max(numerator.shape)), columns=[\"Numerator\", \"Denominator\"])\n",
    "    df[\"Numerator\"] = numerator.T\n",
    "    df[\"Denominator\"] = denominator.T\n",
    "    \n",
    "    df = df[df[\"Denominator\"] != 0.0]   # Drop rows where column \"Denominator\" is equal to 0\n",
    "\n",
    "    return 100 * np.mean(df[\"Numerator\"].values/df[\"Denominator\"].values)"
   ]
  },
  {
   "cell_type": "code",
   "execution_count": null,
   "id": "b2c75127",
   "metadata": {},
   "outputs": [],
   "source": [
    "def best_pqd(df_train, df_pivoted, df_test):\n",
    "    \n",
    "    p, q, d = range(1,5), range(1,5), range(1,5)\n",
    "    pqd_comb = list(itertools.product(p,q,d))   # return all possible combinations between the parameters\n",
    "    df = pd.DataFrame(index=list(df_train.columns), columns=['p', 'q', 'd', 'testset_smaller_smape'])\n",
    "    df.index.name = df_train.columns.name\n",
    "    i = 0\n",
    "    for cfip in list(df.index)[300:]:\n",
    "        order=[]\n",
    "        error = []\n",
    "        \n",
    "        for pqd in pqd_comb:\n",
    "            try:\n",
    "                model = ARIMA(df_train[cfip], order=pqd).fit()\n",
    "                pred = model.predict(start=len(X_train[cfip]), end=(len(df_pivoted[cfip])-1))   # 2022-07 to 2022-10\n",
    "                error.append(smape_error(pred.values, df_test[cfip].values))\n",
    "            except:\n",
    "                continue\n",
    "        i+=1\n",
    "        print(i)\n",
    "        df.loc[cfip, :] = list(pqd_comb[error.index(min(error))]) + [min(error)]\n",
    "    \n",
    "    return df\n",
    "\n",
    "df = best_pqd(X_train, train_pivoted, X_test)\n",
    "df.to_csv('./files/ARIMA_best_pqd_p1-5_q1-5_d1-5_range_pt300_3135.csv', header=True, sep=\",\", index=True)"
   ]
  },
  {
   "cell_type": "code",
   "execution_count": null,
   "id": "52e31837",
   "metadata": {},
   "outputs": [],
   "source": [
    "# df.dropna()['testset_smaller_smape'].sort_values(ascending=False).head(20)"
   ]
  },
  {
   "cell_type": "code",
   "execution_count": null,
   "id": "b60ad1e5",
   "metadata": {},
   "outputs": [],
   "source": []
  },
  {
   "cell_type": "code",
   "execution_count": 47,
   "id": "2fa00e3e",
   "metadata": {},
   "outputs": [
    {
     "data": {
      "text/html": [
       "<div>\n",
       "<style scoped>\n",
       "    .dataframe tbody tr th:only-of-type {\n",
       "        vertical-align: middle;\n",
       "    }\n",
       "\n",
       "    .dataframe tbody tr th {\n",
       "        vertical-align: top;\n",
       "    }\n",
       "\n",
       "    .dataframe thead th {\n",
       "        text-align: right;\n",
       "    }\n",
       "</style>\n",
       "<table border=\"1\" class=\"dataframe\">\n",
       "  <thead>\n",
       "    <tr style=\"text-align: right;\">\n",
       "      <th></th>\n",
       "      <th>p</th>\n",
       "      <th>q</th>\n",
       "      <th>d</th>\n",
       "      <th>testset_smaller_smape</th>\n",
       "    </tr>\n",
       "    <tr>\n",
       "      <th>cfips</th>\n",
       "      <th></th>\n",
       "      <th></th>\n",
       "      <th></th>\n",
       "      <th></th>\n",
       "    </tr>\n",
       "  </thead>\n",
       "  <tbody>\n",
       "    <tr>\n",
       "      <th>8115</th>\n",
       "      <td>4.0</td>\n",
       "      <td>1.0</td>\n",
       "      <td>1.0</td>\n",
       "      <td>7.630006</td>\n",
       "    </tr>\n",
       "    <tr>\n",
       "      <th>8117</th>\n",
       "      <td>4.0</td>\n",
       "      <td>3.0</td>\n",
       "      <td>4.0</td>\n",
       "      <td>0.287217</td>\n",
       "    </tr>\n",
       "    <tr>\n",
       "      <th>8119</th>\n",
       "      <td>3.0</td>\n",
       "      <td>4.0</td>\n",
       "      <td>2.0</td>\n",
       "      <td>0.599437</td>\n",
       "    </tr>\n",
       "    <tr>\n",
       "      <th>8121</th>\n",
       "      <td>2.0</td>\n",
       "      <td>4.0</td>\n",
       "      <td>1.0</td>\n",
       "      <td>0.937040</td>\n",
       "    </tr>\n",
       "    <tr>\n",
       "      <th>8123</th>\n",
       "      <td>2.0</td>\n",
       "      <td>1.0</td>\n",
       "      <td>3.0</td>\n",
       "      <td>0.373656</td>\n",
       "    </tr>\n",
       "    <tr>\n",
       "      <th>...</th>\n",
       "      <td>...</td>\n",
       "      <td>...</td>\n",
       "      <td>...</td>\n",
       "      <td>...</td>\n",
       "    </tr>\n",
       "    <tr>\n",
       "      <th>17005</th>\n",
       "      <td>1.0</td>\n",
       "      <td>3.0</td>\n",
       "      <td>2.0</td>\n",
       "      <td>0.586115</td>\n",
       "    </tr>\n",
       "    <tr>\n",
       "      <th>17007</th>\n",
       "      <td>3.0</td>\n",
       "      <td>3.0</td>\n",
       "      <td>1.0</td>\n",
       "      <td>1.696866</td>\n",
       "    </tr>\n",
       "    <tr>\n",
       "      <th>17009</th>\n",
       "      <td>3.0</td>\n",
       "      <td>2.0</td>\n",
       "      <td>4.0</td>\n",
       "      <td>0.914337</td>\n",
       "    </tr>\n",
       "    <tr>\n",
       "      <th>17011</th>\n",
       "      <td>4.0</td>\n",
       "      <td>4.0</td>\n",
       "      <td>4.0</td>\n",
       "      <td>0.642847</td>\n",
       "    </tr>\n",
       "    <tr>\n",
       "      <th>17013</th>\n",
       "      <td>2.0</td>\n",
       "      <td>2.0</td>\n",
       "      <td>4.0</td>\n",
       "      <td>1.336947</td>\n",
       "    </tr>\n",
       "  </tbody>\n",
       "</table>\n",
       "<p>300 rows × 4 columns</p>\n",
       "</div>"
      ],
      "text/plain": [
       "         p    q    d  testset_smaller_smape\n",
       "cfips                                      \n",
       "8115   4.0  1.0  1.0               7.630006\n",
       "8117   4.0  3.0  4.0               0.287217\n",
       "8119   3.0  4.0  2.0               0.599437\n",
       "8121   2.0  4.0  1.0               0.937040\n",
       "8123   2.0  1.0  3.0               0.373656\n",
       "...    ...  ...  ...                    ...\n",
       "17005  1.0  3.0  2.0               0.586115\n",
       "17007  3.0  3.0  1.0               1.696866\n",
       "17009  3.0  2.0  4.0               0.914337\n",
       "17011  4.0  4.0  4.0               0.642847\n",
       "17013  2.0  2.0  4.0               1.336947\n",
       "\n",
       "[300 rows x 4 columns]"
      ]
     },
     "execution_count": 47,
     "metadata": {},
     "output_type": "execute_result"
    }
   ],
   "source": [
    "pqd_arima_df = pd.read_csv('./files/ARIMA_best_pqd_p1-5_q1-5_d1-5_range_pt300_600.csv', index_col=['cfips']).dropna()\n",
    "# pqd_arima_df.index = X_train.columns[:300]\n",
    "# pqd_arima_df.index.name = X_train.columns.name\n",
    "pqd_arima_df"
   ]
  },
  {
   "cell_type": "code",
   "execution_count": 43,
   "id": "f7f81ba2",
   "metadata": {},
   "outputs": [
    {
     "data": {
      "image/png": "[encoded data removed]",
      "text/plain": [
       "<Figure size 720x432 with 1 Axes>"
      ]
     },
     "metadata": {},
     "output_type": "display_data"
    }
   ],
   "source": [
    "cfip = 1001\n",
    "model = ARIMA(X_train[cfip], order=(3,2,2)).fit()\n",
    "pred = model.predict(start=len(X_train[cfip]), end=(len(train_pivoted[cfip])-1))\n",
    "\n",
    "model = SARIMAX(X_train[cfip], order=(3,2,2), seasonal_order=(3, 1, 2, 12)).fit()\n",
    "pred_sarimax = model.predict(start=len(X_train[cfip]), end=(len(train_pivoted[cfip])-1))\n",
    "\n",
    "# Plot ARIMA and SARIMAX\n",
    "axs = X_train[cfip].plot(color='0.25', subplots=True, sharex=True, style='.-')\n",
    "axs = X_test[cfip].plot(color='C1', subplots=True, sharex=True, ax=axs, style='.-')\n",
    "axs = pred.plot(color='C0', subplots=True, sharex=True, ax=axs, style='.-')\n",
    "axs = pred_sarimax.plot(color='C3', subplots=True, sharex=True, ax=axs, style='.-')\n",
    "plt.show()"
   ]
  },
  {
   "cell_type": "code",
   "execution_count": null,
   "id": "0c8c4c84",
   "metadata": {},
   "outputs": [],
   "source": []
  },
  {
   "cell_type": "code",
   "execution_count": null,
   "id": "f12cbf9e",
   "metadata": {},
   "outputs": [],
   "source": []
  },
  {
   "cell_type": "code",
   "execution_count": null,
   "id": "6b098710",
   "metadata": {},
   "outputs": [],
   "source": []
  },
  {
   "cell_type": "code",
   "execution_count": null,
   "id": "08c3eaf5",
   "metadata": {},
   "outputs": [],
   "source": []
  },
  {
   "cell_type": "code",
   "execution_count": null,
   "id": "9dfbfd96",
   "metadata": {},
   "outputs": [],
   "source": []
  },
  {
   "cell_type": "code",
   "execution_count": null,
   "id": "431a9903",
   "metadata": {},
   "outputs": [],
   "source": []
  },
  {
   "cell_type": "markdown",
   "id": "7fee8660",
   "metadata": {},
   "source": [
    "#### Trend features"
   ]
  },
  {
   "cell_type": "code",
   "execution_count": null,
   "id": "3cd9d1bd",
   "metadata": {},
   "outputs": [],
   "source": [
    "y = train_pivoted.copy()\n",
    "\n",
    "# Create trend features\n",
    "dp = DeterministicProcess(index=y.index,  # dates from the training data\n",
    "                          order=2,        # quadratic trend\n",
    "                          drop=True,      # drop terms to avoid collinearity\n",
    "                          )\n",
    "\n",
    "X = dp.in_sample()  # features for the training data\n",
    "X.head()"
   ]
  },
  {
   "cell_type": "markdown",
   "id": "c5793f77",
   "metadata": {},
   "source": [
    "#### Trend ML model"
   ]
  },
  {
   "cell_type": "code",
   "execution_count": null,
   "id": "bdbd09f4",
   "metadata": {},
   "outputs": [],
   "source": [
    "# Test on 2022-10-01, last month training data. It will be easier for us later if we\n",
    "# split the date index instead of the dataframe directly.\n",
    "idx_train, idx_test = train_test_split(y.index, test_size=1, shuffle=False)\n",
    "\n",
    "X_train, X_test = X.loc[idx_train, :], X.loc[idx_test, :]\n",
    "y_train, y_test = y.loc[idx_train], y.loc[idx_test]\n",
    "\n",
    "# Fit trend model\n",
    "model = LinearRegression()\n",
    "model.fit(X_train, y_train)        # use same features (X_train) to fit both targets ('BuildingMaterials' and 'FoodAndBeverage')\n",
    "\n",
    "# Make predictions\n",
    "y_fit = pd.DataFrame(\n",
    "    model.predict(X_train),\n",
    "    index=y_train.index,\n",
    "    columns=y_train.columns,\n",
    ")\n",
    "y_pred = pd.DataFrame(\n",
    "    model.predict(X_test),\n",
    "    index=y_test.index,\n",
    "    columns=y_test.columns,\n",
    ")\n",
    "\n",
    "y_train_copy, y_test_copy = y_train.copy(), y_test.copy()"
   ]
  },
  {
   "cell_type": "code",
   "execution_count": null,
   "id": "d1ed927f",
   "metadata": {},
   "outputs": [],
   "source": [
    "# Plot\n",
    "cfips_ex = sample(list(train_pivoted.columns), 3)\n",
    "axs = y_train_copy.loc[:, cfips_ex].plot(color='0.25', subplots=True, sharex=True, style='.-')\n",
    "axs = y_test_copy.loc[:, cfips_ex].plot(color='C1', subplots=True, sharex=True, ax=axs, style='.-')\n",
    "axs = y_fit.loc[:, cfips_ex].plot(color='C0', subplots=True, sharex=True, ax=axs, style='.-')\n",
    "axs = y_pred.loc[:, cfips_ex].plot(color='C3', subplots=True, sharex=True, ax=axs, style='.-')\n",
    "for ax in axs: ax.legend([])\n",
    "_ = plt.suptitle(f\"Trends - cfips {cfips_ex}\")"
   ]
  },
  {
   "cell_type": "markdown",
   "id": "35d3cb77",
   "metadata": {},
   "source": [
    "### XGBoost model"
   ]
  },
  {
   "cell_type": "markdown",
   "id": "dce5d58f",
   "metadata": {},
   "source": [
    "#### Stacking dataframe"
   ]
  },
  {
   "cell_type": "code",
   "execution_count": null,
   "id": "04d9596a",
   "metadata": {},
   "outputs": [],
   "source": [
    "X = pd.concat({'microbusinesses_density': train_pivoted}, names=[None, 'cfips'], axis=1).stack()\n",
    "display(X.head())\n",
    "\n",
    "y = X.pop(\"microbusinesses_density\")\n",
    "y.head()"
   ]
  },
  {
   "cell_type": "code",
   "execution_count": null,
   "id": "8fd4f2de",
   "metadata": {},
   "outputs": [],
   "source": [
    "# reset index and separate by industries\n",
    "X = X.reset_index('cfips')\n",
    "X.head()"
   ]
  },
  {
   "cell_type": "code",
   "execution_count": null,
   "id": "5cd9fb43",
   "metadata": {},
   "outputs": [],
   "source": [
    "# Label encoding for 'cfips' feature\n",
    "for colname in X.select_dtypes([\"int\", \"category\"]):  #select_dtypes() returns dataframe with the columns matching the format\n",
    "    X[colname], _ = X[colname].factorize()               #Encode the object as an enumerated type or categorical variable\n",
    "\n",
    "X.head()"
   ]
  },
  {
   "cell_type": "code",
   "execution_count": null,
   "id": "5bd33e5d",
   "metadata": {},
   "outputs": [],
   "source": [
    "# Label encoding for annual seasonality\n",
    "X[\"Month\"] = X.index.month  # values are 1, 2, ..., 12\n",
    "X.head()"
   ]
  },
  {
   "cell_type": "code",
   "execution_count": null,
   "id": "c01336b3",
   "metadata": {},
   "outputs": [],
   "source": [
    "# Create splits\n",
    "X_train, X_test = X.loc[idx_train, :], X.loc[idx_test, :]\n",
    "y_train, y_test = y.loc[idx_train], y.loc[idx_test]"
   ]
  },
  {
   "cell_type": "code",
   "execution_count": null,
   "id": "cb21cd18",
   "metadata": {},
   "outputs": [],
   "source": [
    "X_train.head()"
   ]
  },
  {
   "cell_type": "code",
   "execution_count": null,
   "id": "fbc7d176",
   "metadata": {},
   "outputs": [],
   "source": [
    "y_train.head()"
   ]
  },
  {
   "cell_type": "code",
   "execution_count": null,
   "id": "b046d467",
   "metadata": {},
   "outputs": [],
   "source": [
    "# Pivot wide to long (stack) and convert DataFrame to Series (squeeze)\n",
    "y_fit = y_fit.stack().squeeze()    # trend from training set\n",
    "y_pred = y_pred.stack().squeeze()  # trend from test set"
   ]
  },
  {
   "cell_type": "code",
   "execution_count": null,
   "id": "c024aebc",
   "metadata": {},
   "outputs": [],
   "source": [
    "y_fit.head()"
   ]
  },
  {
   "cell_type": "code",
   "execution_count": null,
   "id": "2c5dd73b",
   "metadata": {},
   "outputs": [],
   "source": [
    "# Create residuals (the collection of detrended series) from the training set\n",
    "y_resid = y_train - y_fit\n",
    "\n",
    "# Train XGBoost on the residuals\n",
    "xgb = XGBRegressor()\n",
    "xgb.fit(X_train, y_resid)\n",
    "\n",
    "# Add the predicted residuals onto the predicted trends\n",
    "y_fit_boosted = xgb.predict(X_train) + y_fit\n",
    "y_pred_boosted = xgb.predict(X_test) + y_pred\n",
    "\n",
    "# Make predictions\n",
    "y_fit_hybrid = pd.DataFrame(y_fit_boosted.unstack(),\n",
    "                             index=y_fit_boosted.unstack().index,\n",
    "                             columns=y_fit_boosted.unstack().columns,\n",
    "                            )\n",
    "y_pred_hybrid = pd.DataFrame(y_pred_boosted.unstack(),\n",
    "                      index=y_pred_boosted.unstack().index,\n",
    "                      columns=y_pred_boosted.unstack().columns,\n",
    "                     )\n",
    "\n",
    "# Sets negatives predicted values to 0\n",
    "y_pred_hybrid[y_pred_hybrid < 0] = 0\n"
   ]
  },
  {
   "cell_type": "code",
   "execution_count": null,
   "id": "ad5d55ad",
   "metadata": {},
   "outputs": [],
   "source": [
    "y_pred_hybrid.head(6)"
   ]
  },
  {
   "cell_type": "code",
   "execution_count": null,
   "id": "96a4246f",
   "metadata": {},
   "outputs": [],
   "source": [
    "# Plot\n",
    "cfips_ex = sample(list(train_pivoted.columns), 3)\n",
    "axs = y_train_copy.loc[:, cfips_ex].plot(color='0.25', subplots=True, sharex=True, style='.-')\n",
    "axs = y_test_copy.loc[:, cfips_ex].plot(color='C1', subplots=True, sharex=True, ax=axs, style='.-')\n",
    "axs = y_fit_hybrid.loc[:, cfips_ex].plot(color='C0', subplots=True, sharex=True, ax=axs, style='.-')\n",
    "axs = y_pred_hybrid.loc[:, cfips_ex].plot(color='C3', subplots=True, sharex=True, ax=axs, style='.-')\n",
    "for ax in axs: ax.legend([])\n",
    "_ = plt.suptitle(f\"Trends - cfips {cfips_ex}\")"
   ]
  },
  {
   "cell_type": "markdown",
   "id": "a4c4cda9",
   "metadata": {},
   "source": [
    "### SMAPE"
   ]
  },
  {
   "cell_type": "code",
   "execution_count": null,
   "id": "2f9f4b52",
   "metadata": {},
   "outputs": [],
   "source": [
    "# calculate SMAPE between forecasts and actual values\n",
    "def smape(y_pred, y_true):\n",
    "    numerator = 2 * np.abs(y_true - y_pred)\n",
    "    denominator = np.abs(y_pred) + np.abs(y_true)\n",
    "        \n",
    "    df = pd.DataFrame(index=range(max(numerator.shape)), columns=[\"Numerator\", \"Denominator\"])\n",
    "    df[\"Numerator\"] = numerator.T\n",
    "    df[\"Denominator\"] = denominator.T\n",
    "    \n",
    "    df = df[df[\"Denominator\"] != 0.0]   # Drop rows where column \"Denominator\" is equal to 0\n",
    "\n",
    "    return 100 * np.mean(df[\"Numerator\"].values/df[\"Denominator\"].values)\n"
   ]
  },
  {
   "cell_type": "code",
   "execution_count": null,
   "id": "3aebbe7d",
   "metadata": {},
   "outputs": [],
   "source": [
    "SMAPE = smape(y_pred_hybrid.values, y_test_copy.values)\n",
    "error = 200 * np.abs(y_pred_hybrid.values - y_test_copy.values) / (np.abs(y_pred_hybrid.values) + np.abs(y_test_copy.values))\n",
    "error_df = pd.DataFrame(error.T, index=list(y_pred_hybrid.columns)).squeeze().fillna(0)\n",
    "\n",
    "print(\"\\nSMAPE error (): \", SMAPE)\n",
    "print(\"\\ncfips higher error: \")\n",
    "print(error_df.sort_values(ascending=False), \"\\n\")\n",
    "\n",
    "# Plot\n",
    "error_df.plot(**plot_params);"
   ]
  },
  {
   "cell_type": "code",
   "execution_count": null,
   "id": "0adff491",
   "metadata": {},
   "outputs": [],
   "source": [
    "error_df[error_df <= 1.09].sort_values(ascending=False)"
   ]
  },
  {
   "cell_type": "markdown",
   "id": "223a77af",
   "metadata": {},
   "source": [
    "### Error analysis"
   ]
  },
  {
   "cell_type": "code",
   "execution_count": null,
   "id": "77cdc11a",
   "metadata": {},
   "outputs": [],
   "source": [
    "# Plot\n",
    "cfips_ex = error_df.sort_values(ascending=False).index[:5]\n",
    "axs = y_train_copy.loc[:, cfips_ex].plot(color='0.25', subplots=True, sharex=True, style='.-')\n",
    "axs = y_test_copy.loc[:, cfips_ex].plot(color='C1', subplots=True, sharex=True, ax=axs, style='.-')\n",
    "axs = y_fit_hybrid.loc[:, cfips_ex].plot(color='C0', subplots=True, sharex=True, ax=axs, style='.-')\n",
    "axs = y_pred_hybrid.loc[:, cfips_ex].plot(color='C3', subplots=True, sharex=True, ax=axs, style='.-')\n",
    "for ax in axs: ax.legend([])\n",
    "_ = plt.suptitle(f\"Trends - cfips {cfips_ex}\")"
   ]
  },
  {
   "cell_type": "code",
   "execution_count": null,
   "id": "c03dd7c9",
   "metadata": {},
   "outputs": [],
   "source": []
  },
  {
   "cell_type": "code",
   "execution_count": null,
   "id": "50d5d521",
   "metadata": {},
   "outputs": [],
   "source": []
  },
  {
   "cell_type": "code",
   "execution_count": null,
   "id": "ccf3f71b",
   "metadata": {},
   "outputs": [],
   "source": []
  },
  {
   "cell_type": "code",
   "execution_count": null,
   "id": "634a0ed7",
   "metadata": {},
   "outputs": [],
   "source": []
  }
 ],
 "metadata": {
  "kernelspec": {
   "display_name": "Python 3 (ipykernel)",
   "language": "python",
   "name": "python3"
  },
  "language_info": {
   "codemirror_mode": {
    "name": "ipython",
    "version": 3
   },
   "file_extension": ".py",
   "mimetype": "text/x-python",
   "name": "python",
   "nbconvert_exporter": "python",
   "pygments_lexer": "ipython3",
   "version": "3.9.12"
  }
 },
 "nbformat": 4,
 "nbformat_minor": 5
}
