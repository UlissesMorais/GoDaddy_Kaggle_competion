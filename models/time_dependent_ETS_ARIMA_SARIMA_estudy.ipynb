{
 "cells": [
  {
   "cell_type": "markdown",
   "id": "faa9cdee",
   "metadata": {},
   "source": [
    "### Descrição - Modelo Time Dependent (ETS/ARIMA/SARIMA)\n",
    "\n",
    "Separa todo o conjunto de dados fornecidos ``train.csv`` para divider em treinamento e teste. Utiliza modelos **ETS** e **ARIMA** para regressão temporal e forecasting\n"
   ]
  },
  {
   "cell_type": "markdown",
   "id": "f7137a27",
   "metadata": {},
   "source": [
    "### Libraries"
   ]
  },
  {
   "cell_type": "code",
   "execution_count": null,
   "id": "86dfe7dd",
   "metadata": {},
   "outputs": [],
   "source": [
    "from warnings import simplefilter\n",
    "import matplotlib.pyplot as plt\n",
    "import pandas as pd\n",
    "import numpy as np\n",
    "import itertools\n",
    "from random import sample\n",
    "import statsmodels.api as sm\n",
    "from sklearn.linear_model import LinearRegression\n",
    "from sklearn.model_selection import train_test_split\n",
    "from statsmodels.tsa.seasonal import seasonal_decompose\n",
    "from statsmodels.tsa.statespace.sarimax import SARIMAX\n",
    "from statsmodels.tsa.arima.model import ARIMA\n",
    "from statsmodels.tsa.stattools import adfuller\n",
    "from statsmodels.graphics.tsaplots import plot_acf, plot_pacf\n",
    "from statsmodels.tsa.api import ExponentialSmoothing\n",
    "from statsmodels.tsa.deterministic import CalendarFourier, DeterministicProcess\n",
    "from xgboost import XGBRegressor\n",
    "\n",
    "simplefilter(\"ignore\")"
   ]
  },
  {
   "cell_type": "code",
   "execution_count": null,
   "id": "78293573",
   "metadata": {},
   "outputs": [],
   "source": [
    "# Set Matplotlib defaults\n",
    "plt.style.use(\"seaborn-whitegrid\")\n",
    "plt.rc(\n",
    "    \"figure\",\n",
    "    autolayout=True,\n",
    "    figsize=(10, 6),\n",
    "    titlesize=18,\n",
    "    titleweight='bold'\n",
    "    )\n",
    "plt.rc(\n",
    "    \"axes\",\n",
    "    labelweight=\"bold\",\n",
    "    labelsize=\"large\",\n",
    "    titleweight=\"bold\",\n",
    "    titlesize=16,\n",
    "    titlepad=10,\n",
    "    )\n",
    "plot_params = dict(\n",
    "    color=\"0.75\",\n",
    "    style=\".-\",\n",
    "    markeredgecolor=\"0.25\",\n",
    "    markerfacecolor=\"0.25\",\n",
    "    )\n"
   ]
  },
  {
   "cell_type": "markdown",
   "id": "42976d98",
   "metadata": {},
   "source": [
    "### Import dataset"
   ]
  },
  {
   "cell_type": "code",
   "execution_count": null,
   "id": "83505e22",
   "metadata": {
    "scrolled": false
   },
   "outputs": [],
   "source": [
    "cols = [\"cfips\", \"microbusiness_density\", \"active\"]\n",
    "train_df = pd.read_csv('./files/train.csv',\n",
    "                      usecols=[\"first_day_of_month\"] + cols,\n",
    "                      parse_dates=['first_day_of_month'],\n",
    "                      index_col='first_day_of_month',\n",
    "                      ).to_period('D').reindex(columns=cols)\n",
    "\n",
    "train_df.index.names = ['Month']\n",
    "# retail = pd.concat({'Sales': retail}, names=[None, 'Industries'], axis=1)\n",
    "train_df = train_df.drop(\"active\", axis=1)\n",
    "\n",
    "print(train_df.info())\n",
    "train_df.head()"
   ]
  },
  {
   "cell_type": "code",
   "execution_count": null,
   "id": "c43db06b",
   "metadata": {},
   "outputs": [],
   "source": []
  },
  {
   "cell_type": "markdown",
   "id": "b9f0d7c9",
   "metadata": {},
   "source": [
    "### Trend model"
   ]
  },
  {
   "cell_type": "markdown",
   "id": "4c62aefa",
   "metadata": {},
   "source": [
    "#### Pivoted dataframe"
   ]
  },
  {
   "cell_type": "code",
   "execution_count": null,
   "id": "151b2cb6",
   "metadata": {},
   "outputs": [],
   "source": [
    "# make pivot, setting date by index and cfips in columns\n",
    "train_pivoted = train_df.pivot_table(index='Month', columns='cfips', values='microbusiness_density')\n",
    "train_pivoted.head()"
   ]
  },
  {
   "cell_type": "markdown",
   "id": "11b1639b",
   "metadata": {},
   "source": [
    "#### Train/Test split"
   ]
  },
  {
   "cell_type": "code",
   "execution_count": null,
   "id": "d4e79635",
   "metadata": {},
   "outputs": [],
   "source": [
    "# divide em treino e teste\n",
    "X_train = train_pivoted.copy()\n",
    "X_test = train_pivoted.iloc[-4:, :]\n",
    "X_train.index = X_train.index.to_timestamp()\n",
    "# X_train.info()"
   ]
  },
  {
   "cell_type": "markdown",
   "id": "e6b549ee",
   "metadata": {},
   "source": [
    "#### SMAPE"
   ]
  },
  {
   "cell_type": "code",
   "execution_count": null,
   "id": "e28cfa1e",
   "metadata": {},
   "outputs": [],
   "source": [
    "# calculate SMAPE between forecasts and actual values\n",
    "def smape_error(y_pred, y_true):\n",
    "    numerator = 2 * np.abs(y_true.values - y_pred.values)\n",
    "    denominator = np.abs(y_pred.values) + np.abs(y_true.values)\n",
    "    \n",
    "    df = pd.DataFrame(index=range(max(numerator.shape)), columns=[\"Numerator\", \"Denominator\"])\n",
    "    df[\"Numerator\"] = numerator.T\n",
    "    df[\"Denominator\"] = denominator.T\n",
    "    \n",
    "    df = df[df[\"Denominator\"] != 0.0]   # Drop rows where column \"Denominator\" is equal to 0\n",
    "\n",
    "    return 100 * np.mean(df[\"Numerator\"].values/df[\"Denominator\"].values)\n"
   ]
  },
  {
   "cell_type": "markdown",
   "id": "86e9ba3e",
   "metadata": {},
   "source": [
    "### ETS Model"
   ]
  },
  {
   "cell_type": "code",
   "execution_count": null,
   "id": "7648fe7e",
   "metadata": {
    "scrolled": true
   },
   "outputs": [],
   "source": [
    "def best_ets_params(df_train, df_test):\n",
    "    \n",
    "    trend = ['add', 'mul', None]\n",
    "    damped_trend = [False, True]\n",
    "    seasonal = ['add', 'mul', None]\n",
    "    #seasonal_periods = [12]\n",
    "    #initialization_method = ['estimated'] # ['estimated', 'heuristic']\n",
    "\n",
    "    # return all possible combinations between the parameters\n",
    "    params_comb = list(itertools.product(trend, damped_trend, seasonal, seasonal_periods, initialization_method))[:-3]\n",
    "    \n",
    "    df = pd.DataFrame(index=list(df_train.columns),\n",
    "                      columns=['smape_ets_train', 'min_smape_ets_test', 'trend', 'damped_trend',\n",
    "                               'seasonal', 'seasonal_periods', 'init_method']\n",
    "                     )\n",
    "    \n",
    "    df.index.name = df_train.columns.name\n",
    "    i = 0\n",
    "    \n",
    "    for cfip in list(df.index)[2000:2500]:\n",
    "        error_train, error_test = [], []\n",
    "        \n",
    "        for params in params_comb:\n",
    "            try:\n",
    "                model = ExponentialSmoothing(df_train[cfip], trend=params[0], damped_trend=params[1], seasonal=params[2],\n",
    "                                             seasonal_periods=params[3], initialization_method=params[4],\n",
    "                                            ).fit(optimized=True,\n",
    "                                                  use_brute=True,\n",
    "                                                  remove_bias=True,\n",
    "                                                  method='bh',\n",
    "                                                 )\n",
    "                \n",
    "                fitted_values = model.fittedvalues\n",
    "                forecasts = model.forecast(4)\n",
    "                error_train.append(smape_error(fitted_values, df_train[cfip]))\n",
    "                error_test.append(smape_error(forecasts, df_test[cfip]))\n",
    "                \n",
    "            except:\n",
    "                model = ExponentialSmoothing(df_train[cfip], trend=params[0], damped_trend=params[1], seasonal=params[2],\n",
    "                                             seasonal_periods=params[3], initialization_method=params[4],\n",
    "                                            ).fit()\n",
    "                \n",
    "                fitted_values = model.fittedvalues\n",
    "                forecasts = model.forecast(4)\n",
    "                error_train.append(smape_error(fitted_values, df_train[cfip]))\n",
    "                error_test.append(smape_error(forecasts, df_test[cfip]))\n",
    "        \n",
    "        i+=1\n",
    "        print(i, len(error_train), len(error_test), len(params_comb))\n",
    "        # df.loc[cfip, :] = [error_train[0], error_test[0]] + list(params_comb[0])\n",
    "        idx = error_test.index(min(error_test))\n",
    "        df.loc[cfip, :] = [error_train[idx]] + [error_test[idx]] + list(params_comb[idx])\n",
    "    \n",
    "    return df\n",
    "\n",
    "df = best_ets_params(X_train, X_test)\n",
    "df.to_csv('./files/ETS_best_params_CV.csv', header=True, sep=\",\", index=True)\n"
   ]
  },
  {
   "cell_type": "code",
   "execution_count": null,
   "id": "fb12bd0c",
   "metadata": {},
   "outputs": [],
   "source": [
    "df.dropna().mean()"
   ]
  },
  {
   "cell_type": "code",
   "execution_count": null,
   "id": "942e77bc",
   "metadata": {},
   "outputs": [],
   "source": [
    "ets_df = pd.read_csv('./files/ETS_initial_params.csv', index_col=['cfips'], dtype={'seasonal_periods': np.int64})\n",
    "ets_df.iloc[:600].mean()\n",
    "# U = ets_df.sort_values('smape_ets_test', ascending=False)\n",
    "# U"
   ]
  },
  {
   "cell_type": "code",
   "execution_count": null,
   "id": "6e32f261",
   "metadata": {},
   "outputs": [],
   "source": [
    "print(U['smape_ets_test'].mean())\n",
    "\n",
    "plt.figure(figsize=(8,6))\n",
    "axs = X_train[17093].plot(label='Original data', color='C0', style='.-', sharex=True)\n",
    "X_test[17093].plot(label='X_test', color='C0', ax=axs)\n",
    "plt.show()"
   ]
  },
  {
   "cell_type": "code",
   "execution_count": null,
   "id": "ad15ef1c",
   "metadata": {},
   "outputs": [],
   "source": [
    "plt.figure(figsize=(8,6))\n",
    "axs = X_train[42101].plot(label='Original data', color='C0', style='.-', sharex=True)\n",
    "X_test[42101].plot(label='X_test', color='C0', ax=axs)\n",
    "forecasts.plot(label='ETS Model', style='.-', color='C1', ax=axs)\n",
    "model.fittedvalues.plot(label='fitted values', style='.-', color='C3')\n",
    "plt.title('cfip 42101 - Exponencial Smoothing' , fontsize=16)\n",
    "# plt.ylabel(\"Monthly Sales Amount\");\n",
    "plt.xlabel(\"Month\")\n",
    "plt.legend();"
   ]
  },
  {
   "cell_type": "code",
   "execution_count": null,
   "id": "2d589241",
   "metadata": {},
   "outputs": [],
   "source": [
    "residuals = X_train[42101] # - model.fittedvalues\n",
    "\n",
    "res_df = pd.DataFrame(residuals) #columns=['residual']\n",
    "res_df['lag1'] = res_df[42101].shift(1)\n",
    "res_df.dropna(inplace=True)\n",
    "res_df.head()"
   ]
  },
  {
   "cell_type": "code",
   "execution_count": null,
   "id": "7a0d37d7",
   "metadata": {},
   "outputs": [],
   "source": [
    "res_df.plot(kind='scatter', x='lag1', y=42101);"
   ]
  },
  {
   "cell_type": "code",
   "execution_count": null,
   "id": "1309e5fc",
   "metadata": {},
   "outputs": [],
   "source": []
  },
  {
   "cell_type": "code",
   "execution_count": null,
   "id": "6cca0df6",
   "metadata": {},
   "outputs": [],
   "source": []
  },
  {
   "cell_type": "markdown",
   "id": "dd5b4228",
   "metadata": {},
   "source": [
    "### ARIMA model"
   ]
  },
  {
   "cell_type": "markdown",
   "id": "51768576",
   "metadata": {},
   "source": [
    "### Augmented Dickey Fuller Test\n",
    "\n",
    "Requirements for Stationary Series:\n",
    "\n",
    "- **Critical Value (5%)  >  Test Statistic**\n",
    "- **p-value  <  0.05**\n"
   ]
  },
  {
   "cell_type": "code",
   "execution_count": null,
   "id": "b1551e8a",
   "metadata": {},
   "outputs": [],
   "source": [
    "def adf_reqs(train_df):\n",
    "    \n",
    "    df = pd.DataFrame(index=train_df.columns,\n",
    "                      columns=['test_statistic','p_value', 'critical_value_5pct'])\n",
    "    \n",
    "    for i in df.index:\n",
    "        \n",
    "        adftest = adfuller(train_df[i], autolag='AIC')\n",
    "        df.loc[i,:] = [adftest[0], adftest[1], adftest[4]['5%']]        \n",
    "    \n",
    "    for col in df.columns: df[col] = df[col].astype(float)\n",
    "    \n",
    "    df_notstat = df.loc[(df.p_value > .05) & (df.test_statistic > df.critical_value_5pct)]\n",
    "    df_notstat['stationary'] = 'not'\n",
    "    df_notstat.drop(['test_statistic','p_value', 'critical_value_5pct'], axis=1, inplace=True)\n",
    "    \n",
    "    df = df.merge(df_notstat, how='left', on='cfips').fillna('yes')\n",
    "    \n",
    "    return df\n"
   ]
  },
  {
   "cell_type": "code",
   "execution_count": null,
   "id": "21e0c2ac",
   "metadata": {},
   "outputs": [],
   "source": [
    "adf_df = adf_reqs(train_pivoted)"
   ]
  },
  {
   "cell_type": "code",
   "execution_count": null,
   "id": "0035e297",
   "metadata": {},
   "outputs": [],
   "source": [
    "decomposition = sm.tsa.seasonal_decompose(X_train[42101], model='additive')\n",
    "fig = decomposition.plot()\n",
    "plt.show()"
   ]
  },
  {
   "cell_type": "code",
   "execution_count": null,
   "id": "df4ce768",
   "metadata": {},
   "outputs": [],
   "source": [
    "adfuller(X_train[cfip], autolag='AIC')"
   ]
  },
  {
   "cell_type": "code",
   "execution_count": null,
   "id": "d66b0777",
   "metadata": {},
   "outputs": [],
   "source": [
    "adfuller(X_train[cfip].diff().dropna(), autolag='AIC')"
   ]
  },
  {
   "cell_type": "code",
   "execution_count": null,
   "id": "960a9d96",
   "metadata": {},
   "outputs": [],
   "source": [
    "plot_acf(X_train[cfip].diff().dropna(), lags=12);"
   ]
  },
  {
   "cell_type": "code",
   "execution_count": null,
   "id": "5e5efe14",
   "metadata": {},
   "outputs": [],
   "source": [
    "plot_pacf(X_train[cfip].diff().dropna(), lags=12);"
   ]
  },
  {
   "cell_type": "code",
   "execution_count": null,
   "id": "0eee0ee6",
   "metadata": {},
   "outputs": [],
   "source": [
    "cfip=1007\n",
    "model = ARIMA(X_train[cfip], order=(2,0,2)).fit()\n",
    "model.summary()"
   ]
  },
  {
   "cell_type": "code",
   "execution_count": null,
   "id": "4ec49b52",
   "metadata": {},
   "outputs": [],
   "source": [
    "pred = model.predict()\n",
    "residuals = X_train[cfip] - pred\n",
    "fore = model.predict(start=len(X_train[cfip]), end=(len(train_pivoted[cfip])-1+4))\n",
    "print(fore)\n"
   ]
  },
  {
   "cell_type": "code",
   "execution_count": null,
   "id": "7a5f5062",
   "metadata": {},
   "outputs": [],
   "source": [
    "X_train[cfip].plot(**plot_params)\n",
    "X_test[cfip].plot(**plot_params)\n",
    "pred[1:].plot()\n",
    "fore.plot(color='C1')\n",
    "plt.show()\n"
   ]
  },
  {
   "cell_type": "code",
   "execution_count": null,
   "id": "6eeed2bb",
   "metadata": {},
   "outputs": [],
   "source": [
    "residuals[1:].plot()\n",
    "plt.show()"
   ]
  },
  {
   "cell_type": "code",
   "execution_count": null,
   "id": "92c8a9a5",
   "metadata": {},
   "outputs": [],
   "source": [
    "res_df = pd.DataFrame(residuals[1:], columns=['residual'])\n",
    "res_df['lag1'] = res_df.residual.shift(1)\n",
    "res_df.dropna(inplace=True)\n",
    "res_df.head()"
   ]
  },
  {
   "cell_type": "code",
   "execution_count": null,
   "id": "b710af03",
   "metadata": {},
   "outputs": [],
   "source": [
    "res_df.plot(kind='scatter', x='lag1', y='residual')"
   ]
  },
  {
   "cell_type": "code",
   "execution_count": null,
   "id": "389f08ce",
   "metadata": {},
   "outputs": [],
   "source": []
  },
  {
   "cell_type": "markdown",
   "id": "f8ac1ce8",
   "metadata": {},
   "source": [
    "### Iterate (p, d, q) ARIMA model"
   ]
  },
  {
   "cell_type": "code",
   "execution_count": null,
   "id": "b2c75127",
   "metadata": {
    "scrolled": true
   },
   "outputs": [],
   "source": [
    "def best_pdq(df_train, df_pivoted, df_test):\n",
    "    \n",
    "    p, d, q = range(0,3), range(0,2), range(0,3)\n",
    "    pdq_comb = list(itertools.product(p,d,q))[1:]   # return all possible combinations between the parameters\n",
    "    pdq_comb\n",
    "    \n",
    "    df = pd.DataFrame(index=list(df_train.columns), columns=['trainset_smape', 'testset_min_smape', 'p', 'd', 'q'])\n",
    "    df.index.name = df_train.columns.name\n",
    "    i = 0\n",
    "    for cfip in list(df.index):\n",
    "        error_train, error_test = [], []\n",
    "        \n",
    "        for pdq in pdq_comb:\n",
    "            try:\n",
    "                model = ARIMA(df_train[cfip], order=pdq).fit()\n",
    "                fitted_values = model.predict()\n",
    "                forecasts = model.predict(start=len(df_train[cfip]), end=(len(df_pivoted[cfip])-1))   # 2022-07 to 2022-10\n",
    "                error_train.append(smape_error(fitted_values, df_train[cfip]))\n",
    "                error_test.append(smape_error(forecasts, df_test[cfip]))\n",
    "                \n",
    "            except:\n",
    "                error_train.append(201)\n",
    "                error_test.append(201)\n",
    "                \n",
    "        i+=1\n",
    "        print(i, len(error_train), len(error_test), len(pdq_comb))\n",
    "        \n",
    "        idx = error_test.index(min(error_test))\n",
    "        df.loc[cfip, :] = [error_train[idx]] + [error_test[idx]] + list(pdq_comb[idx])\n",
    "        \n",
    "    return df\n",
    "\n",
    "df = best_pdq(X_train, train_pivoted, X_test)\n",
    "df.to_csv('./files/ARIMA_best_pdq_p0-2_d0-1_q0-2_all-cfips.csv', header=True, sep=\",\", index=True)\n"
   ]
  },
  {
   "cell_type": "code",
   "execution_count": null,
   "id": "042add08",
   "metadata": {},
   "outputs": [],
   "source": []
  },
  {
   "cell_type": "code",
   "execution_count": null,
   "id": "6543e5ba",
   "metadata": {},
   "outputs": [],
   "source": []
  },
  {
   "cell_type": "markdown",
   "id": "ea35bc37",
   "metadata": {},
   "source": [
    "### SARIMA Model"
   ]
  },
  {
   "cell_type": "code",
   "execution_count": null,
   "id": "47fd4629",
   "metadata": {},
   "outputs": [],
   "source": [
    "model_sarima = SARIMAX(X_train[42101], order=([9],1,0), seasonal_order=(0, 0, 1, 12)).fit()\n",
    "model_sarima.summary()"
   ]
  },
  {
   "cell_type": "code",
   "execution_count": null,
   "id": "fd54e7ad",
   "metadata": {},
   "outputs": [],
   "source": [
    "pred = model_sarima.predict()\n",
    "residuals = X_train[42101] - pred\n",
    "fore = model_sarima.predict(start=len(X_train[42101]), end=(len(train_pivoted[42101])-1))\n",
    "print(fore)"
   ]
  },
  {
   "cell_type": "code",
   "execution_count": null,
   "id": "f9bfdbe3",
   "metadata": {},
   "outputs": [],
   "source": [
    "X_train[42101].plot(**plot_params)\n",
    "X_test[42101].plot(**plot_params)\n",
    "pred[1:].plot()\n",
    "fore.plot(color='C1')\n",
    "plt.show()"
   ]
  },
  {
   "cell_type": "code",
   "execution_count": null,
   "id": "b9968133",
   "metadata": {},
   "outputs": [],
   "source": []
  },
  {
   "cell_type": "code",
   "execution_count": null,
   "id": "1cf65b7d",
   "metadata": {},
   "outputs": [],
   "source": []
  },
  {
   "cell_type": "code",
   "execution_count": null,
   "id": "636bd453",
   "metadata": {},
   "outputs": [],
   "source": []
  },
  {
   "cell_type": "code",
   "execution_count": null,
   "id": "426df44e",
   "metadata": {},
   "outputs": [],
   "source": []
  },
  {
   "cell_type": "code",
   "execution_count": null,
   "id": "55e86222",
   "metadata": {},
   "outputs": [],
   "source": []
  },
  {
   "cell_type": "code",
   "execution_count": null,
   "id": "60634a99",
   "metadata": {},
   "outputs": [],
   "source": [
    "df1 = pd.read_csv('./files/ARIMA_best_pqd_p1-7_q1-7_d1-7_range_pt0_600.csv', index_col='cfips').dropna()\n",
    "for i in df1.columns[:-1]: df1[i] = df1[i].astype(np.int32)\n",
    "\n",
    "df2 = pd.read_csv('./files/ARIMA_best_pqd_p1-7_q1-7_d1-7_range_pt600_1200.csv', index_col='cfips').dropna()\n",
    "for i in df2.columns[:-1]: df2[i] = df2[i].astype(np.int32)\n",
    "\n",
    "df3 = pd.read_csv('./files/ARIMA_best_pqd_p1-7_q1-7_d1-7_range_pt1200_end.csv', index_col='cfips').dropna()\n",
    "for i in df3.columns[:-1]: df3[i] = df3[i].astype(np.int32)\n",
    "\n",
    "df_all = pd.concat([df1, df2, df3], axis=0)\n",
    "df_all = df_all.rename(columns={'q': 'd', 'd': 'q'})\n",
    "df_all.to_csv('./files/ARIMA_best_pdq_p1-7_d1-7_q1-7_all-cfips.csv', header=True, sep=\",\", index=True)\n"
   ]
  },
  {
   "cell_type": "code",
   "execution_count": null,
   "id": "8ee0f0ea",
   "metadata": {},
   "outputs": [],
   "source": []
  },
  {
   "cell_type": "code",
   "execution_count": null,
   "id": "036f068e",
   "metadata": {},
   "outputs": [],
   "source": []
  },
  {
   "cell_type": "code",
   "execution_count": null,
   "id": "83de9381",
   "metadata": {},
   "outputs": [],
   "source": []
  },
  {
   "cell_type": "code",
   "execution_count": null,
   "id": "831eed0f",
   "metadata": {},
   "outputs": [],
   "source": []
  },
  {
   "cell_type": "code",
   "execution_count": null,
   "id": "f7f81ba2",
   "metadata": {},
   "outputs": [],
   "source": []
  },
  {
   "cell_type": "code",
   "execution_count": null,
   "id": "08c3eaf5",
   "metadata": {},
   "outputs": [],
   "source": []
  },
  {
   "cell_type": "code",
   "execution_count": null,
   "id": "9dfbfd96",
   "metadata": {},
   "outputs": [],
   "source": []
  },
  {
   "cell_type": "code",
   "execution_count": null,
   "id": "c03dd7c9",
   "metadata": {},
   "outputs": [],
   "source": []
  },
  {
   "cell_type": "code",
   "execution_count": null,
   "id": "50d5d521",
   "metadata": {},
   "outputs": [],
   "source": []
  },
  {
   "cell_type": "code",
   "execution_count": null,
   "id": "ccf3f71b",
   "metadata": {},
   "outputs": [],
   "source": []
  },
  {
   "cell_type": "code",
   "execution_count": null,
   "id": "634a0ed7",
   "metadata": {},
   "outputs": [],
   "source": []
  }
 ],
 "metadata": {
  "kernelspec": {
   "display_name": "Python 3 (ipykernel)",
   "language": "python",
   "name": "python3"
  },
  "language_info": {
   "codemirror_mode": {
    "name": "ipython",
    "version": 3
   },
   "file_extension": ".py",
   "mimetype": "text/x-python",
   "name": "python",
   "nbconvert_exporter": "python",
   "pygments_lexer": "ipython3",
   "version": "3.9.12"
  }
 },
 "nbformat": 4,
 "nbformat_minor": 5
}
